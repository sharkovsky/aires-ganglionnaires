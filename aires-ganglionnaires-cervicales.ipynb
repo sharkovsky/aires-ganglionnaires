{
 "cells": [
  {
   "cell_type": "markdown",
   "metadata": {},
   "source": [
    "![title](/home/francescocremonesiext/new-areas/imaging-directions.png)"
   ]
  },
  {
   "cell_type": "code",
   "execution_count": null,
   "metadata": {},
   "outputs": [
    {
     "ename": "",
     "evalue": "",
     "output_type": "error",
     "traceback": [
      "\u001b[1;31mRunning cells with 'fedpet (Python 3.10.16)' requires the ipykernel package.\n",
      "\u001b[1;31mRun the following command to install 'ipykernel' into the Python environment. \n",
      "\u001b[1;31mCommand: 'conda install -n fedpet ipykernel --update-deps --force-reinstall'"
     ]
    }
   ],
   "source": [
    "import numpy as np\n",
    "import nibabel as nib\n",
    "from skimage.morphology import binary_dilation, binary_erosion, label\n",
    "import os\n",
    "import matplotlib.pyplot as plt\n",
    "%matplotlib inline\n",
    "from typing import List, Dict\n",
    "from functools import reduce\n",
    "from tqdm import tqdm"
   ]
  },
  {
   "cell_type": "markdown",
   "metadata": {},
   "source": [
    "## Generic functions\n",
    "\n",
    "This section defines the functions needed for rule-based segmentation of aires ganglionnaires."
   ]
  },
  {
   "cell_type": "code",
   "execution_count": null,
   "metadata": {},
   "outputs": [],
   "source": [
    "def get_extremal_idx(organ_segmentation: 'ImageSegmentation', axis: int, get_largest_index: bool = True) -> int:\n",
    "    \"\"\"Gets the index corresponding to the first or last nonzero pixel on an axis.\n",
    "    \n",
    "    \n",
    "    Args:\n",
    "        organ_segmentation: the binary mask representing the segmentation of an organ\n",
    "        axis: the integer corresponding to the axis where we want to find the extreme point (e.g. 2 for z axis)\n",
    "        get_largest_index: boolean to get the largest or the smallest index on the projection\n",
    "\n",
    "    Examples:\n",
    "        for the z axis, the position of the highest pixel in the organ segmentation can be found with\n",
    "        ```\n",
    "        get_extremal_idx(organ_segmentation, 2, get_largest_index=True)\n",
    "        ```\n",
    "\n",
    "        while the following finds the position of the lowest pixel in the organ segmentation\n",
    "        ```\n",
    "        get_extremal_idx(organ_segmentation, 2, get_largest_index=False)\n",
    "        ```\n",
    "\n",
    "    Returns:\n",
    "        pixel_index: the integer index corresponding to the last (resp. first) nonzero pixel on the axis\n",
    "\n",
    "    \"\"\"\n",
    "    all_ax = [0,1,2]\n",
    "    all_ax.pop(axis)\n",
    "    projection = organ_segmentation\n",
    "    for ax_ in sorted(all_ax)[::-1]:\n",
    "        projection = projection.sum(ax_)\n",
    "    pixel_index = np.max(np.where(projection > 0)[0]) if get_largest_index else np.min(np.where(projection > 0)[0])\n",
    "    return pixel_index"
   ]
  },
  {
   "cell_type": "code",
   "execution_count": null,
   "metadata": {},
   "outputs": [],
   "source": [
    "def define_area_by_plane(organ_segmentation: 'ImageSegmentation', axis: int, get_largest_index: bool = True, one_after: bool = True) -> 'ImageSegmentation':\n",
    "    \"\"\"Returns a new mask that defines a 3d-rectangular area in the image.\n",
    "\n",
    "    The new mask is split in two areas, divided by the plane perpendicular to `axis` at the position \n",
    "    defined by `get_extremal_idx(mask, axis, get_largest_index)`.\n",
    "    \n",
    "    If `one_after` is True, all pixels with a larger index than the plane are set to 1, all the\n",
    "    others are set to 0. If `one_after` is False, the opposite happens.\n",
    "    \n",
    "    Args:\n",
    "        organ_segmentation: the binary mask representing the segmentation of an organ\n",
    "        axis: the integer corresponding to the axis where we want to find the extreme point (e.g. 2 for z axis)\n",
    "        get_largest_index: boolean to get the largest or the smallest index on the projection\n",
    "        one_after.\n",
    "\n",
    "    Returns:\n",
    "        area_mask: a binary image with the same shape as mask \n",
    "\n",
    "    \"\"\"\n",
    "    idx = get_extremal_idx(organ_segmentation, axis, get_largest_index)\n",
    "    area_mask = np.zeros_like(organ_segmentation)\n",
    "    selecting_slice = slice(idx, None) if one_after else slice(None, idx)\n",
    "    match axis:\n",
    "        case 0:\n",
    "            indices = (selecting_slice, Ellipsis)\n",
    "        case 1:\n",
    "            indices = (slice(None), selecting_slice, slice(None))\n",
    "        case 2:\n",
    "            indices = (Ellipsis, selecting_slice)\n",
    "    area_mask[indices] = 1\n",
    "    return area_mask\n",
    "         "
   ]
  },
  {
   "cell_type": "code",
   "execution_count": null,
   "metadata": {},
   "outputs": [],
   "source": [
    "specs_to_args = {\n",
    "    'inferior border': {'axis': 2, 'get_largest_index': False,  'one_after': True},\n",
    "    'superior border': {'axis': 2, 'get_largest_index': True,  'one_after': False},\n",
    "    'anterior border': {'axis': 1, 'get_largest_index': True,  'one_after': False},\n",
    "    'posterior border': {'axis': 1, 'get_largest_index': False,  'one_after': True},\n",
    "    'left border': {'axis': 0, 'get_largest_index': True,  'one_after': False},\n",
    "    'right border': {'axis': 0, 'get_largest_index': False,  'one_after': True},\n",
    "}"
   ]
  },
  {
   "cell_type": "code",
   "execution_count": null,
   "metadata": {},
   "outputs": [],
   "source": [
    "path_to_totalseg_segmentations = '/mnt/nas/database_CAL_immuno_lucie/pet_metrics_project/runs/autopet_control_patients/seg_and_metrics_run_2024_11_22/output/SEG'\n",
    "path_to_ct = '/mnt/nas/autoPET/data/FDG-PET-CT-Lesions_nifti_neg'\n",
    "\n",
    "\n",
    "totalseg_tasks = ['total', 'tissue', 'head_muscles', 'head_glands_cavities', 'headneck_bones_vessels', 'headneck_muscles']\n",
    "\n",
    "totalseg_structure_to_task = {struct: task for task in totalseg_tasks for struct in os.listdir(os.path.join(path_to_totalseg_segmentations, task, 'PETCT_1bdefef7d5_20060114'))}\n",
    "totalseg_structures = list(totalseg_structure_to_task.keys())"
   ]
  },
  {
   "cell_type": "code",
   "execution_count": null,
   "metadata": {},
   "outputs": [],
   "source": [
    "def define_area_by_specs(area_specs: Dict[str, List[Dict]], patient: str) -> 'ImageSegmentation':\n",
    "    \"\"\"Returns a new mask that defines an aire ganglionnaire based on a dictionary of specifications.\n",
    "\n",
    "    The specifications explain how each border of the aire ganglionnaire is defined. \n",
    "    The format of the specs is:\n",
    "    ```\n",
    "    {border of the aire ganglionnaire: [structure_specs]}\n",
    "    ```\n",
    "    Each `structure_spec` is itself a dictionary with the keys:\n",
    "    - structure: totalsegmentator filename\n",
    "    - border: which border of the totalsegmentator class defines the border of the aire ganglionnaire\n",
    "\n",
    "    Example:\n",
    "    ```\n",
    "    level_iia_left_specs = {\n",
    "        'inferior border': [{'border': ['inferior border'], 'structure': 'hyoid'}],\n",
    "        'superior border': [{'border': ['superior border'], 'structure': 'vertebrae_C1'}],\n",
    "        'posterior border': [{'border': ['posterior border'], 'structure': 'internal_jugular_vein_left'}],\n",
    "        'anterior border': [{'border': ['posterior border'], 'structure': 'submandibular_gland_left'}],\n",
    "        'left border': [{'border': ['left border'], 'structure': 'sternocleidomastoid_left'}],\n",
    "        'right border': [{'border': ['right border'], 'structure': 'internal_carotid_artery_left'}],\n",
    "    }\n",
    "```\n",
    "\"\"\"\n",
    "    def _gen_areas():\n",
    "        for border, specs in area_specs.items():\n",
    "            one_after_ = specs_to_args[border]['one_after']\n",
    "            axis_ = specs_to_args[border]['axis']\n",
    "            for organ_border_specs in specs:\n",
    "                seg_filename = organ_border_specs['structure'] + '.nii.gz'\n",
    "                for organ_border_name in organ_border_specs['border']:\n",
    "                    get_largest_index_ = specs_to_args[organ_border_name]['get_largest_index']\n",
    "                    seg_file_path = os.path.join(\n",
    "                        path_to_totalseg_segmentations,\n",
    "                        totalseg_structure_to_task[seg_filename],\n",
    "                        patient,\n",
    "                        seg_filename\n",
    "                    )\n",
    "                    organ_segmentation = nib.load(seg_file_path).get_fdata()\n",
    "                yield define_area_by_plane(organ_segmentation, axis_,get_largest_index_, one_after_)\n",
    "    return reduce(lambda x,y: x*y, _gen_areas())\n",
    "\n"
   ]
  },
  {
   "cell_type": "markdown",
   "metadata": {},
   "source": [
    "## Example"
   ]
  },
  {
   "cell_type": "code",
   "execution_count": null,
   "metadata": {},
   "outputs": [],
   "source": [
    "os.listdir(path_to_totalseg_segmentations)"
   ]
  },
  {
   "cell_type": "code",
   "execution_count": null,
   "metadata": {},
   "outputs": [],
   "source": [
    "patient_id = 'PETCT_1bdefef7d5'\n",
    "patient_id_with_date = 'PETCT_1bdefef7d5_20060114'"
   ]
  },
  {
   "cell_type": "code",
   "execution_count": null,
   "metadata": {},
   "outputs": [],
   "source": [
    "ct_img = nib.load(os.path.join(path_to_ct, patient_id, '01-14-2006-NA-PET-CT Ganzkoerper  primaer mit KM-32502/CT.nii.gz'))\n",
    "ct = ct_img.get_fdata()"
   ]
  },
  {
   "cell_type": "code",
   "execution_count": null,
   "metadata": {},
   "outputs": [],
   "source": [
    "hyoid = nib.load(os.path.join(path_to_totalseg_segmentations, 'headneck_bones_vessels', patient_id_with_date, 'hyoid.nii.gz')).get_fdata()"
   ]
  },
  {
   "cell_type": "markdown",
   "metadata": {},
   "source": [
    "Combine all totalsegmentator masks in order to remove them from the aire ganglionnaire later"
   ]
  },
  {
   "cell_type": "code",
   "execution_count": null,
   "metadata": {},
   "outputs": [],
   "source": [
    "combined = np.zeros_like(ct, dtype=np.int32)\n",
    "for structure, task in tqdm(totalseg_structure_to_task.items()):\n",
    "    if 'subcutaneous_fat' in structure:\n",
    "        print(f'Skipping {structure}')\n",
    "        continue\n",
    "    segdata = nib.load(os.path.join(\n",
    "                        path_to_totalseg_segmentations,\n",
    "                        task,\n",
    "                        patient_id_with_date,\n",
    "                        structure\n",
    "                    )).get_fdata()\n",
    "    combined = np.clip(combined + segdata.astype(np.int32), 0, 1)"
   ]
  },
  {
   "cell_type": "markdown",
   "metadata": {},
   "source": [
    "Stupid heuristic to identify background, can be improved in the future"
   ]
  },
  {
   "cell_type": "code",
   "execution_count": null,
   "metadata": {},
   "outputs": [],
   "source": [
    "ct_foreground = (ct > -600).astype(np.int32)"
   ]
  },
  {
   "cell_type": "markdown",
   "metadata": {},
   "source": [
    "## Rule-based segmentation of aires ganglionnaires"
   ]
  },
  {
   "cell_type": "markdown",
   "metadata": {},
   "source": [
    "### Level Ia - left"
   ]
  },
  {
   "cell_type": "code",
   "execution_count": null,
   "metadata": {},
   "outputs": [],
   "source": [
    "level_ia_left_specs = {\n",
    "    'inferior border': [{'border': ['inferior border'], 'structure': 'hyoid'}],\n",
    "    'superior border': [{'border': ['inferior border'], 'structure': 'skull'}],  # skull is totalsegmentator equivalent for jaw\n",
    "    'anterior border': [{'border': ['anterior border'], 'structure': 'digastric_left'}],\n",
    "    'posterior border': [{'border': ['posterior border'], 'structure': 'submandibular_gland_left'}],\n",
    "    'left border': [{'border': ['right border'], 'structure': 'digastric_left'}],\n",
    "    #'medial border': {??}\n",
    "}"
   ]
  },
  {
   "cell_type": "code",
   "execution_count": null,
   "metadata": {},
   "outputs": [],
   "source": [
    "level_ia_left = define_area_by_specs(level_ia_left_specs, patient_id_with_date)"
   ]
  },
  {
   "cell_type": "code",
   "execution_count": null,
   "metadata": {},
   "outputs": [],
   "source": [
    "level_ia_left.max()"
   ]
  },
  {
   "cell_type": "markdown",
   "metadata": {},
   "source": [
    "the maximum is 0, meaning that no area was found. This is likely due to the position of the patient which puts the hyoid and jaw in the wrong place"
   ]
  },
  {
   "cell_type": "markdown",
   "metadata": {},
   "source": [
    "### Level IIa - left"
   ]
  },
  {
   "cell_type": "code",
   "execution_count": null,
   "metadata": {},
   "outputs": [],
   "source": [
    "level_iia_left_specs = {\n",
    "    'inferior border': [{'border': ['inferior border'], 'structure': 'hyoid'}],\n",
    "    'superior border': [{'border': ['superior border'], 'structure': 'vertebrae_C1'}],\n",
    "    'posterior border': [{'border': ['posterior border'], 'structure': 'internal_jugular_vein_left'}],\n",
    "    'anterior border': [{'border': ['posterior border'], 'structure': 'submandibular_gland_left'}],\n",
    "    'left border': [{'border': ['left border'], 'structure': 'sternocleidomastoid_left'}],\n",
    "    'right border': [{'border': ['right border'], 'structure': 'internal_carotid_artery_left'}],\n",
    "}"
   ]
  },
  {
   "cell_type": "code",
   "execution_count": null,
   "metadata": {},
   "outputs": [],
   "source": [
    "level_iia_left = define_area_by_specs(level_iia_left_specs, patient_id_with_date)"
   ]
  },
  {
   "cell_type": "code",
   "execution_count": null,
   "metadata": {},
   "outputs": [],
   "source": [
    "# Remove all other segmented structures\n",
    "level_iia_left *= 1 - combined"
   ]
  },
  {
   "cell_type": "markdown",
   "metadata": {},
   "source": [
    "Some heuristics to improve "
   ]
  },
  {
   "cell_type": "code",
   "execution_count": null,
   "metadata": {},
   "outputs": [],
   "source": [
    "# Remove background -- ignored for now\n",
    "#level_iia_left *= ct_foreground"
   ]
  },
  {
   "cell_type": "code",
   "execution_count": null,
   "metadata": {},
   "outputs": [],
   "source": [
    "def extract_largest_connected_component(mask):\n",
    "    label_img  = label(mask)\n",
    "    max_vol = 0\n",
    "    max_label = -1\n",
    "    for lab_ in range(1,label_img.max()+1):\n",
    "        vol_ = (label_img == lab_).sum()\n",
    "        if vol_ > max_vol:\n",
    "            max_label = lab_\n",
    "            max_vol = vol_\n",
    "    return (label_img == max_label).astype(np.int32)"
   ]
  },
  {
   "cell_type": "code",
   "execution_count": null,
   "metadata": {},
   "outputs": [],
   "source": [
    "# Extract only the largest component - optionally perform erosion before and dilation after --  ignored for noe\n",
    "#level_iia_left = binary_erosion(level_iia_left)   # heuristic 3 iterations\n",
    "#level_iia_left = extract_largest_connected_component(level_iia_left)\n",
    "#level_iia_left = binary_dilation(level_iia_left)"
   ]
  },
  {
   "cell_type": "code",
   "execution_count": null,
   "metadata": {},
   "outputs": [],
   "source": [
    "ni_img = nib.Nifti1Image(level_iia_left, ct_img.affine, ct_img.header)\n",
    "nib.save(ni_img, f'/home/francescocremonesiext/new-areas/aires-ganglionnaires/output/autopet_control_patients/{patient_id_with_date}/level-iia-left.nii.gz')"
   ]
  },
  {
   "cell_type": "markdown",
   "metadata": {},
   "source": [
    "## Detailed examples"
   ]
  },
  {
   "cell_type": "markdown",
   "metadata": {},
   "source": [
    "### Extremal indices"
   ]
  },
  {
   "cell_type": "code",
   "execution_count": null,
   "metadata": {},
   "outputs": [],
   "source": [
    "# inferior border hyoid\n",
    "inf_hyoid_index = get_extremal_idx(hyoid, 2, get_largest_index=False)\n",
    "inf_hyoid_index"
   ]
  },
  {
   "cell_type": "code",
   "execution_count": null,
   "metadata": {},
   "outputs": [],
   "source": [
    "fig, ax = plt.subplots(figsize=(8,8))\n",
    "\n",
    "ax.imshow(ct[256,150:450,200:450].T, cmap='bone', origin='lower')\n",
    "ax.plot([0, 300], [inf_hyoid_index-200,inf_hyoid_index-200], color='red')\n",
    "ax.axis('off')"
   ]
  },
  {
   "cell_type": "markdown",
   "metadata": {},
   "source": [
    "### Define area by plane"
   ]
  },
  {
   "cell_type": "code",
   "execution_count": null,
   "metadata": {},
   "outputs": [],
   "source": [
    "# from inferior border hyoid towards the top \n",
    "area = define_area_by_plane(hyoid, 2, get_largest_index=False, one_after=True)"
   ]
  },
  {
   "cell_type": "code",
   "execution_count": null,
   "metadata": {},
   "outputs": [],
   "source": [
    "fig, ax = plt.subplots(figsize=(8,8))\n",
    "\n",
    "ax.imshow(ct[256,150:450,200:450].T, cmap='bone', origin='lower')\n",
    "ax.plot([0, 300], [inf_hyoid_index-200,inf_hyoid_index-200], color='red')\n",
    "img  = ax.imshow(area[256,150:450,200:450].T, cmap='seismic', origin='lower', alpha=0.5)\n",
    "ax.axis('off')\n",
    "fig.colorbar(img)"
   ]
  },
  {
   "cell_type": "code",
   "execution_count": null,
   "metadata": {},
   "outputs": [],
   "source": []
  },
  {
   "cell_type": "code",
   "execution_count": null,
   "metadata": {},
   "outputs": [],
   "source": []
  },
  {
   "cell_type": "code",
   "execution_count": null,
   "metadata": {},
   "outputs": [],
   "source": []
  },
  {
   "cell_type": "code",
   "execution_count": null,
   "metadata": {},
   "outputs": [],
   "source": []
  },
  {
   "cell_type": "code",
   "execution_count": null,
   "metadata": {},
   "outputs": [],
   "source": []
  },
  {
   "cell_type": "code",
   "execution_count": null,
   "metadata": {},
   "outputs": [],
   "source": []
  },
  {
   "cell_type": "code",
   "execution_count": null,
   "metadata": {},
   "outputs": [],
   "source": [
    "list(filter(lambda x: 'jugular' in x, totalseg_structure_to_task.keys()))"
   ]
  },
  {
   "cell_type": "code",
   "execution_count": null,
   "metadata": {},
   "outputs": [],
   "source": [
    "#os.makedirs(f'/home/francescocremonesiext/new-areas/aires-ganglionnaires/output/autopet_control_patients/{patient_id_with_date}')"
   ]
  },
  {
   "cell_type": "code",
   "execution_count": null,
   "metadata": {},
   "outputs": [],
   "source": []
  }
 ],
 "metadata": {
  "kernelspec": {
   "display_name": "fedpet",
   "language": "python",
   "name": "python3"
  },
  "language_info": {
   "codemirror_mode": {
    "name": "ipython",
    "version": 3
   },
   "file_extension": ".py",
   "mimetype": "text/x-python",
   "name": "python",
   "nbconvert_exporter": "python",
   "pygments_lexer": "ipython3",
   "version": "3.10.16"
  }
 },
 "nbformat": 4,
 "nbformat_minor": 2
}
