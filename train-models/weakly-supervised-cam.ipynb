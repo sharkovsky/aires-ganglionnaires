{
 "cells": [
  {
   "cell_type": "markdown",
   "metadata": {},
   "source": [
    "1. Create dataset with weak labels\n"
   ]
  },
  {
   "cell_type": "code",
   "execution_count": 1,
   "metadata": {},
   "outputs": [],
   "source": [
    "%load_ext autoreload\n",
    "%autoreload 2"
   ]
  },
  {
   "cell_type": "code",
   "execution_count": 9,
   "metadata": {},
   "outputs": [],
   "source": [
    "\n",
    "from monai.transforms import Resize, EnsureChannelFirst, Compose, AsDiscrete, ThresholdIntensity, NormalizeIntensity\n",
    "from monai.networks.nets import Classifier\n",
    "from torch.utils.data import DataLoader, Subset\n",
    "from torch.optim import Adam\n",
    "from torch.nn import BCELoss\n",
    "from torch.nn.functional import sigmoid, relu\n",
    "from torch import nan_to_num\n",
    "import torch\n",
    "from sklearn.model_selection import train_test_split\n",
    "import numpy as np\n",
    "from tqdm import tqdm\n",
    "import matplotlib.pyplot as plt\n",
    "import os\n",
    "%matplotlib inline"
   ]
  },
  {
   "cell_type": "code",
   "execution_count": 10,
   "metadata": {},
   "outputs": [],
   "source": [
    "path_to_aires_ganglionnaires = '/home/francescocremonesiext/new-areas/aires-ganglionnaires/output/cal_cancer_patients_bb/SEG'\n",
    "patient_list = os.listdir(path_to_aires_ganglionnaires)"
   ]
  },
  {
   "cell_type": "code",
   "execution_count": 11,
   "metadata": {},
   "outputs": [],
   "source": [
    "to_remove = []\n",
    "for i, pat in enumerate(patient_list):\n",
    "    if len(os.listdir(os.path.join(path_to_aires_ganglionnaires, pat))) < 15:\n",
    "        to_remove.append(pat)"
   ]
  },
  {
   "cell_type": "code",
   "execution_count": 12,
   "metadata": {},
   "outputs": [],
   "source": [
    "for rm in to_remove:\n",
    "    patient_list.pop(patient_list.index(rm))"
   ]
  },
  {
   "cell_type": "code",
   "execution_count": 13,
   "metadata": {},
   "outputs": [
    {
     "data": {
      "text/plain": [
       "324"
      ]
     },
     "execution_count": 13,
     "metadata": {},
     "output_type": "execute_result"
    }
   ],
   "source": [
    "len(patient_list)"
   ]
  },
  {
   "cell_type": "markdown",
   "metadata": {},
   "source": [
    "## Dataset definition"
   ]
  },
  {
   "cell_type": "code",
   "execution_count": 14,
   "metadata": {},
   "outputs": [],
   "source": [
    "from weakly_supervised_library import CAL_WSISDataset"
   ]
  },
  {
   "cell_type": "code",
   "execution_count": 15,
   "metadata": {},
   "outputs": [],
   "source": [
    "common_shape = (128,128,64)\n",
    "#common_shape = (32,32,64)\n",
    "window=350\n",
    "level=40\n",
    "whole_dataset = CAL_WSISDataset(\n",
    "    '/mnt/lvssd/common/AI4PET/data_v1.0.0/data/02_intermediate/CAL/CT',\n",
    "    path_to_aires_ganglionnaires,\n",
    "    patient_list,\n",
    "    'level_iii_left',\n",
    "    transforms = {\n",
    "        'data': Compose((\n",
    "                EnsureChannelFirst(channel_dim='no_channel'),\n",
    "                Resize(common_shape),\n",
    "                NormalizeIntensity(subtrahend=level-0.5*window, divisor=window),\n",
    "                ThresholdIntensity(1, above=False, cval=1),\n",
    "                ThresholdIntensity(0, above=True, cval=0),\n",
    "                )),\n",
    "        'label': Compose((\n",
    "                EnsureChannelFirst(channel_dim='no_channel'),\n",
    "                Resize(common_shape),\n",
    "                AsDiscrete(threshold=0.5),\n",
    "                )),\n",
    "    },\n",
    "    min_crop_shape=common_shape,\n",
    "    force_recompute_bbox=False,\n",
    "    crop_images=True,\n",
    "    only_crop_z=False\n",
    ")\n"
   ]
  },
  {
   "cell_type": "code",
   "execution_count": 16,
   "metadata": {},
   "outputs": [],
   "source": [
    "train_indices, test_indices = train_test_split(list(range(len(whole_dataset))), test_size=0.2, random_state=4242)"
   ]
  },
  {
   "cell_type": "code",
   "execution_count": 17,
   "metadata": {},
   "outputs": [],
   "source": [
    "train_indices = train_indices[:1]"
   ]
  },
  {
   "cell_type": "code",
   "execution_count": 18,
   "metadata": {},
   "outputs": [],
   "source": [
    "train_dataset = Subset(whole_dataset, train_indices)\n",
    "test_dataset = Subset(whole_dataset, test_indices)"
   ]
  },
  {
   "cell_type": "code",
   "execution_count": 19,
   "metadata": {},
   "outputs": [
    {
     "data": {
      "text/plain": [
       "(1, 65)"
      ]
     },
     "execution_count": 19,
     "metadata": {},
     "output_type": "execute_result"
    }
   ],
   "source": [
    "len(train_dataset), len(test_dataset)"
   ]
  },
  {
   "cell_type": "code",
   "execution_count": 20,
   "metadata": {},
   "outputs": [],
   "source": [
    "train_dataloader = DataLoader(\n",
    "    train_dataset,\n",
    "    batch_size=1,\n",
    "    shuffle=False,\n",
    "    num_workers=0,\n",
    ")\n",
    "\n",
    "test_dataloader = DataLoader(\n",
    "    test_dataset,\n",
    "    batch_size=1,\n",
    "    shuffle=False,  #True\n",
    "    num_workers=0,\n",
    ")"
   ]
  },
  {
   "cell_type": "code",
   "execution_count": null,
   "metadata": {},
   "outputs": [],
   "source": [
    "def mask_image()"
   ]
  },
  {
   "cell_type": "markdown",
   "metadata": {},
   "source": [
    "## Loss definition"
   ]
  },
  {
   "cell_type": "code",
   "execution_count": null,
   "metadata": {},
   "outputs": [],
   "source": []
  },
  {
   "cell_type": "code",
   "execution_count": null,
   "metadata": {},
   "outputs": [],
   "source": []
  },
  {
   "cell_type": "markdown",
   "metadata": {},
   "source": [
    "## Model"
   ]
  },
  {
   "cell_type": "code",
   "execution_count": 50,
   "metadata": {},
   "outputs": [],
   "source": [
    "model = UNet(\n",
    "    spatial_dims=3,\n",
    "    in_channels=1,\n",
    "    out_channels=1,\n",
    "    channels=(32,64,128), \n",
    "    strides=(2,2),\n",
    "    \n",
    ")"
   ]
  },
  {
   "cell_type": "markdown",
   "metadata": {},
   "source": [
    "## Optimizer"
   ]
  },
  {
   "cell_type": "code",
   "execution_count": 41,
   "metadata": {},
   "outputs": [],
   "source": [
    "optimizer = Adam(model.parameters(), lr=5e-5)"
   ]
  },
  {
   "cell_type": "markdown",
   "metadata": {},
   "source": [
    "## Train loop"
   ]
  },
  {
   "cell_type": "code",
   "execution_count": 42,
   "metadata": {},
   "outputs": [],
   "source": [
    "n_epochs = 40\n",
    "n_val_iter = 0\n",
    "n_updates_per_epoch = 1"
   ]
  },
  {
   "cell_type": "markdown",
   "metadata": {},
   "source": [
    "### Test fully supervised"
   ]
  },
  {
   "cell_type": "code",
   "execution_count": 220,
   "metadata": {},
   "outputs": [],
   "source": [
    "from torch.nn import BCELoss\n",
    "fully_supervised_ce = BCELoss()"
   ]
  },
  {
   "cell_type": "code",
   "execution_count": 205,
   "metadata": {},
   "outputs": [
    {
     "name": "stderr",
     "output_type": "stream",
     "text": [
      "  0%|          | 0/1 [00:04<?, ?it/s]\n"
     ]
    },
    {
     "ename": "NameError",
     "evalue": "name 'fully_supervised_ce' is not defined",
     "output_type": "error",
     "traceback": [
      "\u001b[0;31m---------------------------------------------------------------------------\u001b[0m",
      "\u001b[0;31mNameError\u001b[0m                                 Traceback (most recent call last)",
      "Cell \u001b[0;32mIn[205], line 21\u001b[0m\n\u001b[1;32m     19\u001b[0m pred \u001b[38;5;241m=\u001b[39m model(img)\n\u001b[1;32m     20\u001b[0m pred \u001b[38;5;241m=\u001b[39m sigmoid(pred)\n\u001b[0;32m---> 21\u001b[0m loss \u001b[38;5;241m=\u001b[39m \u001b[43mfully_supervised_ce\u001b[49m(pred,lab)\n\u001b[1;32m     22\u001b[0m \u001b[38;5;28mprint\u001b[39m(\u001b[38;5;124mf\u001b[39m\u001b[38;5;124m'\u001b[39m\u001b[38;5;124mCE Loss: \u001b[39m\u001b[38;5;132;01m{\u001b[39;00mloss\u001b[38;5;241m.\u001b[39mdetach()\u001b[38;5;241m.\u001b[39mnumpy()\u001b[38;5;132;01m}\u001b[39;00m\u001b[38;5;124m'\u001b[39m)\n\u001b[1;32m     23\u001b[0m loss\u001b[38;5;241m.\u001b[39mbackward()\n",
      "\u001b[0;31mNameError\u001b[0m: name 'fully_supervised_ce' is not defined"
     ]
    }
   ],
   "source": [
    "for epoch in range(n_epochs):\n",
    "    model.train()\n",
    "    data_iter = iter(train_dataloader)\n",
    "    n_train_iter_done = 0\n",
    "    train_loss = 0.\n",
    "    for _ in tqdm(range(n_updates_per_epoch)):\n",
    "        while(True):\n",
    "            try:\n",
    "                img, lab = next(data_iter)\n",
    "                break\n",
    "            except EOFError:\n",
    "                continue\n",
    "            except ValueError:\n",
    "                continue\n",
    "            except StopIteration:\n",
    "                break\n",
    "        \n",
    "        optimizer.zero_grad()\n",
    "        pred = model(img)\n",
    "        pred = sigmoid(pred)\n",
    "        loss = fully_supervised_ce(pred,lab)\n",
    "        print(f'CE Loss: {loss.detach().numpy()}')\n",
    "        loss.backward()\n",
    "        optimizer.step()\n",
    "        n_train_iter_done += 1\n",
    "        train_loss += loss.detach().numpy()\n",
    "    print(f'Epoch {epoch:02d} Train loss {train_loss/(1e-11+n_train_iter_done):0.8f}')\n",
    "    \n",
    "    model.eval()\n",
    "    with torch.no_grad():\n",
    "        print(f'Epoch {epoch:02d} Validation loss {dsc(pred,lab):0.8f}')\n",
    "        \n",
    "    #sz_loss_fn.step_barrier()\n",
    "    #tight_loss_fn.step_barrier()\n",
    "    \n"
   ]
  },
  {
   "cell_type": "code",
   "execution_count": null,
   "metadata": {},
   "outputs": [],
   "source": []
  },
  {
   "cell_type": "markdown",
   "metadata": {},
   "source": [
    "### Test overfit"
   ]
  },
  {
   "cell_type": "code",
   "execution_count": 43,
   "metadata": {},
   "outputs": [],
   "source": [
    "from collections import defaultdict"
   ]
  },
  {
   "cell_type": "code",
   "execution_count": 44,
   "metadata": {},
   "outputs": [],
   "source": [
    "loss_lambda = 1"
   ]
  },
  {
   "cell_type": "code",
   "execution_count": 45,
   "metadata": {},
   "outputs": [
    {
     "name": "stderr",
     "output_type": "stream",
     "text": [
      "  0%|          | 0/1 [00:00<?, ?it/s]"
     ]
    },
    {
     "name": "stderr",
     "output_type": "stream",
     "text": [
      "  0%|          | 0/1 [02:00<?, ?it/s]\n"
     ]
    },
    {
     "ename": "TypeError",
     "evalue": "Log_barrier_emptyness_constraint.__call__() missing 1 required positional argument: 'bbox_coords'",
     "output_type": "error",
     "traceback": [
      "\u001b[0;31m---------------------------------------------------------------------------\u001b[0m",
      "\u001b[0;31mTypeError\u001b[0m                                 Traceback (most recent call last)",
      "Cell \u001b[0;32mIn[45], line 37\u001b[0m\n\u001b[1;32m     34\u001b[0m \u001b[38;5;66;03m#print(f'TP loss: {tp_loss.detach().numpy()}')\u001b[39;00m\n\u001b[1;32m     35\u001b[0m losses[\u001b[38;5;124m'\u001b[39m\u001b[38;5;124mtp\u001b[39m\u001b[38;5;124m'\u001b[39m]\u001b[38;5;241m.\u001b[39mappend(tp_loss\u001b[38;5;241m.\u001b[39mdetach()\u001b[38;5;241m.\u001b[39mnumpy())\n\u001b[0;32m---> 37\u001b[0m ec_loss \u001b[38;5;241m=\u001b[39m \u001b[43memptyness_constraint_fn\u001b[49m\u001b[43m(\u001b[49m\u001b[43mpred\u001b[49m\u001b[43m,\u001b[49m\u001b[43mlab\u001b[49m\u001b[43m)\u001b[49m\u001b[38;5;241m.\u001b[39mmean()\n\u001b[1;32m     38\u001b[0m \u001b[38;5;66;03m#print(f'EC loss: {ec_loss.detach().numpy()}')\u001b[39;00m\n\u001b[1;32m     39\u001b[0m losses[\u001b[38;5;124m'\u001b[39m\u001b[38;5;124mec\u001b[39m\u001b[38;5;124m'\u001b[39m]\u001b[38;5;241m.\u001b[39mappend(ec_loss\u001b[38;5;241m.\u001b[39mdetach()\u001b[38;5;241m.\u001b[39mnumpy())\n",
      "\u001b[0;31mTypeError\u001b[0m: Log_barrier_emptyness_constraint.__call__() missing 1 required positional argument: 'bbox_coords'"
     ]
    }
   ],
   "source": [
    "losses = defaultdict(lambda: [])\n",
    "\n",
    "for epoch in range(n_epochs):\n",
    "    model.train()\n",
    "    data_iter = iter(train_dataloader)\n",
    "    n_train_iter_done = 0\n",
    "    train_loss = 0.\n",
    "    for _ in tqdm(range(n_updates_per_epoch)):\n",
    "        while(True):\n",
    "            try:\n",
    "                img, lab = next(data_iter)\n",
    "                break\n",
    "            except EOFError:\n",
    "                continue\n",
    "            except ValueError:\n",
    "                continue\n",
    "            except StopIteration:\n",
    "                break\n",
    "        with torch.no_grad():\n",
    "            bbox_coords = CAL_WSISDataset.get_bbox_and_collate(lab)\n",
    "        optimizer.zero_grad()\n",
    "        pred = model(img)\n",
    "        pred = sigmoid(pred)\n",
    "        #ce_loss = ce_loss_fn(pred, lab)\n",
    "        #ce_loss = ce_loss.mean()\n",
    "        #print(f'CE Loss: {ce_loss.detach().numpy()}')\n",
    "        #losses['ce'].append(ce_loss.detach().numpy())\n",
    "        \n",
    "        sz_loss = loss_lambda*sz_loss_fn(pred, lab).mean()\n",
    "        #print(f'SZ loss: {sz_loss.detach().numpy()}')\n",
    "        losses['sz'].append(sz_loss.detach().numpy())\n",
    "\n",
    "        tp_loss = loss_lambda*tight_loss_fn(pred, lab, bbox_coords).mean()\n",
    "        #print(f'TP loss: {tp_loss.detach().numpy()}')\n",
    "        losses['tp'].append(tp_loss.detach().numpy())\n",
    "\n",
    "        ec_loss = emptyness_constraint_fn(pred,lab).mean()\n",
    "        #print(f'EC loss: {ec_loss.detach().numpy()}')\n",
    "        losses['ec'].append(ec_loss.detach().numpy())\n",
    "\n",
    "        loss = sz_loss + tp_loss + ec_loss  #ce_loss + sz_loss + tp_loss + ec_loss\n",
    "        loss.backward()\n",
    "        optimizer.step()\n",
    "        n_train_iter_done += 1\n",
    "        train_loss += loss.detach().numpy()\n",
    "    print(f'Epoch {epoch:02d} Train loss {train_loss/(1e-11+n_train_iter_done):0.8f}')\n",
    "    \n",
    "    model.eval()\n",
    "    with torch.no_grad():\n",
    "        print(f'Epoch {epoch:02d} Validation loss {dsc(pred,lab):0.8f}')\n",
    "        losses['val'].append(dsc(pred,lab))\n",
    "        \n",
    "    #sz_loss_fn.step_barrier()\n",
    "    #tight_loss_fn.step_barrier()\n",
    "    \n"
   ]
  },
  {
   "cell_type": "code",
   "execution_count": null,
   "metadata": {},
   "outputs": [
    {
     "data": {
      "text/plain": [
       "<matplotlib.legend.Legend at 0x7fa20e6af550>"
      ]
     },
     "execution_count": 27,
     "metadata": {},
     "output_type": "execute_result"
    },
    {
     "data": {
      "image/png": "[encoded data removed]",
      "text/plain": [
       "<Figure size 640x480 with 1 Axes>"
      ]
     },
     "metadata": {},
     "output_type": "display_data"
    }
   ],
   "source": [
    "for lname, l in losses.items():\n",
    "    #if lname == 'val':\n",
    "    #    continue\n",
    "    plt.plot(l, label=lname)\n",
    "plt.legend()"
   ]
  },
  {
   "cell_type": "code",
   "execution_count": null,
   "metadata": {},
   "outputs": [
    {
     "data": {
      "text/plain": [
       "<matplotlib.legend.Legend at 0x7f1cc8866f80>"
      ]
     },
     "execution_count": 274,
     "metadata": {},
     "output_type": "execute_result"
    },
    {
     "data": {
      "image/png": "[encoded data removed]",
      "text/plain": [
       "<Figure size 640x480 with 1 Axes>"
      ]
     },
     "metadata": {},
     "output_type": "display_data"
    }
   ],
   "source": [
    "plt.plot(losses['sz'], label='sz')\n",
    "plt.plot(losses['tp'], label='tp')\n",
    "plt.legend()"
   ]
  },
  {
   "cell_type": "code",
   "execution_count": null,
   "metadata": {},
   "outputs": [],
   "source": []
  },
  {
   "cell_type": "markdown",
   "metadata": {},
   "source": [
    "### Test full training loop"
   ]
  },
  {
   "cell_type": "code",
   "execution_count": 127,
   "metadata": {},
   "outputs": [
    {
     "name": "stderr",
     "output_type": "stream",
     "text": [
      "0it [00:00, ?it/s]\n"
     ]
    },
    {
     "name": "stdout",
     "output_type": "stream",
     "text": [
      "Epoch 00 Validation loss 0.00000000\n"
     ]
    },
    {
     "name": "stderr",
     "output_type": "stream",
     "text": [
      "  0%|          | 0/1 [00:00<?, ?it/s]"
     ]
    },
    {
     "name": "stdout",
     "output_type": "stream",
     "text": [
      "CE Loss: 0.8647768497467041\n",
      "SZ loss: 0.054856041604280474\n",
      "TP loss: 0.0002901477855630219\n",
      "EC loss: 3.4878313541412354\n"
     ]
    },
    {
     "name": "stderr",
     "output_type": "stream",
     "text": [
      "100%|██████████| 1/1 [00:17<00:00, 17.79s/it]\n"
     ]
    },
    {
     "name": "stdout",
     "output_type": "stream",
     "text": [
      "Epoch 00 Train loss 4.40775439\n"
     ]
    },
    {
     "name": "stderr",
     "output_type": "stream",
     "text": [
      "0it [00:00, ?it/s]\n"
     ]
    },
    {
     "name": "stdout",
     "output_type": "stream",
     "text": [
      "Epoch 01 Validation loss 0.00000000\n"
     ]
    },
    {
     "name": "stderr",
     "output_type": "stream",
     "text": [
      "  0%|          | 0/1 [00:00<?, ?it/s]"
     ]
    },
    {
     "name": "stdout",
     "output_type": "stream",
     "text": [
      "CE Loss: 0.8226252794265747\n",
      "SZ loss: 0.0586116172850132\n",
      "TP loss: 0.0003135971201118082\n",
      "EC loss: 3.412274122238159\n"
     ]
    },
    {
     "name": "stderr",
     "output_type": "stream",
     "text": [
      "100%|██████████| 1/1 [00:21<00:00, 21.25s/it]\n"
     ]
    },
    {
     "name": "stdout",
     "output_type": "stream",
     "text": [
      "Epoch 01 Train loss 4.29382462\n"
     ]
    },
    {
     "name": "stderr",
     "output_type": "stream",
     "text": [
      "0it [00:00, ?it/s]\n"
     ]
    },
    {
     "name": "stdout",
     "output_type": "stream",
     "text": [
      "Epoch 02 Validation loss 0.00000000\n"
     ]
    },
    {
     "name": "stderr",
     "output_type": "stream",
     "text": [
      "  0%|          | 0/1 [00:00<?, ?it/s]"
     ]
    },
    {
     "name": "stdout",
     "output_type": "stream",
     "text": [
      "CE Loss: 0.7851669192314148\n",
      "SZ loss: 0.06224688658714295\n",
      "TP loss: 0.0003419492277316749\n",
      "EC loss: 3.3246567249298096\n"
     ]
    },
    {
     "name": "stderr",
     "output_type": "stream",
     "text": [
      "100%|██████████| 1/1 [00:21<00:00, 21.87s/it]\n"
     ]
    },
    {
     "name": "stdout",
     "output_type": "stream",
     "text": [
      "Epoch 02 Train loss 4.17241248\n"
     ]
    },
    {
     "name": "stderr",
     "output_type": "stream",
     "text": [
      "0it [00:00, ?it/s]\n"
     ]
    },
    {
     "name": "stdout",
     "output_type": "stream",
     "text": [
      "Epoch 03 Validation loss 0.00000000\n"
     ]
    },
    {
     "name": "stderr",
     "output_type": "stream",
     "text": [
      "  0%|          | 0/1 [00:00<?, ?it/s]"
     ]
    },
    {
     "name": "stdout",
     "output_type": "stream",
     "text": [
      "CE Loss: 0.7476335167884827\n",
      "SZ loss: 0.06636380382776261\n",
      "TP loss: 0.00037301777047105134\n",
      "EC loss: 3.2492618560791016\n"
     ]
    },
    {
     "name": "stderr",
     "output_type": "stream",
     "text": [
      "100%|██████████| 1/1 [00:14<00:00, 14.54s/it]\n"
     ]
    },
    {
     "name": "stdout",
     "output_type": "stream",
     "text": [
      "Epoch 03 Train loss 4.06363219\n"
     ]
    },
    {
     "name": "stderr",
     "output_type": "stream",
     "text": [
      "0it [00:00, ?it/s]\n"
     ]
    },
    {
     "name": "stdout",
     "output_type": "stream",
     "text": [
      "Epoch 04 Validation loss 0.00000000\n"
     ]
    },
    {
     "name": "stderr",
     "output_type": "stream",
     "text": [
      "  0%|          | 0/1 [00:00<?, ?it/s]"
     ]
    },
    {
     "name": "stdout",
     "output_type": "stream",
     "text": [
      "CE Loss: 0.7178901433944702\n",
      "SZ loss: 0.0709508394420147\n",
      "TP loss: 0.0004074581083841622\n",
      "EC loss: 3.1826171875\n"
     ]
    },
    {
     "name": "stderr",
     "output_type": "stream",
     "text": [
      "100%|██████████| 1/1 [00:13<00:00, 13.51s/it]\n"
     ]
    },
    {
     "name": "stdout",
     "output_type": "stream",
     "text": [
      "Epoch 04 Train loss 3.97186563\n"
     ]
    },
    {
     "name": "stderr",
     "output_type": "stream",
     "text": [
      "0it [00:00, ?it/s]\n"
     ]
    },
    {
     "name": "stdout",
     "output_type": "stream",
     "text": [
      "Epoch 05 Validation loss 0.00000000\n"
     ]
    },
    {
     "name": "stderr",
     "output_type": "stream",
     "text": [
      "  0%|          | 0/1 [00:00<?, ?it/s]"
     ]
    },
    {
     "name": "stdout",
     "output_type": "stream",
     "text": [
      "CE Loss: 0.6908506751060486\n",
      "SZ loss: 0.07611688922643661\n",
      "TP loss: 0.0004456175083760172\n",
      "EC loss: 3.1255884170532227\n"
     ]
    },
    {
     "name": "stderr",
     "output_type": "stream",
     "text": [
      "100%|██████████| 1/1 [00:15<00:00, 15.52s/it]\n"
     ]
    },
    {
     "name": "stdout",
     "output_type": "stream",
     "text": [
      "Epoch 05 Train loss 3.89300160\n"
     ]
    },
    {
     "name": "stderr",
     "output_type": "stream",
     "text": [
      "0it [00:00, ?it/s]\n"
     ]
    },
    {
     "name": "stdout",
     "output_type": "stream",
     "text": [
      "Epoch 06 Validation loss 0.00000000\n"
     ]
    },
    {
     "name": "stderr",
     "output_type": "stream",
     "text": [
      "  0%|          | 0/1 [00:00<?, ?it/s]"
     ]
    },
    {
     "name": "stdout",
     "output_type": "stream",
     "text": [
      "CE Loss: 0.6678215265274048\n",
      "SZ loss: 0.08198553016483784\n",
      "TP loss: 0.000488018587930128\n",
      "EC loss: 3.0788066387176514\n"
     ]
    },
    {
     "name": "stderr",
     "output_type": "stream",
     "text": [
      "100%|██████████| 1/1 [00:15<00:00, 15.74s/it]\n"
     ]
    },
    {
     "name": "stdout",
     "output_type": "stream",
     "text": [
      "Epoch 06 Train loss 3.82910171\n"
     ]
    },
    {
     "name": "stderr",
     "output_type": "stream",
     "text": [
      "0it [00:00, ?it/s]\n"
     ]
    },
    {
     "name": "stdout",
     "output_type": "stream",
     "text": [
      "Epoch 07 Validation loss 0.00000000\n"
     ]
    },
    {
     "name": "stderr",
     "output_type": "stream",
     "text": [
      "  0%|          | 0/1 [00:00<?, ?it/s]"
     ]
    },
    {
     "name": "stdout",
     "output_type": "stream",
     "text": [
      "CE Loss: 0.6486358046531677\n",
      "SZ loss: 0.08852543978095055\n",
      "TP loss: 0.0005346629768610001\n",
      "EC loss: 3.038325548171997\n"
     ]
    },
    {
     "name": "stderr",
     "output_type": "stream",
     "text": [
      "100%|██████████| 1/1 [00:13<00:00, 13.81s/it]\n"
     ]
    },
    {
     "name": "stdout",
     "output_type": "stream",
     "text": [
      "Epoch 07 Train loss 3.77602146\n"
     ]
    },
    {
     "name": "stderr",
     "output_type": "stream",
     "text": [
      "0it [00:00, ?it/s]\n"
     ]
    },
    {
     "name": "stdout",
     "output_type": "stream",
     "text": [
      "Epoch 08 Validation loss 0.00000000\n"
     ]
    },
    {
     "name": "stderr",
     "output_type": "stream",
     "text": [
      "  0%|          | 0/1 [00:00<?, ?it/s]"
     ]
    },
    {
     "name": "stdout",
     "output_type": "stream",
     "text": [
      "CE Loss: 0.6322018504142761\n",
      "SZ loss: 0.09567449194192887\n",
      "TP loss: 0.0005857544601894915\n",
      "EC loss: 3.0005221366882324\n"
     ]
    },
    {
     "name": "stderr",
     "output_type": "stream",
     "text": [
      "100%|██████████| 1/1 [00:22<00:00, 22.59s/it]\n"
     ]
    },
    {
     "name": "stdout",
     "output_type": "stream",
     "text": [
      "Epoch 08 Train loss 3.72898423\n"
     ]
    },
    {
     "name": "stderr",
     "output_type": "stream",
     "text": [
      "0it [00:00, ?it/s]\n"
     ]
    },
    {
     "name": "stdout",
     "output_type": "stream",
     "text": [
      "Epoch 09 Validation loss 0.00000000\n"
     ]
    },
    {
     "name": "stderr",
     "output_type": "stream",
     "text": [
      "  0%|          | 0/1 [00:00<?, ?it/s]"
     ]
    },
    {
     "name": "stdout",
     "output_type": "stream",
     "text": [
      "CE Loss: 0.6171553730964661\n",
      "SZ loss: 0.10339358685612679\n",
      "TP loss: 0.0006420811987482011\n",
      "EC loss: 2.9632411003112793\n"
     ]
    },
    {
     "name": "stderr",
     "output_type": "stream",
     "text": [
      "100%|██████████| 1/1 [00:21<00:00, 21.88s/it]"
     ]
    },
    {
     "name": "stdout",
     "output_type": "stream",
     "text": [
      "Epoch 09 Train loss 3.68443214\n"
     ]
    },
    {
     "name": "stderr",
     "output_type": "stream",
     "text": [
      "\n"
     ]
    }
   ],
   "source": [
    "for epoch in range(n_epochs):\n",
    "    val_iter = iter(test_dataloader)\n",
    "    val_loss = 0.\n",
    "    model.eval()\n",
    "    n_val_iter_done = 0\n",
    "    with torch.no_grad():\n",
    "        for _ in tqdm(range(n_val_iter)):\n",
    "            while(True):\n",
    "                try:\n",
    "                    img, lab = next(val_iter)\n",
    "                    break\n",
    "                except EOFError:\n",
    "                    continue\n",
    "            n_val_iter_done += 1\n",
    "            pred = model(img)\n",
    "            val_loss += dsc(pred,lab)\n",
    "    print(f'Epoch {epoch:02d} Validation loss {val_loss/(1e-11+n_val_iter_done):0.8f}')\n",
    "\n",
    "    model.train()\n",
    "    data_iter = iter(train_dataloader)\n",
    "    n_train_iter_done = 0\n",
    "    train_loss = 0.\n",
    "    for _ in tqdm(range(n_updates_per_epoch)):\n",
    "        while(True):\n",
    "            try:\n",
    "                img, lab = next(data_iter)\n",
    "                break\n",
    "            except EOFError:\n",
    "                continue\n",
    "            except ValueError:\n",
    "                continue\n",
    "            except StopIteration:\n",
    "                break\n",
    "        with torch.no_grad():\n",
    "            bbox_coords = CAL_WSISDataset.get_bbox_and_collate(lab)\n",
    "        optimizer.zero_grad()\n",
    "        pred = model(img)\n",
    "        pred = sigmoid(pred)\n",
    "        ce_loss = ce_loss_fn(pred, lab)\n",
    "        ce_loss = ce_loss.mean()\n",
    "        print(f'CE Loss: {ce_loss.detach().numpy()}')\n",
    "        sz_loss = loss_lambda*sz_loss_fn(pred, lab).mean()\n",
    "        print(f'SZ loss: {sz_loss.detach().numpy()}')\n",
    "        tp_loss = loss_lambda*tight_loss_fn(pred, lab, bbox_coords).mean()\n",
    "        print(f'TP loss: {tp_loss.detach().numpy()}')\n",
    "        ec_loss = emptyness_constraint_fn(pred,lab).mean()\n",
    "        print(f'EC loss: {ec_loss.detach().numpy()}')\n",
    "        loss = ce_loss + sz_loss + tp_loss + ec_loss\n",
    "        loss.backward()\n",
    "        optimizer.step()\n",
    "        n_train_iter_done += 1\n",
    "        train_loss += loss.detach().numpy()\n",
    "    print(f'Epoch {epoch:02d} Train loss {train_loss/(1e-11+n_train_iter_done):0.8f}')\n",
    "        \n",
    "    sz_loss_fn.step_barrier()\n",
    "    tight_loss_fn.step_barrier()\n",
    "    \n"
   ]
  },
  {
   "cell_type": "code",
   "execution_count": null,
   "metadata": {},
   "outputs": [],
   "source": []
  },
  {
   "cell_type": "markdown",
   "metadata": {},
   "source": [
    "## Save model"
   ]
  },
  {
   "cell_type": "code",
   "execution_count": 116,
   "metadata": {},
   "outputs": [],
   "source": [
    "with open(f'weakly_supervised_model_overfit_fullysupervised.pth', 'wb') as f:\n",
    "    torch.save(model, f)"
   ]
  },
  {
   "cell_type": "code",
   "execution_count": 28,
   "metadata": {},
   "outputs": [],
   "source": [
    "with open(f'weakly_supervised_model_overfit_fullysupervised.pth', 'rb') as f:\n",
    "#with open(f'weakly_supervised_model_16.pth', 'rb') as f:\n",
    "    model = torch.load(f, weights_only=False)"
   ]
  },
  {
   "cell_type": "code",
   "execution_count": null,
   "metadata": {},
   "outputs": [],
   "source": []
  },
  {
   "cell_type": "markdown",
   "metadata": {},
   "source": [
    "## Inference on trained model"
   ]
  },
  {
   "cell_type": "code",
   "execution_count": 18,
   "metadata": {},
   "outputs": [],
   "source": [
    "# for validation\n",
    "dsc = DiceLoss()\n",
    "bce = BCELoss()"
   ]
  },
  {
   "cell_type": "code",
   "execution_count": 19,
   "metadata": {},
   "outputs": [],
   "source": [
    "#val_iter = iter(train_dataloader)\n",
    "val_iter = iter(test_dataloader)"
   ]
  },
  {
   "cell_type": "code",
   "execution_count": 20,
   "metadata": {},
   "outputs": [
    {
     "name": "stdout",
     "output_type": "stream",
     "text": [
      "Validation loss 0.99987400 bce 0.66125512\n"
     ]
    }
   ],
   "source": [
    "model.eval()\n",
    "with torch.no_grad():\n",
    "    img, lab = next(val_iter)\n",
    "    pred = model(img)\n",
    "    pred = sigmoid(pred)\n",
    "    val_loss = dsc(pred,lab)\n",
    "    bce_loss = bce(pred,lab)\n",
    "    print(f'Validation loss {val_loss:0.8f} bce {bce_loss:0.8f}')"
   ]
  },
  {
   "cell_type": "code",
   "execution_count": 49,
   "metadata": {},
   "outputs": [],
   "source": [
    "pred = pred[0,...]\n",
    "img = img[0,...]\n",
    "lab = lab[0,...]"
   ]
  },
  {
   "cell_type": "code",
   "execution_count": 50,
   "metadata": {},
   "outputs": [
    {
     "data": {
      "text/plain": [
       "(metatensor(0.), metatensor(1.))"
      ]
     },
     "execution_count": 50,
     "metadata": {},
     "output_type": "execute_result"
    }
   ],
   "source": [
    "lab.min(), lab.max()"
   ]
  },
  {
   "cell_type": "code",
   "execution_count": 51,
   "metadata": {},
   "outputs": [
    {
     "data": {
      "text/plain": [
       "(metatensor(4.4485e-11), metatensor(0.0081))"
      ]
     },
     "execution_count": 51,
     "metadata": {},
     "output_type": "execute_result"
    }
   ],
   "source": [
    "pred.min(), pred.max()"
   ]
  },
  {
   "cell_type": "code",
   "execution_count": 52,
   "metadata": {},
   "outputs": [
    {
     "name": "stdout",
     "output_type": "stream",
     "text": [
      "0.008079998\n"
     ]
    },
    {
     "data": {
      "text/plain": [
       "<matplotlib.colorbar.Colorbar at 0x7f5b87443e80>"
      ]
     },
     "execution_count": 52,
     "metadata": {},
     "output_type": "execute_result"
    },
    {
     "data": {
      "image/png": "[encoded data removed]",
      "text/plain": [
       "<Figure size 1200x800 with 3 Axes>"
      ]
     },
     "metadata": {},
     "output_type": "display_data"
    }
   ],
   "source": [
    "fig, ax = plt.subplots(1,2,figsize=(12,8))\n",
    "\n",
    "npimg = img.detach().numpy().squeeze()\n",
    "nppred = pred.detach().numpy().squeeze()\n",
    "nplab = lab.detach().numpy().squeeze()\n",
    "\n",
    "#slice_ = np.where(nplab > 0)[2].max() + np.where(nplab > 0)[2].min()\n",
    "#slice_ = int(0.5*slice_)\n",
    "#slice_ = np.argmax(nppred.sum(axis=0).sum(axis=0))\n",
    "slice_ = np.argmax(nplab.sum(axis=0).sum(axis=0))\n",
    "#slice_ = np.where(nplab > 0)[2].min() + 5\n",
    "#slice_ = np.where(nplab > 0)[2].max() - 5\n",
    "\n",
    "print( nppred[:,:,slice_].max())\n",
    "\n",
    "ax[0].imshow(npimg[:,:,slice_], cmap='bone')\n",
    "ax[0].imshow(np.ma.masked_where(nplab[:,:,slice_] < 0.5, nplab[:,:,slice_]), cmap='winter', alpha=0.5, vmin=0., vmax=1., interpolation='none')\n",
    "\n",
    "ax[1].imshow(npimg[:,:,slice_], cmap='bone')\n",
    "im = ax[1].imshow(np.ma.masked_where(nppred[:,:,slice_] < 0.5, nppred[:,:,slice_]), cmap='winter', alpha=0.7, vmin=0., vmax=1., interpolation='none')\n",
    "\n",
    "fig.tight_layout()\n",
    "\n",
    "fig.subplots_adjust(right=0.8)\n",
    "cbar_ax = fig.add_axes([0.85, 0.2, 0.05, 0.5])\n",
    "fig.colorbar(im, cax=cbar_ax)"
   ]
  },
  {
   "cell_type": "code",
   "execution_count": 31,
   "metadata": {},
   "outputs": [
    {
     "data": {
      "text/plain": [
       "(torch.Size([1, 128, 128, 64]), torch.Size([1, 128, 128, 64]))"
      ]
     },
     "execution_count": 31,
     "metadata": {},
     "output_type": "execute_result"
    }
   ],
   "source": [
    "pred.shape, lab.shape"
   ]
  },
  {
   "cell_type": "code",
   "execution_count": 32,
   "metadata": {},
   "outputs": [
    {
     "data": {
      "text/plain": [
       "metatensor([[4.5336]], dtype=torch.float64)"
      ]
     },
     "execution_count": 32,
     "metadata": {},
     "output_type": "execute_result"
    }
   ],
   "source": [
    "\n",
    "with torch.no_grad():\n",
    "    l = sz_loss_fn(pred.unsqueeze(dim=0), lab.unsqueeze(dim=0))\n",
    "l"
   ]
  },
  {
   "cell_type": "code",
   "execution_count": 100,
   "metadata": {},
   "outputs": [
    {
     "data": {
      "text/plain": [
       "(807.5, 1160.3273, 3230.0)"
      ]
     },
     "execution_count": 100,
     "metadata": {},
     "output_type": "execute_result"
    }
   ],
   "source": [
    "pred_size = nppred_p.sum()\n",
    "target_size = nplab.sum()\n",
    "target_size*0.5, pred_size, target_size/0.5"
   ]
  },
  {
   "cell_type": "code",
   "execution_count": 97,
   "metadata": {},
   "outputs": [
    {
     "data": {
      "text/plain": [
       "(-352.8272705078125, 1.0, -1.173195723700619)"
      ]
     },
     "execution_count": 97,
     "metadata": {},
     "output_type": "execute_result"
    }
   ],
   "source": [
    "t_ = 5.\n",
    "z = 0.5*target_size - pred_size\n",
    "mask = (z <= -1./(t_*t_)).astype(np.float64)\n",
    "l1 = (-1./t_)*np.nan_to_num(np.log(-z))*mask\n",
    "z, mask, l1"
   ]
  },
  {
   "cell_type": "code",
   "execution_count": 98,
   "metadata": {},
   "outputs": [
    {
     "data": {
      "text/plain": [
       "(-352.8272705078125, 1.0, -1.173195723700619, -0.0)"
      ]
     },
     "execution_count": 98,
     "metadata": {},
     "output_type": "execute_result"
    }
   ],
   "source": [
    "t_ = 5.\n",
    "z = 0.5*target_size - pred_size\n",
    "mask = (z <= -1./(t_*t_)).astype(np.float64)\n",
    "l1 = (-1./t_)*np.nan_to_num(np.log(-z))*mask\n",
    "l2 = (t_*z - 1/t_*np.log(1./(t_*t_)) + 1./t_)*(1-mask)\n",
    "z, mask, l1, l2"
   ]
  },
  {
   "cell_type": "code",
   "execution_count": 99,
   "metadata": {},
   "outputs": [
    {
     "data": {
      "text/plain": [
       "(-2069.6727294921875, 1.0, -1.5270291544130858, -0.0)"
      ]
     },
     "execution_count": 99,
     "metadata": {},
     "output_type": "execute_result"
    }
   ],
   "source": [
    "t_ = 5.\n",
    "z = pred_size - target_size/0.5\n",
    "mask = (z <= -1./(t_*t_)).astype(np.float64)\n",
    "l1 = (-1./t_)*np.nan_to_num(np.log(-z))*mask\n",
    "l2 = (t_*z - 1/t_*np.log(1./(t_*t_)) + 1./t_)*(1-mask)\n",
    "z, mask, l1, l2\n"
   ]
  },
  {
   "cell_type": "code",
   "execution_count": null,
   "metadata": {},
   "outputs": [],
   "source": []
  },
  {
   "cell_type": "code",
   "execution_count": null,
   "metadata": {},
   "outputs": [],
   "source": [
    "class Log_barrier_extension:\n",
    "    def __init__(self, t, mu):\n",
    "        self.t= t\n",
    "        self.mu = mu\n",
    "\n",
    "    def __call__(self, z):\n",
    "        mask = (z <= -1./(self.t*self.t)).astype(torch.double)\n",
    "        return (-1./self.t)*nan_to_num(torch.log(-z))*mask + (self.t*z - 1/self.t*np.log(1./(self.t*self.t)) + 1./self.t)*(1-mask)\n",
    "    \n",
    "    def step(self):\n",
    "        self.t *= self.mu\n",
    "\n",
    "\n",
    "\n",
    "class Log_barrier_size_constraint_criterion:\n",
    "    def __init__(self, epsilon=0.5, t = 1., mu=1.):\n",
    "        self.epsilon = epsilon\n",
    "        self.barrier = Log_barrier_extension(t, mu)\n",
    "\n",
    "    def __call__(self, pred, target):\n",
    "        pred_size = pred.sum(axis=(2,3,4))\n",
    "        target_size = target.sum(axis=(2,3,4))\n",
    "        return self.barrier(self.epsilon*target_size - pred_size) + self.barrier(pred_size - target_size/self.epsilon)\n",
    "    \n",
    "    def step_barrier(self):\n",
    "        self.barrier.step()"
   ]
  },
  {
   "cell_type": "code",
   "execution_count": null,
   "metadata": {},
   "outputs": [],
   "source": []
  },
  {
   "cell_type": "code",
   "execution_count": 103,
   "metadata": {},
   "outputs": [
    {
     "data": {
      "text/plain": [
       "350.0"
      ]
     },
     "execution_count": 103,
     "metadata": {},
     "output_type": "execute_result"
    }
   ],
   "source": [
    "npimg.max()"
   ]
  },
  {
   "cell_type": "code",
   "execution_count": null,
   "metadata": {},
   "outputs": [
    {
     "data": {
      "text/plain": [
       "<matplotlib.image.AxesImage at 0x7f8009aad990>"
      ]
     },
     "execution_count": 105,
     "metadata": {},
     "output_type": "execute_result"
    },
    {
     "data": {
      "image/png": "[encoded data removed]",
      "text/plain": [
       "<Figure size 1200x800 with 2 Axes>"
      ]
     },
     "metadata": {},
     "output_type": "display_data"
    }
   ],
   "source": [
    "fig, ax = plt.subplots(1,2,figsize=(12,8))\n",
    "\n",
    "npimg = img.detach().numpy().squeeze()\n",
    "nppred_p = pred_p.detach().numpy().squeeze()\n",
    "nplab = lab.detach().numpy().squeeze()\n",
    "\n",
    "slice_ = np.where(nplab > 0)[2].max() + np.where(nplab > 0)[2].min()\n",
    "slice_ = int(0.5*slice_)\n",
    "\n",
    "\n",
    "ax[0].imshow(npimg[:,:,slice_], cmap='bone')\n",
    "ax[0].imshow(np.ma.masked_where(nplab[:,:,slice_] < 0.5, nplab[:,:,slice_]), cmap='winter', alpha=0.7, vmin=0., vmax=1.)\n",
    "\n",
    "ax[1].imshow(npimg[:,:,slice_], cmap='bone')\n",
    "ax[1].imshow(np.ma.masked_where(nppred_p[:,:,slice_] < 0.51, nppred_p[:,:,slice_]), cmap='winter', alpha=0.7, vmin=0., vmax=1.)"
   ]
  },
  {
   "cell_type": "code",
   "execution_count": null,
   "metadata": {},
   "outputs": [],
   "source": []
  },
  {
   "cell_type": "markdown",
   "metadata": {},
   "source": [
    "## Plot one image"
   ]
  },
  {
   "cell_type": "code",
   "execution_count": 234,
   "metadata": {},
   "outputs": [
    {
     "data": {
      "text/plain": [
       "'0007010_20200609'"
      ]
     },
     "execution_count": 234,
     "metadata": {},
     "output_type": "execute_result"
    }
   ],
   "source": [
    "whole_dataset.patients[test_indices[0]]"
   ]
  },
  {
   "cell_type": "code",
   "execution_count": 235,
   "metadata": {},
   "outputs": [],
   "source": [
    "val_iter = iter(test_dataloader)\n",
    "with torch.no_grad():\n",
    "    img, lab = next(val_iter)"
   ]
  },
  {
   "cell_type": "code",
   "execution_count": 236,
   "metadata": {},
   "outputs": [
    {
     "data": {
      "text/plain": [
       "[[42, 35, 0], [87, 92, 63]]"
      ]
     },
     "execution_count": 236,
     "metadata": {},
     "output_type": "execute_result"
    }
   ],
   "source": [
    "bbox_coords = CAL_WSISDataset.get_bbox(lab[0,0,...])\n",
    "bbox_coords"
   ]
  },
  {
   "cell_type": "code",
   "execution_count": 237,
   "metadata": {},
   "outputs": [
    {
     "data": {
      "text/plain": [
       "<matplotlib.colorbar.Colorbar at 0x7f2954fcec50>"
      ]
     },
     "execution_count": 237,
     "metadata": {},
     "output_type": "execute_result"
    },
    {
     "data": {
      "image/png": "[encoded data removed]",
      "text/plain": [
       "<Figure size 800x800 with 2 Axes>"
      ]
     },
     "metadata": {},
     "output_type": "display_data"
    }
   ],
   "source": [
    "fig, ax = plt.subplots(figsize=(8,8))\n",
    "\n",
    "npimg = img.detach().numpy().squeeze()\n",
    "nplab = lab.detach().numpy().squeeze()\n",
    "#bbox_coords = bbox_coords.detach().numpy().squeeze()\n",
    "\n",
    "#slice_ = np.where(nplab > 0)[2].max() + np.where(nplab > 0)[2].min()\n",
    "#slice_ = int(0.5*slice_)\n",
    "#slice_ = 0\n",
    "#slice_ = -1\n",
    "slice_ = np.argmax(nplab.sum(axis=0).sum(axis=0))\n",
    "\n",
    "ctplot = ax.imshow(npimg[:,:,slice_].T, cmap='bone')\n",
    "ax.imshow(np.ma.masked_where(nplab[:,:,slice_].T < 0.5, \n",
    "                             nplab[:,:,slice_].T), \n",
    "                             cmap='winter', alpha=0.6, vmin=0., vmax=1.)\n",
    "\n",
    "fig.colorbar(ctplot)"
   ]
  },
  {
   "cell_type": "code",
   "execution_count": 238,
   "metadata": {},
   "outputs": [
    {
     "data": {
      "text/plain": [
       "<matplotlib.colorbar.Colorbar at 0x7f2952b670a0>"
      ]
     },
     "execution_count": 238,
     "metadata": {},
     "output_type": "execute_result"
    },
    {
     "data": {
      "image/png": "[encoded data removed]",
      "text/plain": [
       "<Figure size 800x800 with 2 Axes>"
      ]
     },
     "metadata": {},
     "output_type": "display_data"
    }
   ],
   "source": [
    "fig, ax = plt.subplots(figsize=(8,8))\n",
    "\n",
    "npimg = img.detach().numpy().squeeze()\n",
    "nplab = lab.detach().numpy().squeeze()\n",
    "#bbox_coords = bbox_coords.detach().numpy().squeeze()\n",
    "\n",
    "#slice_ = np.where(nplab > 0)[2].max() + np.where(nplab > 0)[2].min()\n",
    "#slice_ = int(0.5*slice_)\n",
    "#slice_ = 0\n",
    "#slice_ = -1\n",
    "slice_ = np.argmax(nplab.sum(axis=0).sum(axis=0))\n",
    "\n",
    "ctplot = ax.imshow(npimg[bbox_coords[0][0]-20:bbox_coords[1][0]+20,bbox_coords[0][1]-20:bbox_coords[1][0]+20,slice_].T, cmap='bone')\n",
    "ax.imshow(np.ma.masked_where(nplab[bbox_coords[0][0]-20:bbox_coords[1][0]+20,bbox_coords[0][1]-20:bbox_coords[1][0]+20,slice_].T < 0.5, \n",
    "                             nplab[bbox_coords[0][0]-20:bbox_coords[1][0]+20,bbox_coords[0][1]-20:bbox_coords[1][0]+20,slice_].T), \n",
    "                             cmap='winter', alpha=0.6, vmin=0., vmax=1.)\n",
    "\n",
    "fig.colorbar(ctplot)"
   ]
  },
  {
   "cell_type": "code",
   "execution_count": 101,
   "metadata": {},
   "outputs": [
    {
     "data": {
      "text/plain": [
       "'0007010_20200609'"
      ]
     },
     "execution_count": 101,
     "metadata": {},
     "output_type": "execute_result"
    }
   ],
   "source": [
    "whole_dataset.patients[test_indices[0]]"
   ]
  },
  {
   "cell_type": "code",
   "execution_count": 102,
   "metadata": {},
   "outputs": [
    {
     "data": {
      "text/plain": [
       "0"
      ]
     },
     "execution_count": 102,
     "metadata": {},
     "output_type": "execute_result"
    }
   ],
   "source": [
    "slice_"
   ]
  },
  {
   "cell_type": "code",
   "execution_count": null,
   "metadata": {},
   "outputs": [],
   "source": []
  },
  {
   "cell_type": "markdown",
   "metadata": {},
   "source": [
    "## Test loss functions"
   ]
  },
  {
   "cell_type": "code",
   "execution_count": null,
   "metadata": {},
   "outputs": [
    {
     "name": "stdout",
     "output_type": "stream",
     "text": [
      "tensor([[[[[0.1968]],\n",
      "\n",
      "          [[0.0411]]]],\n",
      "\n",
      "\n",
      "\n",
      "        [[[[0.0694]],\n",
      "\n",
      "          [[0.0576]]]]], requires_grad=True)\n",
      "----\n",
      "tensor([[[[[1.]],\n",
      "\n",
      "          [[1.]]]],\n",
      "\n",
      "\n",
      "\n",
      "        [[[[1.]],\n",
      "\n",
      "          [[1.]]]]])\n"
     ]
    }
   ],
   "source": [
    "pred = torch.rand(size=(2,1,2,1,1)) - 0.5\n",
    "pred.requires_grad = True\n",
    "#target = torch.zeros_like(pred)\n",
    "#target[0,0,0,0,0] = 1.\n",
    "#target[1,0,0,:,0] = 1.\n",
    "target = (sigmoid(pred)>0.5).float()\n",
    "print(pred)\n",
    "print('----')\n",
    "print(target)"
   ]
  },
  {
   "cell_type": "code",
   "execution_count": null,
   "metadata": {},
   "outputs": [],
   "source": [
    "pred.grad"
   ]
  },
  {
   "cell_type": "code",
   "execution_count": null,
   "metadata": {},
   "outputs": [
    {
     "data": {
      "text/plain": [
       "torch.Size([2])"
      ]
     },
     "metadata": {},
     "output_type": "display_data"
    }
   ],
   "source": [
    "target.sum(axis=(1,2,3,4)).shape"
   ]
  },
  {
   "cell_type": "code",
   "execution_count": null,
   "metadata": {},
   "outputs": [],
   "source": [
    "ce_loss = WeakCELoss()(sigmoid(pred), target)"
   ]
  },
  {
   "cell_type": "code",
   "execution_count": null,
   "metadata": {},
   "outputs": [
    {
     "data": {
      "text/plain": [
       "tensor([nan, nan], grad_fn=<SumBackward1>)"
      ]
     },
     "metadata": {},
     "output_type": "display_data"
    }
   ],
   "source": [
    "ce_loss"
   ]
  },
  {
   "cell_type": "code",
   "execution_count": null,
   "metadata": {},
   "outputs": [
    {
     "data": {
      "text/plain": [
       "tensor(nan, grad_fn=<MeanBackward0>)"
      ]
     },
     "metadata": {},
     "output_type": "display_data"
    }
   ],
   "source": [
    "ce_loss = ce_loss.mean()\n",
    "ce_loss"
   ]
  },
  {
   "cell_type": "code",
   "execution_count": null,
   "metadata": {},
   "outputs": [],
   "source": [
    "ce_loss.backward()"
   ]
  },
  {
   "cell_type": "code",
   "execution_count": null,
   "metadata": {},
   "outputs": [
    {
     "data": {
      "text/plain": [
       "tensor([[[[[nan]],\n",
       "\n",
       "          [[nan]]]],\n",
       "\n",
       "\n",
       "\n",
       "        [[[[nan]],\n",
       "\n",
       "          [[nan]]]]])"
      ]
     },
     "metadata": {},
     "output_type": "display_data"
    }
   ],
   "source": [
    "pred.grad"
   ]
  },
  {
   "cell_type": "code",
   "execution_count": null,
   "metadata": {},
   "outputs": [
    {
     "data": {
      "text/plain": [
       "tensor(nan, grad_fn=<MeanBackward0>)"
      ]
     },
     "metadata": {},
     "output_type": "display_data"
    }
   ],
   "source": [
    "pred.grad = None\n",
    "ce_loss = WeakCELoss()(sigmoid(pred), target)\n",
    "ce_loss = ce_loss.mean()\n",
    "ce_loss"
   ]
  },
  {
   "cell_type": "code",
   "execution_count": null,
   "metadata": {},
   "outputs": [],
   "source": [
    "pred.grad"
   ]
  },
  {
   "cell_type": "code",
   "execution_count": null,
   "metadata": {},
   "outputs": [
    {
     "data": {
      "text/plain": [
       "torch.Size([2, 1, 2, 1, 1])"
      ]
     },
     "metadata": {},
     "output_type": "display_data"
    }
   ],
   "source": [
    "target.shape"
   ]
  },
  {
   "cell_type": "code",
   "execution_count": null,
   "metadata": {},
   "outputs": [
    {
     "data": {
      "text/plain": [
       "tensor([[8.1722],\n",
       "        [8.7194]], grad_fn=<CopySlices>)"
      ]
     },
     "metadata": {},
     "output_type": "display_data"
    }
   ],
   "source": [
    "bbox = CAL_WSISDataset.get_bbox_and_collate(target)\n",
    "tp_loss = tight_loss_fn(sigmoid(pred), target,bbox)\n",
    "tp_loss"
   ]
  },
  {
   "cell_type": "code",
   "execution_count": null,
   "metadata": {},
   "outputs": [],
   "source": []
  },
  {
   "cell_type": "code",
   "execution_count": null,
   "metadata": {},
   "outputs": [],
   "source": []
  },
  {
   "cell_type": "code",
   "execution_count": null,
   "metadata": {},
   "outputs": [],
   "source": []
  },
  {
   "cell_type": "code",
   "execution_count": null,
   "metadata": {},
   "outputs": [
    {
     "data": {
      "text/plain": [
       "tensor([[12.2352],\n",
       "        [10.7302]], dtype=torch.float64, grad_fn=<MulBackward0>)"
      ]
     },
     "metadata": {},
     "output_type": "display_data"
    }
   ],
   "source": [
    "sz_loss = loss_lambda*sz_loss_fn(sigmoid(pred), target)\n",
    "sz_loss"
   ]
  },
  {
   "cell_type": "code",
   "execution_count": null,
   "metadata": {},
   "outputs": [
    {
     "data": {
      "text/plain": [
       "tensor(11.4827, dtype=torch.float64, grad_fn=<MeanBackward0>)"
      ]
     },
     "metadata": {},
     "output_type": "display_data"
    }
   ],
   "source": [
    "sz_loss = sz_loss.mean()\n",
    "sz_loss"
   ]
  },
  {
   "cell_type": "code",
   "execution_count": null,
   "metadata": {},
   "outputs": [],
   "source": [
    "loss = sz_loss + ce_loss"
   ]
  },
  {
   "cell_type": "code",
   "execution_count": null,
   "metadata": {},
   "outputs": [],
   "source": [
    "loss.backward()"
   ]
  },
  {
   "cell_type": "code",
   "execution_count": null,
   "metadata": {},
   "outputs": [
    {
     "data": {
      "text/plain": [
       "tensor([[[[[0.1005, 0.0970, 0.1093],\n",
       "           [0.1091, 0.1099, 0.1011],\n",
       "           [0.1091, 0.1077, 0.1078]],\n",
       "\n",
       "          [[0.0962, 0.1005, 0.1039],\n",
       "           [0.1098, 0.0962, 0.1099],\n",
       "           [0.1056, 0.1100, 0.1037]],\n",
       "\n",
       "          [[0.1078, 0.1082, 0.1092],\n",
       "           [0.1025, 0.0979, 0.1047],\n",
       "           [0.1067, 0.1035, 0.1099]]]],\n",
       "\n",
       "\n",
       "\n",
       "        [[[[0.0993, 0.0925, 0.1032],\n",
       "           [0.0950, 0.0985, 0.1037],\n",
       "           [0.0821, 0.1017, 0.0960]],\n",
       "\n",
       "          [[0.0922, 0.0999, 0.1016],\n",
       "           [0.0877, 0.0940, 0.0924],\n",
       "           [0.0862, 0.0972, 0.0933]],\n",
       "\n",
       "          [[0.0901, 0.1030, 0.0913],\n",
       "           [0.0961, 0.0892, 0.0871],\n",
       "           [0.1001, 0.0896, 0.0971]]]]])"
      ]
     },
     "metadata": {},
     "output_type": "display_data"
    }
   ],
   "source": [
    "pred.grad"
   ]
  },
  {
   "cell_type": "code",
   "execution_count": null,
   "metadata": {},
   "outputs": [],
   "source": []
  },
  {
   "cell_type": "markdown",
   "metadata": {},
   "source": [
    "### With training loop"
   ]
  },
  {
   "cell_type": "code",
   "execution_count": 180,
   "metadata": {},
   "outputs": [],
   "source": [
    "model = torch.nn.Sequential(torch.nn.Flatten(), torch.nn.Linear(4*4*4,4*4*4), torch.nn.Unflatten(dim=1,unflattened_size=(1,4,4,4)))\n",
    "optimizer = Adam(model.parameters(), lr=5e-2)\n",
    "img = torch.rand(size=(2,1,4,4,4))\n",
    "lab = torch.zeros_like(input)\n",
    "lab[:,:,1:3,1:3,1:3] = 1"
   ]
  },
  {
   "cell_type": "code",
   "execution_count": 181,
   "metadata": {},
   "outputs": [],
   "source": [
    "# for validation\n",
    "dsc = DiceLoss()\n",
    "sz_loss_fn = Log_barrier_size_constraint_criterion(t=5., mu=1.1, epsilon=0.75)\n",
    "tight_loss_fn = Log_barrier_tightness_prior_criterion(t=5., mu=1.1)\n",
    "emptyness_constraint_fn = Log_barrier_emptyness_constraint(t=5., mu=1.1)\n",
    "loss_lambda = 1e-4"
   ]
  },
  {
   "cell_type": "code",
   "execution_count": 182,
   "metadata": {},
   "outputs": [],
   "source": [
    "n_epochs = 100\n",
    "n_updates_per_epoch = 1"
   ]
  },
  {
   "cell_type": "code",
   "execution_count": 183,
   "metadata": {},
   "outputs": [
    {
     "name": "stderr",
     "output_type": "stream",
     "text": [
      "100%|██████████| 1/1 [00:00<00:00, 53.22it/s]\n"
     ]
    },
    {
     "name": "stdout",
     "output_type": "stream",
     "text": [
      "CE Loss: 0.681903600692749\n",
      "SZ loss: 0.0013690521359443666\n",
      "TP loss: 7.870517583796754e-05\n",
      "EC loss: 3.2908642292022705\n",
      "Epoch 00 Train loss 3.97421559\n",
      "Epoch 00 Validation loss 0.78855228\n"
     ]
    },
    {
     "name": "stderr",
     "output_type": "stream",
     "text": [
      "\n"
     ]
    },
    {
     "name": "stderr",
     "output_type": "stream",
     "text": [
      "100%|██████████| 1/1 [00:00<00:00, 68.89it/s]\n"
     ]
    },
    {
     "name": "stdout",
     "output_type": "stream",
     "text": [
      "CE Loss: 0.20903022587299347\n",
      "SZ loss: 0.0003922806478571147\n",
      "TP loss: 1.7271338947466575e-05\n",
      "EC loss: 1.7790037393569946\n",
      "Epoch 01 Train loss 1.98844352\n",
      "Epoch 01 Validation loss 0.56016123\n"
     ]
    },
    {
     "name": "stderr",
     "output_type": "stream",
     "text": [
      "100%|██████████| 1/1 [00:00<00:00, 70.90it/s]\n"
     ]
    },
    {
     "name": "stdout",
     "output_type": "stream",
     "text": [
      "CE Loss: 0.0593014732003212\n",
      "SZ loss: 5.2756164222955704e-05\n",
      "TP loss: 2.5032495614141226e-05\n",
      "EC loss: 1.1303344368934631\n",
      "Epoch 02 Train loss 1.18971370\n",
      "Epoch 02 Validation loss 0.39827240\n"
     ]
    },
    {
     "name": "stderr",
     "output_type": "stream",
     "text": [
      "100%|██████████| 1/1 [00:00<00:00, 69.77it/s]\n"
     ]
    },
    {
     "name": "stdout",
     "output_type": "stream",
     "text": [
      "CE Loss: 0.019123107194900513\n",
      "SZ loss: 0.0001042047891765833\n",
      "TP loss: 2.1996440409566276e-05\n",
      "EC loss: 0.9382712543010712\n",
      "Epoch 03 Train loss 0.95752056\n",
      "Epoch 03 Validation loss 0.30767977\n"
     ]
    },
    {
     "name": "stderr",
     "output_type": "stream",
     "text": [
      "100%|██████████| 1/1 [00:00<00:00, 60.40it/s]\n",
      "  5%|▌         | 5/100 [00:00<00:02, 45.42it/s]"
     ]
    },
    {
     "name": "stdout",
     "output_type": "stream",
     "text": [
      "CE Loss: 0.007240263279527426\n",
      "SZ loss: 0.00012115970999002457\n",
      "TP loss: 1.5240469110722188e-05\n",
      "EC loss: 0.8798061311244965\n",
      "Epoch 04 Train loss 0.88718279\n",
      "Epoch 04 Validation loss 0.23983720\n"
     ]
    },
    {
     "name": "stderr",
     "output_type": "stream",
     "text": [
      "100%|██████████| 1/1 [00:00<00:00, 69.56it/s]\n"
     ]
    },
    {
     "name": "stdout",
     "output_type": "stream",
     "text": [
      "CE Loss: 0.0031475694850087166\n",
      "SZ loss: 0.00011067820750176908\n",
      "TP loss: 1.0146422937395982e-05\n",
      "EC loss: 0.8594792485237122\n",
      "Epoch 05 Train loss 0.86274764\n",
      "Epoch 05 Validation loss 0.19069487\n"
     ]
    },
    {
     "name": "stderr",
     "output_type": "stream",
     "text": [
      "100%|██████████| 1/1 [00:00<00:00, 80.73it/s]\n"
     ]
    },
    {
     "name": "stdout",
     "output_type": "stream",
     "text": [
      "CE Loss: 0.0015307430876418948\n",
      "SZ loss: 9.405875988304615e-05\n",
      "TP loss: 6.327114988380345e-06\n",
      "EC loss: 0.8514205515384674\n",
      "Epoch 06 Train loss 0.85305168\n",
      "Epoch 06 Validation loss 0.15357450\n"
     ]
    },
    {
     "name": "stderr",
     "output_type": "stream",
     "text": [
      "100%|██████████| 1/1 [00:00<00:00, 80.14it/s]\n"
     ]
    },
    {
     "name": "stdout",
     "output_type": "stream",
     "text": [
      "CE Loss: 0.000815495615825057\n",
      "SZ loss: 7.51663587987423e-05\n",
      "TP loss: 3.368072157172719e-06\n",
      "EC loss: 0.8478501737117767\n",
      "Epoch 07 Train loss 0.84874420\n",
      "Epoch 07 Validation loss 0.12168616\n"
     ]
    },
    {
     "name": "stderr",
     "output_type": "stream",
     "text": [
      "100%|██████████| 1/1 [00:00<00:00, 78.30it/s]\n"
     ]
    },
    {
     "name": "stdout",
     "output_type": "stream",
     "text": [
      "CE Loss: 0.0004683819424826652\n",
      "SZ loss: 6.35344609618187e-05\n",
      "TP loss: 1.4578694162992178e-06\n",
      "EC loss: 0.8461162447929382\n",
      "Epoch 08 Train loss 0.84664962\n",
      "Epoch 08 Validation loss 0.09439838\n"
     ]
    },
    {
     "name": "stderr",
     "output_type": "stream",
     "text": [
      "100%|██████████| 1/1 [00:00<00:00, 77.37it/s]\n"
     ]
    },
    {
     "name": "stdout",
     "output_type": "stream",
     "text": [
      "CE Loss: 0.000286515976767987\n",
      "SZ loss: 5.937589854001999e-05\n",
      "TP loss: 5.83676694532187e-07\n",
      "EC loss: 0.8452074229717255\n",
      "Epoch 09 Train loss 0.84555390\n",
      "Epoch 09 Validation loss 0.07852700\n"
     ]
    },
    {
     "name": "stderr",
     "output_type": "stream",
     "text": [
      "100%|██████████| 1/1 [00:00<00:00, 74.95it/s]\n",
      " 11%|█         | 11/100 [00:00<00:01, 50.43it/s]"
     ]
    },
    {
     "name": "stdout",
     "output_type": "stream",
     "text": [
      "CE Loss: 0.00018491041555535048\n",
      "SZ loss: 5.798988863825798e-05\n",
      "TP loss: 2.5132513314929383e-07\n",
      "EC loss: 0.8446995913982391\n",
      "Epoch 10 Train loss 0.84494274\n",
      "Epoch 10 Validation loss 0.07180947\n"
     ]
    },
    {
     "name": "stderr",
     "output_type": "stream",
     "text": []
    },
    {
     "name": "stdout",
     "output_type": "stream",
     "text": [
      "CE Loss: 0.0001249641354661435\n",
      "SZ loss: 5.751253291964531e-05\n"
     ]
    },
    {
     "name": "stderr",
     "output_type": "stream",
     "text": [
      "100%|██████████| 1/1 [00:00<00:00, 62.00it/s]\n"
     ]
    },
    {
     "name": "stdout",
     "output_type": "stream",
     "text": [
      "TP loss: 1.2374562174954917e-07\n",
      "EC loss: 0.8443999290466309\n",
      "Epoch 11 Train loss 0.84458253\n",
      "Epoch 11 Validation loss 0.06914350\n"
     ]
    },
    {
     "name": "stderr",
     "output_type": "stream",
     "text": []
    },
    {
     "name": "stdout",
     "output_type": "stream",
     "text": [
      "CE Loss: 8.790111314738169e-05\n",
      "SZ loss: 5.7333710044622424e-05\n",
      "TP loss: 6.973414201638661e-08\n"
     ]
    },
    {
     "name": "stderr",
     "output_type": "stream",
     "text": [
      "100%|██████████| 1/1 [00:00<00:00, 68.85it/s]\n"
     ]
    },
    {
     "name": "stdout",
     "output_type": "stream",
     "text": [
      "EC loss: 0.8442146182060242\n",
      "Epoch 12 Train loss 0.84435992\n",
      "Epoch 12 Validation loss 0.06801119\n"
     ]
    },
    {
     "name": "stderr",
     "output_type": "stream",
     "text": []
    },
    {
     "name": "stdout",
     "output_type": "stream",
     "text": [
      "CE Loss: 6.403703446267173e-05\n",
      "SZ loss: 5.726044550538063e-05\n"
     ]
    },
    {
     "name": "stderr",
     "output_type": "stream",
     "text": [
      "100%|██████████| 1/1 [00:00<00:00, 67.47it/s]\n"
     ]
    },
    {
     "name": "stdout",
     "output_type": "stream",
     "text": [
      "TP loss: 4.402540554337975e-08\n",
      "EC loss: 0.8440953195095062\n",
      "Epoch 13 Train loss 0.84421666\n",
      "Epoch 13 Validation loss 0.06747833\n"
     ]
    },
    {
     "name": "stderr",
     "output_type": "stream",
     "text": []
    },
    {
     "name": "stdout",
     "output_type": "stream",
     "text": [
      "CE Loss: 4.811681719729677e-05\n",
      "SZ loss: 5.7227860391139986e-05\n",
      "TP loss: 3.036406681644621e-08\n",
      "EC loss: 0.8440157175064087\n"
     ]
    },
    {
     "name": "stderr",
     "output_type": "stream",
     "text": [
      "100%|██████████| 1/1 [00:00<00:00, 66.76it/s]\n"
     ]
    },
    {
     "name": "stdout",
     "output_type": "stream",
     "text": [
      "Epoch 14 Train loss 0.84412109\n",
      "Epoch 14 Validation loss 0.06720099\n"
     ]
    },
    {
     "name": "stderr",
     "output_type": "stream",
     "text": []
    },
    {
     "name": "stdout",
     "output_type": "stream",
     "text": [
      "CE Loss: 3.715969069162384e-05\n",
      "SZ loss: 5.7212266325950626e-05\n",
      "TP loss: 2.23798934939623e-08\n",
      "EC loss: 0.8439609706401825\n"
     ]
    },
    {
     "name": "stderr",
     "output_type": "stream",
     "text": [
      "100%|██████████| 1/1 [00:00<00:00, 74.97it/s]\n"
     ]
    },
    {
     "name": "stdout",
     "output_type": "stream",
     "text": [
      "Epoch 15 Train loss 0.84405536\n",
      "Epoch 15 Validation loss 0.06704307\n"
     ]
    },
    {
     "name": "stderr",
     "output_type": "stream",
     "text": []
    },
    {
     "name": "stdout",
     "output_type": "stream",
     "text": [
      "CE Loss: 2.9407547117443755e-05\n",
      "SZ loss: 5.7204303890466695e-05\n",
      "TP loss: 1.7339203850497142e-08\n",
      "EC loss: 0.8439221978187561\n"
     ]
    },
    {
     "name": "stderr",
     "output_type": "stream",
     "text": [
      "100%|██████████| 1/1 [00:00<00:00, 75.32it/s]\n",
      " 17%|█▋        | 17/100 [00:00<00:01, 50.67it/s]"
     ]
    },
    {
     "name": "stdout",
     "output_type": "stream",
     "text": [
      "Epoch 16 Train loss 0.84400883\n",
      "Epoch 16 Validation loss 0.06694633\n"
     ]
    },
    {
     "name": "stderr",
     "output_type": "stream",
     "text": []
    },
    {
     "name": "stdout",
     "output_type": "stream",
     "text": [
      "CE Loss: 2.3786888050381094e-05\n",
      "SZ loss: 5.719999745488167e-05\n",
      "TP loss: 1.3953730615412496e-08\n",
      "EC loss: 0.8438940644264221\n"
     ]
    },
    {
     "name": "stderr",
     "output_type": "stream",
     "text": [
      "100%|██████████| 1/1 [00:00<00:00, 77.20it/s]\n"
     ]
    },
    {
     "name": "stdout",
     "output_type": "stream",
     "text": [
      "Epoch 17 Train loss 0.84397507\n",
      "Epoch 17 Validation loss 0.06688336\n"
     ]
    },
    {
     "name": "stderr",
     "output_type": "stream",
     "text": []
    },
    {
     "name": "stdout",
     "output_type": "stream",
     "text": [
      "CE Loss: 1.9621635146904737e-05\n",
      "SZ loss: 5.7197546213865284e-05\n",
      "TP loss: 1.1566799074103074e-08\n",
      "EC loss: 0.8438732624053955\n"
     ]
    },
    {
     "name": "stderr",
     "output_type": "stream",
     "text": [
      "100%|██████████| 1/1 [00:00<00:00, 76.37it/s]\n"
     ]
    },
    {
     "name": "stdout",
     "output_type": "stream",
     "text": [
      "Epoch 18 Train loss 0.84395009\n",
      "Epoch 18 Validation loss 0.06684023\n"
     ]
    },
    {
     "name": "stderr",
     "output_type": "stream",
     "text": []
    },
    {
     "name": "stdout",
     "output_type": "stream",
     "text": [
      "CE Loss: 1.647399039939046e-05\n",
      "SZ loss: 5.719607546925545e-05\n",
      "TP loss: 9.815988022410238e-09\n",
      "EC loss: 0.8438575267791748\n"
     ]
    },
    {
     "name": "stderr",
     "output_type": "stream",
     "text": [
      "100%|██████████| 1/1 [00:00<00:00, 75.01it/s]\n"
     ]
    },
    {
     "name": "stdout",
     "output_type": "stream",
     "text": [
      "Epoch 19 Train loss 0.84393121\n",
      "Epoch 19 Validation loss 0.06680956\n"
     ]
    },
    {
     "name": "stderr",
     "output_type": "stream",
     "text": []
    },
    {
     "name": "stdout",
     "output_type": "stream",
     "text": [
      "CE Loss: 1.4053262930247001e-05\n",
      "SZ loss: 5.719516053795815e-05\n",
      "TP loss: 8.493428182987373e-09\n",
      "EC loss: 0.8438454270362854\n"
     ]
    },
    {
     "name": "stderr",
     "output_type": "stream",
     "text": [
      "100%|██████████| 1/1 [00:00<00:00, 64.82it/s]\n"
     ]
    },
    {
     "name": "stdout",
     "output_type": "stream",
     "text": [
      "Epoch 20 Train loss 0.84391668\n",
      "Epoch 20 Validation loss 0.06678697\n"
     ]
    },
    {
     "name": "stderr",
     "output_type": "stream",
     "text": []
    },
    {
     "name": "stdout",
     "output_type": "stream",
     "text": [
      "CE Loss: 1.2161995073256548e-05\n",
      "SZ loss: 5.7194560766220095e-05\n"
     ]
    },
    {
     "name": "stderr",
     "output_type": "stream",
     "text": [
      "100%|██████████| 1/1 [00:00<00:00, 64.93it/s]"
     ]
    },
    {
     "name": "stdout",
     "output_type": "stream",
     "text": [
      "TP loss: 7.468302420932105e-09\n",
      "EC loss: 0.8438359498977661\n"
     ]
    },
    {
     "name": "stderr",
     "output_type": "stream",
     "text": [
      "\n"
     ]
    },
    {
     "name": "stdout",
     "output_type": "stream",
     "text": [
      "Epoch 21 Train loss 0.84390531\n",
      "Epoch 21 Validation loss 0.06676990\n"
     ]
    },
    {
     "name": "stderr",
     "output_type": "stream",
     "text": []
    },
    {
     "name": "stdout",
     "output_type": "stream",
     "text": [
      "CE Loss: 1.0663250577636063e-05\n",
      "SZ loss: 5.7194152474403385e-05\n",
      "TP loss: 6.6579519675258325e-09\n",
      "EC loss: 0.8438284695148468\n"
     ]
    },
    {
     "name": "stderr",
     "output_type": "stream",
     "text": [
      "100%|██████████| 1/1 [00:00<00:00, 67.49it/s]\n",
      " 23%|██▎       | 23/100 [00:00<00:01, 51.27it/s]"
     ]
    },
    {
     "name": "stdout",
     "output_type": "stream",
     "text": [
      "Epoch 22 Train loss 0.84389633\n",
      "Epoch 22 Validation loss 0.06675678\n"
     ]
    },
    {
     "name": "stderr",
     "output_type": "stream",
     "text": []
    },
    {
     "name": "stdout",
     "output_type": "stream",
     "text": [
      "CE Loss: 9.46024101722287e-06\n",
      "SZ loss: 5.719387084245682e-05\n",
      "TP loss: 6.005091979233157e-09\n",
      "EC loss: 0.8438224494457245\n"
     ]
    },
    {
     "name": "stderr",
     "output_type": "stream",
     "text": [
      "100%|██████████| 1/1 [00:00<00:00, 70.45it/s]\n"
     ]
    },
    {
     "name": "stdout",
     "output_type": "stream",
     "text": [
      "Epoch 23 Train loss 0.84388911\n",
      "Epoch 23 Validation loss 0.06674638\n"
     ]
    },
    {
     "name": "stderr",
     "output_type": "stream",
     "text": []
    },
    {
     "name": "stdout",
     "output_type": "stream",
     "text": [
      "CE Loss: 8.483372766932007e-06\n",
      "SZ loss: 5.7193661481142044e-05\n",
      "TP loss: 5.474018127671343e-09\n",
      "EC loss: 0.8438175618648529\n"
     ]
    },
    {
     "name": "stderr",
     "output_type": "stream",
     "text": [
      "100%|██████████| 1/1 [00:00<00:00, 74.64it/s]\n"
     ]
    },
    {
     "name": "stdout",
     "output_type": "stream",
     "text": [
      "Epoch 24 Train loss 0.84388324\n",
      "Epoch 24 Validation loss 0.06673807\n"
     ]
    },
    {
     "name": "stderr",
     "output_type": "stream",
     "text": []
    },
    {
     "name": "stdout",
     "output_type": "stream",
     "text": [
      "CE Loss: 7.681786883040331e-06\n",
      "SZ loss: 5.7193499058485034e-05\n",
      "TP loss: 5.034206385090556e-09\n",
      "EC loss: 0.843813568353653\n"
     ]
    },
    {
     "name": "stderr",
     "output_type": "stream",
     "text": [
      "100%|██████████| 1/1 [00:00<00:00, 77.37it/s]\n"
     ]
    },
    {
     "name": "stdout",
     "output_type": "stream",
     "text": [
      "Epoch 25 Train loss 0.84387845\n",
      "Epoch 25 Validation loss 0.06673139\n"
     ]
    },
    {
     "name": "stderr",
     "output_type": "stream",
     "text": []
    },
    {
     "name": "stdout",
     "output_type": "stream",
     "text": [
      "CE Loss: 7.017767529760022e-06\n",
      "SZ loss: 5.719339177012444e-05\n",
      "TP loss: 4.666664388253139e-09\n",
      "EC loss: 0.8438102304935455\n"
     ]
    },
    {
     "name": "stderr",
     "output_type": "stream",
     "text": [
      "100%|██████████| 1/1 [00:00<00:00, 81.05it/s]\n"
     ]
    },
    {
     "name": "stdout",
     "output_type": "stream",
     "text": [
      "Epoch 26 Train loss 0.84387445\n",
      "Epoch 26 Validation loss 0.06672573\n"
     ]
    },
    {
     "name": "stderr",
     "output_type": "stream",
     "text": []
    },
    {
     "name": "stdout",
     "output_type": "stream",
     "text": [
      "CE Loss: 6.462966211984167e-06\n",
      "SZ loss: 5.719329491257668e-05\n",
      "TP loss: 4.356477401046277e-09\n",
      "EC loss: 0.8438074588775635\n"
     ]
    },
    {
     "name": "stderr",
     "output_type": "stream",
     "text": [
      "100%|██████████| 1/1 [00:00<00:00, 78.32it/s]\n"
     ]
    },
    {
     "name": "stdout",
     "output_type": "stream",
     "text": [
      "Epoch 27 Train loss 0.84387112\n",
      "Epoch 27 Validation loss 0.06672117\n"
     ]
    },
    {
     "name": "stderr",
     "output_type": "stream",
     "text": []
    },
    {
     "name": "stdout",
     "output_type": "stream",
     "text": [
      "CE Loss: 5.995796527713537e-06\n",
      "SZ loss: 5.719321593642235e-05\n",
      "TP loss: 4.0941023904395024e-09\n",
      "EC loss: 0.8438051342964172\n"
     ]
    },
    {
     "name": "stderr",
     "output_type": "stream",
     "text": [
      "100%|██████████| 1/1 [00:00<00:00, 76.86it/s]\n",
      " 29%|██▉       | 29/100 [00:00<00:01, 52.35it/s]"
     ]
    },
    {
     "name": "stdout",
     "output_type": "stream",
     "text": [
      "Epoch 28 Train loss 0.84386833\n",
      "Epoch 28 Validation loss 0.06671733\n"
     ]
    },
    {
     "name": "stderr",
     "output_type": "stream",
     "text": []
    },
    {
     "name": "stdout",
     "output_type": "stream",
     "text": [
      "CE Loss: 5.599633823294425e-06\n",
      "SZ loss: 5.719315111637116e-05\n",
      "TP loss: 3.870292530905317e-09\n",
      "EC loss: 0.8438031673431396\n"
     ]
    },
    {
     "name": "stderr",
     "output_type": "stream",
     "text": [
      "100%|██████████| 1/1 [00:00<00:00, 79.23it/s]\n"
     ]
    },
    {
     "name": "stdout",
     "output_type": "stream",
     "text": [
      "Epoch 29 Train loss 0.84386596\n",
      "Epoch 29 Validation loss 0.06671405\n"
     ]
    },
    {
     "name": "stderr",
     "output_type": "stream",
     "text": []
    },
    {
     "name": "stdout",
     "output_type": "stream",
     "text": [
      "CE Loss: 5.261525529931532e-06\n",
      "SZ loss: 5.7193091511726385e-05\n",
      "TP loss: 3.6759035815236984e-09\n",
      "EC loss: 0.8438014686107635\n"
     ]
    },
    {
     "name": "stderr",
     "output_type": "stream",
     "text": [
      "100%|██████████| 1/1 [00:00<00:00, 64.21it/s]\n"
     ]
    },
    {
     "name": "stdout",
     "output_type": "stream",
     "text": [
      "Epoch 30 Train loss 0.84386393\n",
      "Epoch 30 Validation loss 0.06671137\n"
     ]
    },
    {
     "name": "stderr",
     "output_type": "stream",
     "text": []
    },
    {
     "name": "stdout",
     "output_type": "stream",
     "text": [
      "CE Loss: 4.971290309185861e-06\n",
      "SZ loss: 5.7193055003881454e-05\n",
      "TP loss: 3.5089458005899132e-09\n",
      "EC loss: 0.8438000082969666\n"
     ]
    },
    {
     "name": "stderr",
     "output_type": "stream",
     "text": [
      "100%|██████████| 1/1 [00:00<00:00, 69.23it/s]\n"
     ]
    },
    {
     "name": "stdout",
     "output_type": "stream",
     "text": [
      "Epoch 31 Train loss 0.84386218\n",
      "Epoch 31 Validation loss 0.06670886\n"
     ]
    },
    {
     "name": "stderr",
     "output_type": "stream",
     "text": []
    },
    {
     "name": "stdout",
     "output_type": "stream",
     "text": [
      "CE Loss: 4.720827291748719e-06\n",
      "SZ loss: 5.7193014025688176e-05\n",
      "TP loss: 3.363357148344903e-09\n",
      "EC loss: 0.8437987565994263\n"
     ]
    },
    {
     "name": "stderr",
     "output_type": "stream",
     "text": [
      "100%|██████████| 1/1 [00:00<00:00, 64.68it/s]\n"
     ]
    },
    {
     "name": "stdout",
     "output_type": "stream",
     "text": [
      "Epoch 32 Train loss 0.84386067\n",
      "Epoch 32 Validation loss 0.06670690\n"
     ]
    },
    {
     "name": "stderr",
     "output_type": "stream",
     "text": []
    },
    {
     "name": "stdout",
     "output_type": "stream",
     "text": [
      "CE Loss: 4.50365314463852e-06\n",
      "SZ loss: 5.719298049807549e-05\n",
      "TP loss: 3.2355587098464866e-09\n",
      "EC loss: 0.8437976837158203\n"
     ]
    },
    {
     "name": "stderr",
     "output_type": "stream",
     "text": [
      "100%|██████████| 1/1 [00:00<00:00, 64.38it/s]\n"
     ]
    },
    {
     "name": "stdout",
     "output_type": "stream",
     "text": [
      "Epoch 33 Train loss 0.84385938\n",
      "Epoch 33 Validation loss 0.06670508\n"
     ]
    },
    {
     "name": "stderr",
     "output_type": "stream",
     "text": []
    },
    {
     "name": "stdout",
     "output_type": "stream",
     "text": [
      "CE Loss: 4.314525085646892e-06\n",
      "SZ loss: 5.7192947715520865e-05\n"
     ]
    },
    {
     "name": "stderr",
     "output_type": "stream",
     "text": [
      "100%|██████████| 1/1 [00:00<00:00, 70.15it/s]\n",
      " 35%|███▌      | 35/100 [00:00<00:01, 51.14it/s]"
     ]
    },
    {
     "name": "stdout",
     "output_type": "stream",
     "text": [
      "TP loss: 3.122667457944317e-09\n",
      "EC loss: 0.8437967300415039\n",
      "Epoch 34 Train loss 0.84385824\n",
      "Epoch 34 Validation loss 0.06670347\n"
     ]
    },
    {
     "name": "stderr",
     "output_type": "stream",
     "text": []
    },
    {
     "name": "stdout",
     "output_type": "stream",
     "text": [
      "CE Loss: 4.149170763412258e-06\n",
      "SZ loss: 5.719292610883713e-05\n",
      "TP loss: 3.0250819627042347e-09\n",
      "EC loss: 0.8437959253787994\n"
     ]
    },
    {
     "name": "stderr",
     "output_type": "stream",
     "text": [
      "100%|██████████| 1/1 [00:00<00:00, 65.53it/s]\n"
     ]
    },
    {
     "name": "stdout",
     "output_type": "stream",
     "text": [
      "Epoch 35 Train loss 0.84385727\n",
      "Epoch 35 Validation loss 0.06670213\n"
     ]
    },
    {
     "name": "stderr",
     "output_type": "stream",
     "text": []
    },
    {
     "name": "stdout",
     "output_type": "stream",
     "text": [
      "CE Loss: 4.004083621111931e-06\n",
      "SZ loss: 5.719290673732758e-05\n",
      "TP loss: 2.938030263521796e-09\n",
      "EC loss: 0.8437951803207397\n"
     ]
    },
    {
     "name": "stderr",
     "output_type": "stream",
     "text": [
      "100%|██████████| 1/1 [00:00<00:00, 66.54it/s]\n"
     ]
    },
    {
     "name": "stdout",
     "output_type": "stream",
     "text": [
      "Epoch 36 Train loss 0.84385638\n",
      "Epoch 36 Validation loss 0.06670094\n"
     ]
    },
    {
     "name": "stderr",
     "output_type": "stream",
     "text": []
    },
    {
     "name": "stdout",
     "output_type": "stream",
     "text": [
      "CE Loss: 3.876365553878713e-06\n",
      "SZ loss: 5.7192885130643846e-05\n",
      "TP loss: 2.8607178848005788e-09\n",
      "EC loss: 0.8437945246696472\n"
     ]
    },
    {
     "name": "stderr",
     "output_type": "stream",
     "text": [
      "100%|██████████| 1/1 [00:00<00:00, 75.26it/s]\n"
     ]
    },
    {
     "name": "stdout",
     "output_type": "stream",
     "text": [
      "Epoch 37 Train loss 0.84385560\n",
      "Epoch 37 Validation loss 0.06669992\n"
     ]
    },
    {
     "name": "stderr",
     "output_type": "stream",
     "text": [
      "100%|██████████| 1/1 [00:00<00:00, 80.68it/s]"
     ]
    },
    {
     "name": "stdout",
     "output_type": "stream",
     "text": [
      "CE Loss: 3.763605946005555e-06\n",
      "SZ loss: 5.719286426901817e-05\n",
      "TP loss: 2.792150510799729e-09\n",
      "EC loss: 0.8437939882278442\n"
     ]
    },
    {
     "name": "stderr",
     "output_type": "stream",
     "text": [
      "\n"
     ]
    },
    {
     "name": "stdout",
     "output_type": "stream",
     "text": [
      "Epoch 38 Train loss 0.84385495\n",
      "Epoch 38 Validation loss 0.06669900\n"
     ]
    },
    {
     "name": "stderr",
     "output_type": "stream",
     "text": [
      "100%|██████████| 1/1 [00:00<00:00, 76.41it/s]"
     ]
    },
    {
     "name": "stdout",
     "output_type": "stream",
     "text": [
      "CE Loss: 3.663786401375546e-06\n",
      "SZ loss: 5.719285160303116e-05\n",
      "TP loss: 2.729546588753351e-09\n",
      "EC loss: 0.8437934815883636\n"
     ]
    },
    {
     "name": "stderr",
     "output_type": "stream",
     "text": [
      "\n"
     ]
    },
    {
     "name": "stdout",
     "output_type": "stream",
     "text": [
      "Epoch 39 Train loss 0.84385434\n",
      "Epoch 39 Validation loss 0.06669810\n"
     ]
    },
    {
     "name": "stderr",
     "output_type": "stream",
     "text": []
    },
    {
     "name": "stdout",
     "output_type": "stream",
     "text": [
      "CE Loss: 3.5752082112594508e-06\n",
      "SZ loss: 5.719283670186997e-05\n",
      "TP loss: 2.6758855131703285e-09\n",
      "EC loss: 0.8437930345535278\n"
     ]
    },
    {
     "name": "stderr",
     "output_type": "stream",
     "text": [
      "100%|██████████| 1/1 [00:00<00:00, 76.42it/s]\n",
      " 41%|████      | 41/100 [00:00<00:01, 51.17it/s]"
     ]
    },
    {
     "name": "stdout",
     "output_type": "stream",
     "text": [
      "Epoch 40 Train loss 0.84385381\n",
      "Epoch 40 Validation loss 0.06669745\n"
     ]
    },
    {
     "name": "stderr",
     "output_type": "stream",
     "text": []
    },
    {
     "name": "stdout",
     "output_type": "stream",
     "text": [
      "CE Loss: 3.496430963423336e-06\n",
      "SZ loss: 5.719282999634743e-05\n",
      "TP loss: 2.6271935738009233e-09\n",
      "EC loss: 0.8437926471233368\n"
     ]
    },
    {
     "name": "stderr",
     "output_type": "stream",
     "text": [
      "100%|██████████| 1/1 [00:00<00:00, 69.56it/s]\n"
     ]
    },
    {
     "name": "stdout",
     "output_type": "stream",
     "text": [
      "Epoch 41 Train loss 0.84385334\n",
      "Epoch 41 Validation loss 0.06669670\n"
     ]
    },
    {
     "name": "stderr",
     "output_type": "stream",
     "text": []
    },
    {
     "name": "stdout",
     "output_type": "stream",
     "text": [
      "CE Loss: 3.4262304779986152e-06\n",
      "SZ loss: 5.719280615448952e-05\n",
      "TP loss: 2.582477121038096e-09\n",
      "EC loss: 0.8437922894954681\n"
     ]
    },
    {
     "name": "stderr",
     "output_type": "stream",
     "text": [
      "100%|██████████| 1/1 [00:00<00:00, 64.27it/s]\n"
     ]
    },
    {
     "name": "stdout",
     "output_type": "stream",
     "text": [
      "Epoch 42 Train loss 0.84385291\n",
      "Epoch 42 Validation loss 0.06669620\n"
     ]
    },
    {
     "name": "stderr",
     "output_type": "stream",
     "text": []
    },
    {
     "name": "stdout",
     "output_type": "stream",
     "text": [
      "CE Loss: 3.363559926583548e-06\n",
      "SZ loss: 5.719280242919922e-05\n",
      "TP loss: 2.542728916310466e-09\n",
      "EC loss: 0.8437919616699219\n"
     ]
    },
    {
     "name": "stderr",
     "output_type": "stream",
     "text": [
      "100%|██████████| 1/1 [00:00<00:00, 65.18it/s]\n"
     ]
    },
    {
     "name": "stdout",
     "output_type": "stream",
     "text": [
      "Epoch 43 Train loss 0.84385252\n",
      "Epoch 43 Validation loss 0.06669566\n"
     ]
    },
    {
     "name": "stderr",
     "output_type": "stream",
     "text": []
    },
    {
     "name": "stdout",
     "output_type": "stream",
     "text": [
      "CE Loss: 3.3075179999286775e-06\n",
      "SZ loss: 5.7192794978618624e-05\n",
      "TP loss: 2.5077506737858357e-09\n",
      "EC loss: 0.843791663646698\n"
     ]
    },
    {
     "name": "stderr",
     "output_type": "stream",
     "text": [
      "100%|██████████| 1/1 [00:00<00:00, 66.04it/s]\n"
     ]
    },
    {
     "name": "stdout",
     "output_type": "stream",
     "text": [
      "Epoch 44 Train loss 0.84385217\n",
      "Epoch 44 Validation loss 0.06669518\n"
     ]
    },
    {
     "name": "stderr",
     "output_type": "stream",
     "text": []
    },
    {
     "name": "stdout",
     "output_type": "stream",
     "text": [
      "CE Loss: 3.257329808548093e-06\n",
      "SZ loss: 5.719278082251549e-05\n",
      "TP loss: 2.475355920239508e-09\n",
      "EC loss: 0.8437914550304413\n"
     ]
    },
    {
     "name": "stderr",
     "output_type": "stream",
     "text": [
      "100%|██████████| 1/1 [00:00<00:00, 65.78it/s]"
     ]
    },
    {
     "name": "stdout",
     "output_type": "stream",
     "text": [
      "Epoch 45 Train loss 0.84385191\n"
     ]
    },
    {
     "name": "stderr",
     "output_type": "stream",
     "text": [
      "\n"
     ]
    },
    {
     "name": "stdout",
     "output_type": "stream",
     "text": [
      "Epoch 45 Validation loss 0.06669477\n"
     ]
    },
    {
     "name": "stderr",
     "output_type": "stream",
     "text": []
    },
    {
     "name": "stdout",
     "output_type": "stream",
     "text": [
      "CE Loss: 3.2123223263624823e-06\n",
      "SZ loss: 5.7192771881818774e-05\n",
      "TP loss: 2.445148084007087e-09\n",
      "EC loss: 0.8437912166118622\n"
     ]
    },
    {
     "name": "stderr",
     "output_type": "stream",
     "text": [
      "100%|██████████| 1/1 [00:00<00:00, 62.07it/s]\n",
      " 47%|████▋     | 47/100 [00:00<00:01, 50.80it/s]"
     ]
    },
    {
     "name": "stdout",
     "output_type": "stream",
     "text": [
      "Epoch 46 Train loss 0.84385162\n",
      "Epoch 46 Validation loss 0.06669432\n"
     ]
    },
    {
     "name": "stderr",
     "output_type": "stream",
     "text": []
    },
    {
     "name": "stdout",
     "output_type": "stream",
     "text": [
      "CE Loss: 3.171910293531255e-06\n",
      "SZ loss: 5.7192760705947876e-05\n"
     ]
    },
    {
     "name": "stderr",
     "output_type": "stream",
     "text": [
      "100%|██████████| 1/1 [00:00<00:00, 66.60it/s]\n"
     ]
    },
    {
     "name": "stdout",
     "output_type": "stream",
     "text": [
      "TP loss: 2.4203059556526796e-09\n",
      "EC loss: 0.8437910079956055\n",
      "Epoch 47 Train loss 0.84385138\n",
      "Epoch 47 Validation loss 0.06669405\n"
     ]
    },
    {
     "name": "stderr",
     "output_type": "stream",
     "text": []
    },
    {
     "name": "stdout",
     "output_type": "stream",
     "text": [
      "CE Loss: 3.1355841656477423e-06\n",
      "SZ loss: 5.719275027513504e-05\n"
     ]
    },
    {
     "name": "stderr",
     "output_type": "stream",
     "text": [
      "100%|██████████| 1/1 [00:00<00:00, 65.33it/s]\n"
     ]
    },
    {
     "name": "stdout",
     "output_type": "stream",
     "text": [
      "TP loss: 2.395662335175075e-09\n",
      "EC loss: 0.8437908291816711\n",
      "Epoch 48 Train loss 0.84385116\n",
      "Epoch 48 Validation loss 0.06669375\n"
     ]
    },
    {
     "name": "stderr",
     "output_type": "stream",
     "text": []
    },
    {
     "name": "stdout",
     "output_type": "stream",
     "text": [
      "CE Loss: 3.102895789197646e-06\n",
      "SZ loss: 5.7192745804786686e-05\n"
     ]
    },
    {
     "name": "stderr",
     "output_type": "stream",
     "text": [
      "100%|██████████| 1/1 [00:00<00:00, 71.21it/s]\n"
     ]
    },
    {
     "name": "stdout",
     "output_type": "stream",
     "text": [
      "TP loss: 2.3741988375292067e-09\n",
      "EC loss: 0.8437906801700592\n",
      "Epoch 49 Train loss 0.84385098\n",
      "Epoch 49 Validation loss 0.06669343\n"
     ]
    },
    {
     "name": "stderr",
     "output_type": "stream",
     "text": []
    },
    {
     "name": "stdout",
     "output_type": "stream",
     "text": [
      "CE Loss: 3.0734545362065546e-06\n",
      "SZ loss: 5.719274282455445e-05\n",
      "TP loss: 2.3543251792546016e-09\n",
      "EC loss: 0.8437905311584473\n"
     ]
    },
    {
     "name": "stderr",
     "output_type": "stream",
     "text": [
      "100%|██████████| 1/1 [00:00<00:00, 63.30it/s]\n"
     ]
    },
    {
     "name": "stdout",
     "output_type": "stream",
     "text": [
      "Epoch 50 Train loss 0.84385080\n",
      "Epoch 50 Validation loss 0.06669319\n"
     ]
    },
    {
     "name": "stderr",
     "output_type": "stream",
     "text": []
    },
    {
     "name": "stdout",
     "output_type": "stream",
     "text": [
      "CE Loss: 3.046914571314119e-06\n",
      "SZ loss: 5.719273388385773e-05\n",
      "TP loss: 2.3364388201940756e-09\n",
      "EC loss: 0.8437903821468353\n"
     ]
    },
    {
     "name": "stderr",
     "output_type": "stream",
     "text": [
      "100%|██████████| 1/1 [00:00<00:00, 60.77it/s]\n"
     ]
    },
    {
     "name": "stdout",
     "output_type": "stream",
     "text": [
      "Epoch 51 Train loss 0.84385062\n",
      "Epoch 51 Validation loss 0.06669298\n"
     ]
    },
    {
     "name": "stderr",
     "output_type": "stream",
     "text": []
    },
    {
     "name": "stdout",
     "output_type": "stream",
     "text": [
      "CE Loss: 3.0229705316742184e-06\n",
      "SZ loss: 5.719272717833519e-05\n",
      "TP loss: 2.319148872942378e-09\n",
      "EC loss: 0.8437902629375458\n"
     ]
    },
    {
     "name": "stderr",
     "output_type": "stream",
     "text": [
      "100%|██████████| 1/1 [00:00<00:00, 68.33it/s]\n",
      " 53%|█████▎    | 53/100 [00:01<00:00, 49.80it/s]"
     ]
    },
    {
     "name": "stdout",
     "output_type": "stream",
     "text": [
      "Epoch 52 Train loss 0.84385048\n",
      "Epoch 52 Validation loss 0.06669271\n"
     ]
    },
    {
     "name": "stderr",
     "output_type": "stream",
     "text": []
    },
    {
     "name": "stdout",
     "output_type": "stream",
     "text": [
      "CE Loss: 3.001352524734102e-06\n",
      "SZ loss: 5.7192717492580415e-05\n",
      "TP loss: 2.3048398745117993e-09\n",
      "EC loss: 0.8437901735305786\n"
     ]
    },
    {
     "name": "stderr",
     "output_type": "stream",
     "text": [
      "100%|██████████| 1/1 [00:00<00:00, 69.16it/s]\n"
     ]
    },
    {
     "name": "stdout",
     "output_type": "stream",
     "text": [
      "Epoch 53 Train loss 0.84385037\n",
      "Epoch 53 Validation loss 0.06669253\n"
     ]
    },
    {
     "name": "stderr",
     "output_type": "stream",
     "text": []
    },
    {
     "name": "stdout",
     "output_type": "stream",
     "text": [
      "CE Loss: 2.9818215807608794e-06\n",
      "SZ loss: 5.719271153211594e-05\n",
      "TP loss: 2.2907296060026283e-09\n",
      "EC loss: 0.8437900841236115\n"
     ]
    },
    {
     "name": "stderr",
     "output_type": "stream",
     "text": [
      "100%|██████████| 1/1 [00:00<00:00, 68.64it/s]\n"
     ]
    },
    {
     "name": "stdout",
     "output_type": "stream",
     "text": [
      "Epoch 54 Train loss 0.84385026\n",
      "Epoch 54 Validation loss 0.06669241\n"
     ]
    },
    {
     "name": "stderr",
     "output_type": "stream",
     "text": []
    },
    {
     "name": "stdout",
     "output_type": "stream",
     "text": [
      "CE Loss: 2.9641648779943353e-06\n",
      "SZ loss: 5.719271153211594e-05\n",
      "TP loss: 2.279004096550352e-09\n",
      "EC loss: 0.8437899649143219\n"
     ]
    },
    {
     "name": "stderr",
     "output_type": "stream",
     "text": [
      "100%|██████████| 1/1 [00:00<00:00, 71.96it/s]\n"
     ]
    },
    {
     "name": "stdout",
     "output_type": "stream",
     "text": [
      "Epoch 55 Train loss 0.84385012\n",
      "Epoch 55 Validation loss 0.06669226\n"
     ]
    },
    {
     "name": "stderr",
     "output_type": "stream",
     "text": []
    },
    {
     "name": "stdout",
     "output_type": "stream",
     "text": [
      "CE Loss: 2.9481925594154745e-06\n",
      "SZ loss: 5.719270557165146e-05\n",
      "TP loss: 2.267080079221273e-09\n",
      "EC loss: 0.8437898755073547\n"
     ]
    },
    {
     "name": "stderr",
     "output_type": "stream",
     "text": [
      "100%|██████████| 1/1 [00:00<00:00, 70.23it/s]\n"
     ]
    },
    {
     "name": "stdout",
     "output_type": "stream",
     "text": [
      "Epoch 56 Train loss 0.84385002\n",
      "Epoch 56 Validation loss 0.06669202\n"
     ]
    },
    {
     "name": "stderr",
     "output_type": "stream",
     "text": []
    },
    {
     "name": "stdout",
     "output_type": "stream",
     "text": [
      "CE Loss: 2.9337359137571184e-06\n",
      "SZ loss: 5.71927048265934e-05\n"
     ]
    },
    {
     "name": "stderr",
     "output_type": "stream",
     "text": [
      "100%|██████████| 1/1 [00:00<00:00, 65.65it/s]"
     ]
    },
    {
     "name": "stdout",
     "output_type": "stream",
     "text": [
      "TP loss: 2.256745901263457e-09\n",
      "EC loss: 0.84378981590271\n"
     ]
    },
    {
     "name": "stderr",
     "output_type": "stream",
     "text": [
      "\n",
      " 58%|█████▊    | 58/100 [00:01<00:00, 49.75it/s]"
     ]
    },
    {
     "name": "stdout",
     "output_type": "stream",
     "text": [
      "Epoch 57 Train loss 0.84384994\n",
      "Epoch 57 Validation loss 0.06669194\n"
     ]
    },
    {
     "name": "stderr",
     "output_type": "stream",
     "text": [
      "100%|██████████| 1/1 [00:00<00:00, 67.91it/s]"
     ]
    },
    {
     "name": "stdout",
     "output_type": "stream",
     "text": [
      "CE Loss: 2.9206444196461234e-06\n",
      "SZ loss: 5.7192698121070864e-05\n",
      "TP loss: 2.247206420946668e-09\n",
      "EC loss: 0.8437897562980652\n",
      "Epoch 58 Train loss 0.84384987\n"
     ]
    },
    {
     "name": "stderr",
     "output_type": "stream",
     "text": [
      "\n"
     ]
    },
    {
     "name": "stdout",
     "output_type": "stream",
     "text": [
      "Epoch 58 Validation loss 0.06669185\n"
     ]
    },
    {
     "name": "stderr",
     "output_type": "stream",
     "text": []
    },
    {
     "name": "stdout",
     "output_type": "stream",
     "text": [
      "CE Loss: 2.9087814255035482e-06\n",
      "SZ loss: 5.7192694395780565e-05\n",
      "TP loss: 2.2386608122815232e-09\n",
      "EC loss: 0.8437896966934204\n"
     ]
    },
    {
     "name": "stderr",
     "output_type": "stream",
     "text": [
      "100%|██████████| 1/1 [00:00<00:00, 66.08it/s]"
     ]
    },
    {
     "name": "stdout",
     "output_type": "stream",
     "text": [
      "Epoch 59 Train loss 0.84384980\n"
     ]
    },
    {
     "name": "stderr",
     "output_type": "stream",
     "text": [
      "\n"
     ]
    },
    {
     "name": "stdout",
     "output_type": "stream",
     "text": [
      "Epoch 59 Validation loss 0.06669176\n"
     ]
    },
    {
     "name": "stderr",
     "output_type": "stream",
     "text": []
    },
    {
     "name": "stdout",
     "output_type": "stream",
     "text": [
      "CE Loss: 2.8980277875234606e-06\n",
      "SZ loss: 5.7192694395780565e-05\n",
      "TP loss: 2.2297177437735627e-09\n",
      "EC loss: 0.843789666891098\n"
     ]
    },
    {
     "name": "stderr",
     "output_type": "stream",
     "text": [
      "100%|██████████| 1/1 [00:00<00:00, 64.47it/s]\n"
     ]
    },
    {
     "name": "stdout",
     "output_type": "stream",
     "text": [
      "Epoch 60 Train loss 0.84384976\n",
      "Epoch 60 Validation loss 0.06669152\n"
     ]
    },
    {
     "name": "stderr",
     "output_type": "stream",
     "text": []
    },
    {
     "name": "stdout",
     "output_type": "stream",
     "text": [
      "CE Loss: 2.888273456846946e-06\n",
      "SZ loss: 5.7192690670490266e-05\n",
      "TP loss: 2.222960704401089e-09\n",
      "EC loss: 0.8437896072864532\n"
     ]
    },
    {
     "name": "stderr",
     "output_type": "stream",
     "text": [
      "100%|██████████| 1/1 [00:00<00:00, 69.88it/s]\n"
     ]
    },
    {
     "name": "stdout",
     "output_type": "stream",
     "text": [
      "Epoch 61 Train loss 0.84384969\n",
      "Epoch 61 Validation loss 0.06669152\n"
     ]
    },
    {
     "name": "stderr",
     "output_type": "stream",
     "text": []
    },
    {
     "name": "stdout",
     "output_type": "stream",
     "text": [
      "CE Loss: 2.8794215722882655e-06\n",
      "SZ loss: 5.719268471002579e-05\n",
      "TP loss: 2.2146138256573522e-09\n",
      "EC loss: 0.8437895476818085\n"
     ]
    },
    {
     "name": "stderr",
     "output_type": "stream",
     "text": [
      "100%|██████████| 1/1 [00:00<00:00, 68.30it/s]\n",
      " 63%|██████▎   | 63/100 [00:01<00:00, 49.37it/s]"
     ]
    },
    {
     "name": "stdout",
     "output_type": "stream",
     "text": [
      "Epoch 62 Train loss 0.84384962\n",
      "Epoch 62 Validation loss 0.06669137\n"
     ]
    },
    {
     "name": "stderr",
     "output_type": "stream",
     "text": [
      "100%|██████████| 1/1 [00:00<00:00, 76.29it/s]"
     ]
    },
    {
     "name": "stdout",
     "output_type": "stream",
     "text": [
      "CE Loss: 2.871384822356049e-06\n",
      "SZ loss: 5.7192678749561314e-05\n",
      "TP loss: 2.2082544681722993e-09\n",
      "EC loss: 0.8437894880771637\n"
     ]
    },
    {
     "name": "stderr",
     "output_type": "stream",
     "text": [
      "\n"
     ]
    },
    {
     "name": "stdout",
     "output_type": "stream",
     "text": [
      "Epoch 63 Train loss 0.84384955\n",
      "Epoch 63 Validation loss 0.06669140\n"
     ]
    },
    {
     "name": "stderr",
     "output_type": "stream",
     "text": []
    },
    {
     "name": "stdout",
     "output_type": "stream",
     "text": [
      "CE Loss: 2.864083398890216e-06\n",
      "SZ loss: 5.719267353415489e-05\n",
      "TP loss: 2.2018948886426415e-09\n",
      "EC loss: 0.8437894582748413\n"
     ]
    },
    {
     "name": "stderr",
     "output_type": "stream",
     "text": [
      "100%|██████████| 1/1 [00:00<00:00, 69.44it/s]\n"
     ]
    },
    {
     "name": "stdout",
     "output_type": "stream",
     "text": [
      "Epoch 64 Train loss 0.84384952\n",
      "Epoch 64 Validation loss 0.06669128\n"
     ]
    },
    {
     "name": "stderr",
     "output_type": "stream",
     "text": []
    },
    {
     "name": "stdout",
     "output_type": "stream",
     "text": [
      "CE Loss: 2.8574470434250543e-06\n",
      "SZ loss: 5.7192675024271015e-05\n",
      "TP loss: 2.1955353091129837e-09\n",
      "EC loss: 0.8437894284725189\n"
     ]
    },
    {
     "name": "stderr",
     "output_type": "stream",
     "text": [
      "100%|██████████| 1/1 [00:00<00:00, 65.87it/s]\n"
     ]
    },
    {
     "name": "stdout",
     "output_type": "stream",
     "text": [
      "Epoch 65 Train loss 0.84384948\n",
      "Epoch 65 Validation loss 0.06669116\n"
     ]
    },
    {
     "name": "stderr",
     "output_type": "stream",
     "text": [
      "100%|██████████| 1/1 [00:00<00:00, 69.41it/s]"
     ]
    },
    {
     "name": "stdout",
     "output_type": "stream",
     "text": [
      "CE Loss: 2.851412546078791e-06\n",
      "SZ loss: 5.7192667573690416e-05\n",
      "TP loss: 2.189175729583326e-09\n",
      "EC loss: 0.8437893986701965\n"
     ]
    },
    {
     "name": "stderr",
     "output_type": "stream",
     "text": [
      "\n"
     ]
    },
    {
     "name": "stdout",
     "output_type": "stream",
     "text": [
      "Epoch 66 Train loss 0.84384944\n",
      "Epoch 66 Validation loss 0.06669110\n"
     ]
    },
    {
     "name": "stderr",
     "output_type": "stream",
     "text": []
    },
    {
     "name": "stdout",
     "output_type": "stream",
     "text": [
      "CE Loss: 2.845921017069486e-06\n",
      "SZ loss: 5.719266086816788e-05\n"
     ]
    },
    {
     "name": "stderr",
     "output_type": "stream",
     "text": [
      "100%|██████████| 1/1 [00:00<00:00, 79.67it/s]"
     ]
    },
    {
     "name": "stdout",
     "output_type": "stream",
     "text": [
      "TP loss: 2.184803671312352e-09\n",
      "EC loss: 0.8437893688678741\n"
     ]
    },
    {
     "name": "stderr",
     "output_type": "stream",
     "text": [
      "\n"
     ]
    },
    {
     "name": "stdout",
     "output_type": "stream",
     "text": [
      "Epoch 67 Train loss 0.84384941\n",
      "Epoch 67 Validation loss 0.06669107\n"
     ]
    },
    {
     "name": "stderr",
     "output_type": "stream",
     "text": [
      "100%|██████████| 1/1 [00:00<00:00, 63.95it/s]"
     ]
    },
    {
     "name": "stdout",
     "output_type": "stream",
     "text": [
      "CE Loss: 2.8409201604517875e-06\n",
      "SZ loss: 5.719266086816788e-05\n",
      "TP loss: 2.180829072884194e-09\n",
      "EC loss: 0.8437893688678741\n"
     ]
    },
    {
     "name": "stderr",
     "output_type": "stream",
     "text": [
      "\n",
      " 69%|██████▉   | 69/100 [00:01<00:00, 49.49it/s]"
     ]
    },
    {
     "name": "stdout",
     "output_type": "stream",
     "text": [
      "Epoch 68 Train loss 0.84384940\n",
      "Epoch 68 Validation loss 0.06669104\n"
     ]
    },
    {
     "name": "stderr",
     "output_type": "stream",
     "text": [
      "100%|██████████| 1/1 [00:00<00:00, 71.22it/s]"
     ]
    },
    {
     "name": "stdout",
     "output_type": "stream",
     "text": [
      "CE Loss: 2.8363633646222297e-06\n",
      "SZ loss: 5.719265788793564e-05\n",
      "TP loss: 2.1758606028043914e-09\n",
      "EC loss: 0.8437893390655518\n"
     ]
    },
    {
     "name": "stderr",
     "output_type": "stream",
     "text": [
      "\n"
     ]
    },
    {
     "name": "stdout",
     "output_type": "stream",
     "text": [
      "Epoch 69 Train loss 0.84384937\n",
      "Epoch 69 Validation loss 0.06669098\n"
     ]
    },
    {
     "name": "stderr",
     "output_type": "stream",
     "text": [
      "100%|██████████| 1/1 [00:00<00:00, 67.18it/s]"
     ]
    },
    {
     "name": "stdout",
     "output_type": "stream",
     "text": [
      "CE Loss: 2.832208792824531e-06\n",
      "SZ loss: 5.7192652672529226e-05\n",
      "TP loss: 2.1716874964994304e-09\n",
      "EC loss: 0.8437893092632294\n"
     ]
    },
    {
     "name": "stderr",
     "output_type": "stream",
     "text": [
      "\n"
     ]
    },
    {
     "name": "stdout",
     "output_type": "stream",
     "text": [
      "Epoch 70 Train loss 0.84384934\n",
      "Epoch 70 Validation loss 0.06669089\n"
     ]
    },
    {
     "name": "stderr",
     "output_type": "stream",
     "text": []
    },
    {
     "name": "stdout",
     "output_type": "stream",
     "text": [
      "CE Loss: 2.828417336786515e-06\n",
      "SZ loss: 5.719264149665833e-05\n",
      "TP loss: 2.1673152161838516e-09\n",
      "EC loss: 0.8437893092632294\n"
     ]
    },
    {
     "name": "stderr",
     "output_type": "stream",
     "text": [
      "100%|██████████| 1/1 [00:00<00:00, 61.31it/s]"
     ]
    },
    {
     "name": "stdout",
     "output_type": "stream",
     "text": [
      "Epoch 71 Train loss 0.84384933\n"
     ]
    },
    {
     "name": "stderr",
     "output_type": "stream",
     "text": [
      "\n"
     ]
    },
    {
     "name": "stdout",
     "output_type": "stream",
     "text": [
      "Epoch 71 Validation loss 0.06669089\n"
     ]
    },
    {
     "name": "stderr",
     "output_type": "stream",
     "text": []
    },
    {
     "name": "stdout",
     "output_type": "stream",
     "text": [
      "CE Loss: 2.8249553452042164e-06\n",
      "SZ loss: 5.719263926148415e-05\n",
      "TP loss: 2.162346746104049e-09\n",
      "EC loss: 0.843789279460907\n"
     ]
    },
    {
     "name": "stderr",
     "output_type": "stream",
     "text": [
      "100%|██████████| 1/1 [00:00<00:00, 65.52it/s]\n"
     ]
    },
    {
     "name": "stdout",
     "output_type": "stream",
     "text": [
      "Epoch 72 Train loss 0.84384930\n",
      "Epoch 72 Validation loss 0.06669086\n"
     ]
    },
    {
     "name": "stderr",
     "output_type": "stream",
     "text": []
    },
    {
     "name": "stdout",
     "output_type": "stream",
     "text": [
      "CE Loss: 2.821789394147345e-06\n",
      "SZ loss: 5.719263926148415e-05\n",
      "TP loss: 2.1597630350811414e-09\n",
      "EC loss: 0.843789279460907\n"
     ]
    },
    {
     "name": "stderr",
     "output_type": "stream",
     "text": [
      "100%|██████████| 1/1 [00:00<00:00, 63.26it/s]\n",
      " 74%|███████▍  | 74/100 [00:01<00:00, 48.58it/s]"
     ]
    },
    {
     "name": "stdout",
     "output_type": "stream",
     "text": [
      "Epoch 73 Train loss 0.84384930\n",
      "Epoch 73 Validation loss 0.06669074\n"
     ]
    },
    {
     "name": "stderr",
     "output_type": "stream",
     "text": []
    },
    {
     "name": "stdout",
     "output_type": "stream",
     "text": [
      "CE Loss: 2.8188935630169e-06\n",
      "SZ loss: 5.719263106584549e-05\n",
      "TP loss: 2.1551922468887597e-09\n",
      "EC loss: 0.8437892496585846\n"
     ]
    },
    {
     "name": "stderr",
     "output_type": "stream",
     "text": [
      "100%|██████████| 1/1 [00:00<00:00, 66.37it/s]\n"
     ]
    },
    {
     "name": "stdout",
     "output_type": "stream",
     "text": [
      "Epoch 74 Train loss 0.84384926\n",
      "Epoch 74 Validation loss 0.06669071\n"
     ]
    },
    {
     "name": "stderr",
     "output_type": "stream",
     "text": []
    },
    {
     "name": "stdout",
     "output_type": "stream",
     "text": [
      "CE Loss: 2.81624147646653e-06\n",
      "SZ loss: 5.719263106584549e-05\n",
      "TP loss: 2.152608535865852e-09\n",
      "EC loss: 0.8437892496585846\n"
     ]
    },
    {
     "name": "stderr",
     "output_type": "stream",
     "text": [
      "100%|██████████| 1/1 [00:00<00:00, 57.39it/s]\n"
     ]
    },
    {
     "name": "stdout",
     "output_type": "stream",
     "text": [
      "Epoch 75 Train loss 0.84384926\n",
      "Epoch 75 Validation loss 0.06669068\n"
     ]
    },
    {
     "name": "stderr",
     "output_type": "stream",
     "text": []
    },
    {
     "name": "stdout",
     "output_type": "stream",
     "text": [
      "CE Loss: 2.8138092602603137e-06\n",
      "SZ loss: 5.719262138009072e-05\n",
      "TP loss: 2.148832445314497e-09\n",
      "EC loss: 0.8437892198562622\n"
     ]
    },
    {
     "name": "stderr",
     "output_type": "stream",
     "text": [
      "100%|██████████| 1/1 [00:00<00:00, 68.15it/s]\n"
     ]
    },
    {
     "name": "stdout",
     "output_type": "stream",
     "text": [
      "Epoch 76 Train loss 0.84384923\n",
      "Epoch 76 Validation loss 0.06669065\n"
     ]
    },
    {
     "name": "stderr",
     "output_type": "stream",
     "text": []
    },
    {
     "name": "stdout",
     "output_type": "stream",
     "text": [
      "CE Loss: 2.8115762233937858e-06\n",
      "SZ loss: 5.719262138009072e-05\n",
      "TP loss: 2.1458512744487734e-09\n",
      "EC loss: 0.8437892198562622\n"
     ]
    },
    {
     "name": "stderr",
     "output_type": "stream",
     "text": [
      "100%|██████████| 1/1 [00:00<00:00, 67.60it/s]\n"
     ]
    },
    {
     "name": "stdout",
     "output_type": "stream",
     "text": [
      "Epoch 77 Train loss 0.84384923\n",
      "Epoch 77 Validation loss 0.06669062\n"
     ]
    },
    {
     "name": "stderr",
     "output_type": "stream",
     "text": []
    },
    {
     "name": "stdout",
     "output_type": "stream",
     "text": [
      "CE Loss: 2.809523948599235e-06\n",
      "SZ loss: 5.719262212514878e-05\n",
      "TP loss: 2.142472865784839e-09\n",
      "EC loss: 0.8437892198562622\n"
     ]
    },
    {
     "name": "stderr",
     "output_type": "stream",
     "text": [
      "100%|██████████| 1/1 [00:00<00:00, 63.04it/s]\n",
      " 79%|███████▉  | 79/100 [00:01<00:00, 48.37it/s]"
     ]
    },
    {
     "name": "stdout",
     "output_type": "stream",
     "text": [
      "Epoch 78 Train loss 0.84384922\n",
      "Epoch 78 Validation loss 0.06669062\n"
     ]
    },
    {
     "name": "stderr",
     "output_type": "stream",
     "text": []
    },
    {
     "name": "stdout",
     "output_type": "stream",
     "text": [
      "CE Loss: 2.8076342459826265e-06\n",
      "SZ loss: 5.719261541962624e-05\n",
      "TP loss: 2.1398895988511413e-09\n",
      "EC loss: 0.8437891900539398\n"
     ]
    },
    {
     "name": "stderr",
     "output_type": "stream",
     "text": [
      "100%|██████████| 1/1 [00:00<00:00, 60.91it/s]\n"
     ]
    },
    {
     "name": "stdout",
     "output_type": "stream",
     "text": [
      "Epoch 79 Train loss 0.84384919\n",
      "Epoch 79 Validation loss 0.06669053\n"
     ]
    },
    {
     "name": "stderr",
     "output_type": "stream",
     "text": []
    },
    {
     "name": "stdout",
     "output_type": "stream",
     "text": [
      "CE Loss: 2.8058925636287313e-06\n",
      "SZ loss: 5.719261541962624e-05\n",
      "TP loss: 2.136709920108615e-09\n",
      "EC loss: 0.8437891900539398\n"
     ]
    },
    {
     "name": "stderr",
     "output_type": "stream",
     "text": [
      "100%|██████████| 1/1 [00:00<00:00, 63.28it/s]\n"
     ]
    },
    {
     "name": "stdout",
     "output_type": "stream",
     "text": [
      "Epoch 80 Train loss 0.84384919\n",
      "Epoch 80 Validation loss 0.06669053\n"
     ]
    },
    {
     "name": "stderr",
     "output_type": "stream",
     "text": []
    },
    {
     "name": "stdout",
     "output_type": "stream",
     "text": [
      "CE Loss: 2.804284804369672e-06\n",
      "SZ loss: 5.719260796904564e-05\n",
      "TP loss: 2.1333312894000755e-09\n",
      "EC loss: 0.8437891900539398\n"
     ]
    },
    {
     "name": "stderr",
     "output_type": "stream",
     "text": [
      "100%|██████████| 1/1 [00:00<00:00, 60.81it/s]\n"
     ]
    },
    {
     "name": "stdout",
     "output_type": "stream",
     "text": [
      "Epoch 81 Train loss 0.84384919\n",
      "Epoch 81 Validation loss 0.06669053\n"
     ]
    },
    {
     "name": "stderr",
     "output_type": "stream",
     "text": []
    },
    {
     "name": "stdout",
     "output_type": "stream",
     "text": [
      "CE Loss: 2.802797553158598e-06\n",
      "SZ loss: 5.7192601263523105e-05\n",
      "TP loss: 2.13054884845576e-09\n",
      "EC loss: 0.8437891900539398\n"
     ]
    },
    {
     "name": "stderr",
     "output_type": "stream",
     "text": [
      "100%|██████████| 1/1 [00:00<00:00, 68.64it/s]\n"
     ]
    },
    {
     "name": "stdout",
     "output_type": "stream",
     "text": [
      "Epoch 82 Train loss 0.84384919\n",
      "Epoch 82 Validation loss 0.06669050\n"
     ]
    },
    {
     "name": "stderr",
     "output_type": "stream",
     "text": []
    },
    {
     "name": "stdout",
     "output_type": "stream",
     "text": [
      "CE Loss: 2.801418531817035e-06\n",
      "SZ loss: 5.719259828329087e-05\n",
      "TP loss: 2.128362597275668e-09\n",
      "EC loss: 0.8437891602516174\n"
     ]
    },
    {
     "name": "stderr",
     "output_type": "stream",
     "text": [
      "100%|██████████| 1/1 [00:00<00:00, 61.19it/s]\n",
      " 84%|████████▍ | 84/100 [00:01<00:00, 47.78it/s]"
     ]
    },
    {
     "name": "stdout",
     "output_type": "stream",
     "text": [
      "Epoch 83 Train loss 0.84384916\n",
      "Epoch 83 Validation loss 0.06669050\n"
     ]
    },
    {
     "name": "stderr",
     "output_type": "stream",
     "text": []
    },
    {
     "name": "stdout",
     "output_type": "stream",
     "text": [
      "CE Loss: 2.8001388727716403e-06\n",
      "SZ loss: 5.719259530305863e-05\n",
      "TP loss: 2.1253818704991545e-09\n",
      "EC loss: 0.8437891602516174\n"
     ]
    },
    {
     "name": "stderr",
     "output_type": "stream",
     "text": [
      "100%|██████████| 1/1 [00:00<00:00, 55.09it/s]\n"
     ]
    },
    {
     "name": "stdout",
     "output_type": "stream",
     "text": [
      "Epoch 84 Train loss 0.84384916\n",
      "Epoch 84 Validation loss 0.06669053\n"
     ]
    },
    {
     "name": "stderr",
     "output_type": "stream",
     "text": []
    },
    {
     "name": "stdout",
     "output_type": "stream",
     "text": [
      "CE Loss: 2.7989478894596687e-06\n",
      "SZ loss: 5.719259232282639e-05\n",
      "TP loss: 2.122202191756628e-09\n",
      "EC loss: 0.8437891602516174\n"
     ]
    },
    {
     "name": "stderr",
     "output_type": "stream",
     "text": [
      "100%|██████████| 1/1 [00:00<00:00, 59.37it/s]\n"
     ]
    },
    {
     "name": "stdout",
     "output_type": "stream",
     "text": [
      "Epoch 85 Train loss 0.84384915\n",
      "Epoch 85 Validation loss 0.06669044\n"
     ]
    },
    {
     "name": "stderr",
     "output_type": "stream",
     "text": []
    },
    {
     "name": "stdout",
     "output_type": "stream",
     "text": [
      "CE Loss: 2.7978383059235057e-06\n",
      "SZ loss: 5.719258785247803e-05\n",
      "TP loss: 2.120413400419352e-09\n",
      "EC loss: 0.8437891602516174\n"
     ]
    },
    {
     "name": "stderr",
     "output_type": "stream",
     "text": [
      "100%|██████████| 1/1 [00:00<00:00, 59.53it/s]\n"
     ]
    },
    {
     "name": "stdout",
     "output_type": "stream",
     "text": [
      "Epoch 86 Train loss 0.84384915\n",
      "Epoch 86 Validation loss 0.06669044\n"
     ]
    },
    {
     "name": "stderr",
     "output_type": "stream",
     "text": []
    },
    {
     "name": "stdout",
     "output_type": "stream",
     "text": [
      "CE Loss: 2.7968005724687828e-06\n",
      "SZ loss: 5.719258412718773e-05\n",
      "TP loss: 2.1178296893964443e-09\n",
      "EC loss: 0.8437891602516174\n"
     ]
    },
    {
     "name": "stderr",
     "output_type": "stream",
     "text": [
      "100%|██████████| 1/1 [00:00<00:00, 63.10it/s]\n"
     ]
    },
    {
     "name": "stdout",
     "output_type": "stream",
     "text": [
      "Epoch 87 Train loss 0.84384915\n",
      "Epoch 87 Validation loss 0.06669039\n"
     ]
    },
    {
     "name": "stderr",
     "output_type": "stream",
     "text": []
    },
    {
     "name": "stdout",
     "output_type": "stream",
     "text": [
      "CE Loss: 2.7958294595009647e-06\n",
      "SZ loss: 5.719258412718773e-05\n",
      "TP loss: 2.1160411201037732e-09\n",
      "EC loss: 0.8437891602516174\n"
     ]
    },
    {
     "name": "stderr",
     "output_type": "stream",
     "text": [
      "100%|██████████| 1/1 [00:00<00:00, 66.36it/s]\n"
     ]
    },
    {
     "name": "stdout",
     "output_type": "stream",
     "text": [
      "Epoch 88 Train loss 0.84384915\n"
     ]
    },
    {
     "name": "stderr",
     "output_type": "stream",
     "text": [
      " 89%|████████▉ | 89/100 [00:01<00:00, 46.38it/s]"
     ]
    },
    {
     "name": "stdout",
     "output_type": "stream",
     "text": [
      "Epoch 88 Validation loss 0.06669036\n"
     ]
    },
    {
     "name": "stderr",
     "output_type": "stream",
     "text": []
    },
    {
     "name": "stdout",
     "output_type": "stream",
     "text": [
      "CE Loss: 2.7949172363150865e-06\n",
      "SZ loss: 5.719258040189743e-05\n"
     ]
    },
    {
     "name": "stderr",
     "output_type": "stream",
     "text": [
      "100%|██████████| 1/1 [00:00<00:00, 69.46it/s]\n"
     ]
    },
    {
     "name": "stdout",
     "output_type": "stream",
     "text": [
      "TP loss: 2.1130603933272596e-09\n",
      "EC loss: 0.843789130449295\n",
      "Epoch 89 Train loss 0.84384912\n",
      "Epoch 89 Validation loss 0.06669033\n"
     ]
    },
    {
     "name": "stderr",
     "output_type": "stream",
     "text": []
    },
    {
     "name": "stdout",
     "output_type": "stream",
     "text": [
      "CE Loss: 2.7940591280639637e-06\n",
      "SZ loss: 5.719258040189743e-05\n",
      "TP loss: 2.1112716019899835e-09\n",
      "EC loss: 0.843789130449295\n"
     ]
    },
    {
     "name": "stderr",
     "output_type": "stream",
     "text": [
      "100%|██████████| 1/1 [00:00<00:00, 66.88it/s]\n"
     ]
    },
    {
     "name": "stdout",
     "output_type": "stream",
     "text": [
      "Epoch 90 Train loss 0.84384912\n",
      "Epoch 90 Validation loss 0.06669027\n"
     ]
    },
    {
     "name": "stderr",
     "output_type": "stream",
     "text": []
    },
    {
     "name": "stdout",
     "output_type": "stream",
     "text": [
      "CE Loss: 2.7932489956583595e-06\n",
      "SZ loss: 5.7192573696374895e-05\n",
      "TP loss: 2.108091923247457e-09\n",
      "EC loss: 0.843789130449295\n"
     ]
    },
    {
     "name": "stderr",
     "output_type": "stream",
     "text": [
      "100%|██████████| 1/1 [00:00<00:00, 67.01it/s]\n"
     ]
    },
    {
     "name": "stdout",
     "output_type": "stream",
     "text": [
      "Epoch 91 Train loss 0.84384912\n",
      "Epoch 91 Validation loss 0.06669033\n"
     ]
    },
    {
     "name": "stderr",
     "output_type": "stream",
     "text": []
    },
    {
     "name": "stdout",
     "output_type": "stream",
     "text": [
      "CE Loss: 2.7924825189984404e-06\n",
      "SZ loss: 5.7192573696374895e-05\n",
      "TP loss: 2.106501639786984e-09\n",
      "EC loss: 0.843789130449295\n"
     ]
    },
    {
     "name": "stderr",
     "output_type": "stream",
     "text": [
      "100%|██████████| 1/1 [00:00<00:00, 67.46it/s]\n"
     ]
    },
    {
     "name": "stdout",
     "output_type": "stream",
     "text": [
      "Epoch 92 Train loss 0.84384912\n",
      "Epoch 92 Validation loss 0.06669030\n"
     ]
    },
    {
     "name": "stderr",
     "output_type": "stream",
     "text": []
    },
    {
     "name": "stdout",
     "output_type": "stream",
     "text": [
      "CE Loss: 2.7917556053580483e-06\n",
      "SZ loss: 5.7192566245794296e-05\n",
      "TP loss: 2.1039179287640764e-09\n",
      "EC loss: 0.8437891006469727\n"
     ]
    },
    {
     "name": "stderr",
     "output_type": "stream",
     "text": [
      "100%|██████████| 1/1 [00:00<00:00, 66.45it/s]\n"
     ]
    },
    {
     "name": "stdout",
     "output_type": "stream",
     "text": [
      "Epoch 93 Train loss 0.84384909\n",
      "Epoch 93 Validation loss 0.06669027\n"
     ]
    },
    {
     "name": "stderr",
     "output_type": "stream",
     "text": []
    },
    {
     "name": "stdout",
     "output_type": "stream",
     "text": [
      "CE Loss: 2.79106393463735e-06\n",
      "SZ loss: 5.719256177544594e-05\n",
      "TP loss: 2.1013344397857736e-09\n"
     ]
    },
    {
     "name": "stderr",
     "output_type": "stream",
     "text": [
      "100%|██████████| 1/1 [00:00<00:00, 65.27it/s]"
     ]
    },
    {
     "name": "stdout",
     "output_type": "stream",
     "text": [
      "EC loss: 0.8437891006469727\n"
     ]
    },
    {
     "name": "stderr",
     "output_type": "stream",
     "text": [
      "\n",
      " 95%|█████████▌| 95/100 [00:01<00:00, 47.47it/s]"
     ]
    },
    {
     "name": "stdout",
     "output_type": "stream",
     "text": [
      "Epoch 94 Train loss 0.84384909\n",
      "Epoch 94 Validation loss 0.06669021\n"
     ]
    },
    {
     "name": "stderr",
     "output_type": "stream",
     "text": []
    },
    {
     "name": "stdout",
     "output_type": "stream",
     "text": [
      "CE Loss: 2.7904043236048892e-06\n",
      "SZ loss: 5.7192558795213705e-05\n",
      "TP loss: 2.0993473626162995e-09\n",
      "EC loss: 0.8437891006469727\n"
     ]
    },
    {
     "name": "stderr",
     "output_type": "stream",
     "text": [
      "100%|██████████| 1/1 [00:00<00:00, 67.35it/s]\n"
     ]
    },
    {
     "name": "stdout",
     "output_type": "stream",
     "text": [
      "Epoch 95 Train loss 0.84384909\n",
      "Epoch 95 Validation loss 0.06669021\n"
     ]
    },
    {
     "name": "stderr",
     "output_type": "stream",
     "text": []
    },
    {
     "name": "stdout",
     "output_type": "stream",
     "text": [
      "CE Loss: 2.789773816402885e-06\n",
      "SZ loss: 5.719255581498147e-05\n",
      "TP loss: 2.0975585712790235e-09\n",
      "EC loss: 0.8437891006469727\n"
     ]
    },
    {
     "name": "stderr",
     "output_type": "stream",
     "text": [
      "100%|██████████| 1/1 [00:00<00:00, 62.82it/s]\n"
     ]
    },
    {
     "name": "stdout",
     "output_type": "stream",
     "text": [
      "Epoch 96 Train loss 0.84384909\n",
      "Epoch 96 Validation loss 0.06669021\n"
     ]
    },
    {
     "name": "stderr",
     "output_type": "stream",
     "text": []
    },
    {
     "name": "stdout",
     "output_type": "stream",
     "text": [
      "CE Loss: 2.7891687750525307e-06\n",
      "SZ loss: 5.719254910945893e-05\n",
      "TP loss: 2.0937827027722733e-09\n",
      "EC loss: 0.8437890708446503\n"
     ]
    },
    {
     "name": "stderr",
     "output_type": "stream",
     "text": [
      "100%|██████████| 1/1 [00:00<00:00, 56.30it/s]"
     ]
    },
    {
     "name": "stdout",
     "output_type": "stream",
     "text": [
      "Epoch 97 Train loss 0.84384905\n",
      "Epoch 97 Validation loss 0.06669012\n"
     ]
    },
    {
     "name": "stderr",
     "output_type": "stream",
     "text": [
      "\n"
     ]
    },
    {
     "name": "stdout",
     "output_type": "stream",
     "text": [
      "CE Loss: 2.788587153190747e-06\n",
      "SZ loss: 5.719254165887833e-05\n",
      "TP loss: 2.0915964515921814e-09\n",
      "EC loss: 0.8437890708446503\n"
     ]
    },
    {
     "name": "stderr",
     "output_type": "stream",
     "text": [
      "100%|██████████| 1/1 [00:00<00:00, 63.78it/s]\n"
     ]
    },
    {
     "name": "stdout",
     "output_type": "stream",
     "text": [
      "Epoch 98 Train loss 0.84384905\n",
      "Epoch 98 Validation loss 0.06669012\n"
     ]
    },
    {
     "name": "stderr",
     "output_type": "stream",
     "text": []
    },
    {
     "name": "stdout",
     "output_type": "stream",
     "text": [
      "CE Loss: 2.7880262223334284e-06\n",
      "SZ loss: 5.719254165887833e-05\n",
      "TP loss: 2.0894104224566945e-09\n",
      "EC loss: 0.8437890708446503\n"
     ]
    },
    {
     "name": "stderr",
     "output_type": "stream",
     "text": [
      "100%|██████████| 1/1 [00:00<00:00, 72.07it/s]\n",
      "100%|██████████| 100/100 [00:02<00:00, 49.00it/s]"
     ]
    },
    {
     "name": "stdout",
     "output_type": "stream",
     "text": [
      "Epoch 99 Train loss 0.84384905\n",
      "Epoch 99 Validation loss 0.06669006\n"
     ]
    },
    {
     "name": "stderr",
     "output_type": "stream",
     "text": [
      "\n"
     ]
    }
   ],
   "source": [
    "for epoch in tqdm(range(n_epochs)):\n",
    "    model.train()\n",
    "    n_train_iter_done = 0\n",
    "    train_loss = 0.\n",
    "    for _ in tqdm(range(n_updates_per_epoch)):\n",
    "        \n",
    "        with torch.no_grad():\n",
    "            bbox_coords = CAL_WSISDataset.get_bbox_and_collate(lab)\n",
    "        optimizer.zero_grad()\n",
    "        pred = model(img)\n",
    "        pred = sigmoid(pred)\n",
    "        ce_loss = ce_loss_fn(pred, lab)\n",
    "        ce_loss = ce_loss.mean()\n",
    "        print(f'CE Loss: {ce_loss.detach().numpy()}')\n",
    "        sz_loss = loss_lambda*sz_loss_fn(pred, lab).mean()\n",
    "        print(f'SZ loss: {sz_loss.detach().numpy()}')\n",
    "        tp_loss = loss_lambda*tight_loss_fn(pred, lab, bbox_coords).mean()\n",
    "        print(f'TP loss: {tp_loss.detach().numpy()}')\n",
    "        ec_loss = emptyness_constraint_fn(pred,lab).mean()\n",
    "        print(f'EC loss: {ec_loss.detach().numpy()}')\n",
    "        loss = ce_loss + sz_loss + tp_loss + ec_loss\n",
    "        loss.backward()\n",
    "        optimizer.step()\n",
    "        n_train_iter_done += 1\n",
    "        train_loss += loss.detach().numpy()\n",
    "    print(f'Epoch {epoch:02d} Train loss {train_loss/(1e-11+n_train_iter_done):0.8f}')\n",
    "    \n",
    "    model.eval()\n",
    "    with torch.no_grad():\n",
    "        print(f'Epoch {epoch:02d} Validation loss {dsc(pred,lab):0.8f}')\n",
    "        \n",
    "    #sz_loss_fn.step_barrier()\n",
    "    #tight_loss_fn.step_barrier()\n",
    "    \n"
   ]
  },
  {
   "cell_type": "code",
   "execution_count": null,
   "metadata": {},
   "outputs": [],
   "source": []
  },
  {
   "cell_type": "markdown",
   "metadata": {},
   "source": [
    "### Some sanity checks"
   ]
  },
  {
   "cell_type": "code",
   "execution_count": 26,
   "metadata": {},
   "outputs": [
    {
     "name": "stdout",
     "output_type": "stream",
     "text": [
      "tensor([[37, 43, 63]])\n",
      "tensor([63])\n",
      "\n",
      "\n",
      "    Validation of losses:\n",
      "    CE 0.0\n",
      "    SZ tensor([[2.4849e-10]], dtype=torch.float64)\n",
      "    TP -1.1013616685318084e-09\n",
      "    TA 0.0\n",
      "    EC 4.705170031371608e-09\n",
      "    DC 0.0\n",
      "\n",
      "    \n"
     ]
    }
   ],
   "source": [
    "if True:\n",
    "    pred = lab\n",
    "    target = lab\n",
    "\n",
    "    ce_loss_fn = WeakCELoss()\n",
    "    sz_loss_fn = Log_barrier_size_constraint_criterion(t=1e+10, mu=1.1, epsilon=0.75)\n",
    "    tight_loss_fn = Log_barrier_tightness_prior_criterion(t=1e+10, mu=1.1)\n",
    "    emptyness_constraint_fn = Log_barrier_emptyness_constraint(t=1e+10, mu=1.1)\n",
    "    tp_am = Tightness_prior_argmax_impl(epsilon=0.999)\n",
    "    # for validation\n",
    "    dsc = DiceLoss()\n",
    "\n",
    "    print(f\"\"\"\n",
    "\n",
    "    Validation of losses:\n",
    "    CE {ce_loss_fn(pred,target)}\n",
    "    SZ {sz_loss_fn(pred,target)}\n",
    "    TP {tight_loss_fn(pred,target,CAL_WSISDataset.get_bbox_and_collate(target))}\n",
    "    TA {tp_am(pred,target,CAL_WSISDataset.get_bbox_and_collate(target))}\n",
    "    EC {emptyness_constraint_fn(pred,target)}\n",
    "    DC {dsc(pred,target)}\n",
    "\n",
    "    \"\"\"\n",
    "    )"
   ]
  },
  {
   "cell_type": "code",
   "execution_count": 38,
   "metadata": {},
   "outputs": [
    {
     "name": "stdout",
     "output_type": "stream",
     "text": [
      "tensor([[37, 43, 63]])\n",
      "tensor([63])\n",
      "metatensor(0.)\n",
      "tensor([[[45, 42,  0],\n",
      "         [82, 85, 63]]])\n",
      "\n",
      "\n",
      "    Validation of losses:\n",
      "    CE 100.00004577636719\n",
      "    SZ tensor([[100.0000]], dtype=torch.float64)\n",
      "    TP 100.0\n",
      "    TA 68.20027923583984\n",
      "    EC 100.0\n",
      "    DC 1.0\n",
      "\n",
      "    \n"
     ]
    }
   ],
   "source": [
    "if True:\n",
    "    target = torch.zeros_like(lab)\n",
    "    bbox_coords = CAL_WSISDataset.get_bbox_and_collate(lab)\n",
    "    for b in range(target.shape[0]):\n",
    "        target[b,0,bbox_coords[b,0,0]:bbox_coords[b,1,0],bbox_coords[b,0,1]:bbox_coords[b,1,1],bbox_coords[b,0,2]:bbox_coords[b,1,2]] = 1.\n",
    "    pred = 1. - target\n",
    "\n",
    "    ce_loss_fn = WeakCELoss()\n",
    "    sz_loss_fn = Log_barrier_size_constraint_criterion(t=1e+10, mu=1.1, epsilon=0.75)\n",
    "    tight_loss_fn = Log_barrier_tightness_prior_criterion(t=1e+10, mu=1.1)\n",
    "    emptyness_constraint_fn = Log_barrier_emptyness_constraint(t=1e+10, mu=1.1)\n",
    "    tp_am = Tightness_prior_argmax_impl(epsilon=0.999)\n",
    "    # for validation\n",
    "    dsc = DiceLoss()\n",
    "\n",
    "    print(f\"\"\"\n",
    "\n",
    "    Validation of losses:\n",
    "    CE {ce_loss_fn(pred,target)}\n",
    "    SZ {sz_loss_fn(pred,target)}\n",
    "    TP {tight_loss_fn(pred,target,bbox_coords)}\n",
    "    TA {tp_am(pred,target,bbox_coords)}\n",
    "    EC {emptyness_constraint_fn(pred,target)}\n",
    "    DC {dsc(pred,target)}\n",
    "\n",
    "    \"\"\"\n",
    "    )"
   ]
  },
  {
   "cell_type": "code",
   "execution_count": 29,
   "metadata": {},
   "outputs": [
    {
     "data": {
      "text/plain": [
       "metatensor([[[0., 0., 0.,  ..., 1., 1., 1.],\n",
       "         [0., 0., 0.,  ..., 1., 1., 1.],\n",
       "         [0., 0., 0.,  ..., 1., 1., 1.],\n",
       "         ...,\n",
       "         [1., 1., 1.,  ..., 1., 1., 1.],\n",
       "         [1., 1., 1.,  ..., 1., 1., 1.],\n",
       "         [1., 1., 1.,  ..., 1., 1., 1.]],\n",
       "\n",
       "        [[0., 0., 0.,  ..., 1., 1., 1.],\n",
       "         [0., 0., 0.,  ..., 1., 1., 1.],\n",
       "         [0., 0., 0.,  ..., 1., 1., 1.],\n",
       "         ...,\n",
       "         [1., 1., 1.,  ..., 1., 1., 1.],\n",
       "         [1., 1., 1.,  ..., 1., 1., 1.],\n",
       "         [1., 1., 1.,  ..., 1., 1., 1.]],\n",
       "\n",
       "        [[0., 0., 0.,  ..., 1., 1., 1.],\n",
       "         [0., 0., 0.,  ..., 1., 1., 1.],\n",
       "         [0., 0., 0.,  ..., 1., 1., 1.],\n",
       "         ...,\n",
       "         [1., 1., 1.,  ..., 1., 1., 1.],\n",
       "         [1., 1., 1.,  ..., 1., 1., 1.],\n",
       "         [1., 1., 1.,  ..., 1., 1., 1.]],\n",
       "\n",
       "        ...,\n",
       "\n",
       "        [[1., 1., 1.,  ..., 1., 1., 1.],\n",
       "         [1., 1., 1.,  ..., 1., 1., 1.],\n",
       "         [1., 1., 1.,  ..., 1., 1., 1.],\n",
       "         ...,\n",
       "         [1., 1., 1.,  ..., 0., 0., 0.],\n",
       "         [1., 1., 1.,  ..., 0., 0., 0.],\n",
       "         [1., 1., 1.,  ..., 0., 0., 0.]],\n",
       "\n",
       "        [[1., 1., 1.,  ..., 1., 1., 1.],\n",
       "         [1., 1., 1.,  ..., 1., 1., 1.],\n",
       "         [1., 1., 1.,  ..., 1., 1., 1.],\n",
       "         ...,\n",
       "         [1., 1., 1.,  ..., 0., 0., 0.],\n",
       "         [1., 1., 1.,  ..., 0., 0., 0.],\n",
       "         [1., 1., 1.,  ..., 0., 0., 0.]],\n",
       "\n",
       "        [[1., 1., 1.,  ..., 1., 1., 1.],\n",
       "         [1., 1., 1.,  ..., 1., 1., 1.],\n",
       "         [1., 1., 1.,  ..., 1., 1., 1.],\n",
       "         ...,\n",
       "         [1., 1., 1.,  ..., 0., 0., 0.],\n",
       "         [1., 1., 1.,  ..., 0., 0., 0.],\n",
       "         [1., 1., 1.,  ..., 0., 0., 0.]]])"
      ]
     },
     "execution_count": 29,
     "metadata": {},
     "output_type": "execute_result"
    }
   ],
   "source": [
    "pred[0,0,45:82,42:84,0:63]"
   ]
  },
  {
   "cell_type": "code",
   "execution_count": 22,
   "metadata": {},
   "outputs": [
    {
     "name": "stdout",
     "output_type": "stream",
     "text": [
      "tensor([[ 0, 37, 43]])\n"
     ]
    },
    {
     "ename": "IndexError",
     "evalue": "Dimension out of range (expected to be in range of [-2, 1], but got 2)",
     "output_type": "error",
     "traceback": [
      "\u001b[0;31m---------------------------------------------------------------------------\u001b[0m",
      "\u001b[0;31mIndexError\u001b[0m                                Traceback (most recent call last)",
      "Cell \u001b[0;32mIn[22], line 17\u001b[0m\n\u001b[1;32m     10\u001b[0m \u001b[38;5;66;03m# for validation\u001b[39;00m\n\u001b[1;32m     11\u001b[0m dsc \u001b[38;5;241m=\u001b[39m DiceLoss()\n\u001b[1;32m     13\u001b[0m \u001b[38;5;28mprint\u001b[39m(\u001b[38;5;124mf\u001b[39m\u001b[38;5;124m\"\"\"\u001b[39m\n\u001b[1;32m     14\u001b[0m \u001b[38;5;124mValidation of losses:\u001b[39m\n\u001b[1;32m     15\u001b[0m \u001b[38;5;124mCE \u001b[39m\u001b[38;5;132;01m{\u001b[39;00mce_loss_fn(pred,target)\u001b[38;5;132;01m}\u001b[39;00m\n\u001b[1;32m     16\u001b[0m \u001b[38;5;124mSZ \u001b[39m\u001b[38;5;132;01m{\u001b[39;00msz_loss_fn(pred,target)\u001b[38;5;132;01m}\u001b[39;00m\n\u001b[0;32m---> 17\u001b[0m \u001b[38;5;124mTP \u001b[39m\u001b[38;5;132;01m{\u001b[39;00m\u001b[43mtight_loss_fn\u001b[49m\u001b[43m(\u001b[49m\u001b[43mpred\u001b[49m\u001b[43m,\u001b[49m\u001b[43mtarget\u001b[49m\u001b[43m,\u001b[49m\u001b[43mCAL_WSISDataset\u001b[49m\u001b[38;5;241;43m.\u001b[39;49m\u001b[43mget_bbox_and_collate\u001b[49m\u001b[43m(\u001b[49m\u001b[43mtarget\u001b[49m\u001b[43m)\u001b[49m\u001b[43m)\u001b[49m\u001b[38;5;132;01m}\u001b[39;00m\n\u001b[1;32m     18\u001b[0m \u001b[38;5;124mTA \u001b[39m\u001b[38;5;132;01m{\u001b[39;00mtp_am(pred,target,CAL_WSISDataset\u001b[38;5;241m.\u001b[39mget_bbox_and_collate(target))\u001b[38;5;132;01m}\u001b[39;00m\n\u001b[1;32m     19\u001b[0m \u001b[38;5;124mEC \u001b[39m\u001b[38;5;132;01m{\u001b[39;00memptyness_constraint_fn(pred,target)\u001b[38;5;132;01m}\u001b[39;00m\n\u001b[1;32m     20\u001b[0m \u001b[38;5;124mDC \u001b[39m\u001b[38;5;132;01m{\u001b[39;00mdsc(pred,target)\u001b[38;5;132;01m}\u001b[39;00m\n\u001b[1;32m     21\u001b[0m \n\u001b[1;32m     22\u001b[0m \u001b[38;5;124m\u001b[39m\u001b[38;5;124m\"\"\"\u001b[39m\n\u001b[1;32m     23\u001b[0m )\n",
      "File \u001b[0;32m~/new-areas/aires-ganglionnaires/weakly_supervised_library.py:159\u001b[0m, in \u001b[0;36mLog_barrier_tightness_prior_criterion.__call__\u001b[0;34m(self, pred, target, bbox_coords)\u001b[0m\n\u001b[1;32m    157\u001b[0m     bbox_width \u001b[38;5;241m=\u001b[39m bbox_coords[:,\u001b[38;5;241m1\u001b[39m,:] \u001b[38;5;241m-\u001b[39m bbox_coords[:,\u001b[38;5;241m0\u001b[39m,:]\n\u001b[1;32m    158\u001b[0m     \u001b[38;5;28mprint\u001b[39m(\u001b[38;5;124mf\u001b[39m\u001b[38;5;124m'\u001b[39m\u001b[38;5;132;01m{\u001b[39;00mbbox_width\u001b[38;5;132;01m}\u001b[39;00m\u001b[38;5;124m'\u001b[39m)\n\u001b[0;32m--> 159\u001b[0m     w \u001b[38;5;241m=\u001b[39m \u001b[43mtorch\u001b[49m\u001b[38;5;241;43m.\u001b[39;49m\u001b[43mamax\u001b[49m\u001b[43m(\u001b[49m\u001b[43mbbox_width\u001b[49m\u001b[43m,\u001b[49m\u001b[43m \u001b[49m\u001b[43mdim\u001b[49m\u001b[38;5;241;43m=\u001b[39;49m\u001b[38;5;241;43m2\u001b[39;49m\u001b[43m)\u001b[49m\n\u001b[1;32m    160\u001b[0m     \u001b[38;5;28mprint\u001b[39m(\u001b[38;5;124mf\u001b[39m\u001b[38;5;124m'\u001b[39m\u001b[38;5;132;01m{\u001b[39;00mw\u001b[38;5;132;01m}\u001b[39;00m\u001b[38;5;124m'\u001b[39m)\n\u001b[1;32m    161\u001b[0m \u001b[38;5;28;01mfor\u001b[39;00m b \u001b[38;5;129;01min\u001b[39;00m \u001b[38;5;28mrange\u001b[39m(pred\u001b[38;5;241m.\u001b[39mshape[\u001b[38;5;241m0\u001b[39m]):\n",
      "\u001b[0;31mIndexError\u001b[0m: Dimension out of range (expected to be in range of [-2, 1], but got 2)"
     ]
    }
   ],
   "source": [
    "if True:\n",
    "    pred = lab.unsqueeze(dim=0)\n",
    "    target = lab.unsqueeze(dim=0)\n",
    "\n",
    "    ce_loss_fn = WeakCELoss()\n",
    "    sz_loss_fn = Log_barrier_size_constraint_criterion(t=1e+10, mu=1.1, epsilon=0.75)\n",
    "    tight_loss_fn = Log_barrier_tightness_prior_criterion(t=1e+10, mu=1.1)\n",
    "    emptyness_constraint_fn = Log_barrier_emptyness_constraint(t=1e+10, mu=1.1)\n",
    "    tp_am = Tightness_prior_argmax_impl(epsilon=0.999)\n",
    "    # for validation\n",
    "    dsc = DiceLoss()\n",
    "\n",
    "    print(f\"\"\"\n",
    "    Validation of losses:\n",
    "    CE {ce_loss_fn(pred,target)}\n",
    "    SZ {sz_loss_fn(pred,target)}\n",
    "    TP {tight_loss_fn(pred,target,CAL_WSISDataset.get_bbox_and_collate(target))}\n",
    "    TA {tp_am(pred,target,CAL_WSISDataset.get_bbox_and_collate(target))}\n",
    "    EC {emptyness_constraint_fn(pred,target)}\n",
    "    DC {dsc(pred,target)}\n",
    "\n",
    "    \"\"\"\n",
    "    )"
   ]
  },
  {
   "cell_type": "code",
   "execution_count": 54,
   "metadata": {},
   "outputs": [
    {
     "name": "stdout",
     "output_type": "stream",
     "text": [
      "\n",
      "    Validation of losses:\n",
      "    CE 100.0\n",
      "    SZ tensor([[100.0000]], dtype=torch.float64)\n",
      "    TP 100.0\n",
      "    TA 85.16087341308594\n",
      "    EC 100.0\n",
      "    DC 1.0\n",
      "\n",
      "    \n"
     ]
    }
   ],
   "source": [
    "if True:\n",
    "    pred = 1 - lab.unsqueeze(dim=0)\n",
    "    target = lab.unsqueeze(dim=0)\n",
    "\n",
    "    ce_loss_fn = WeakCELoss()\n",
    "    sz_loss_fn = Log_barrier_size_constraint_criterion(t=1e+10, mu=1.1, epsilon=0.75)\n",
    "    tight_loss_fn = Log_barrier_tightness_prior_criterion(t=1e+10, mu=1.1)\n",
    "    emptyness_constraint_fn = Log_barrier_emptyness_constraint(t=1e+10, mu=1.1)\n",
    "    tp_am = Tightness_prior_argmax_impl(epsilon=0.999)\n",
    "    # for validation\n",
    "    dsc = DiceLoss()\n",
    "\n",
    "    print(f\"\"\"\n",
    "    Validation of losses:\n",
    "    CE {ce_loss_fn(pred,target)}\n",
    "    SZ {sz_loss_fn(pred,target)}\n",
    "    TP {tight_loss_fn(pred,target,CAL_WSISDataset.get_bbox_and_collate(target))}\n",
    "    TA {tp_am(pred,target,CAL_WSISDataset.get_bbox_and_collate(target))}\n",
    "    EC {emptyness_constraint_fn(pred,target)}\n",
    "    DC {dsc(pred,target)}\n",
    "\n",
    "    \"\"\"\n",
    "    )"
   ]
  },
  {
   "cell_type": "code",
   "execution_count": 44,
   "metadata": {},
   "outputs": [
    {
     "name": "stdout",
     "output_type": "stream",
     "text": [
      "2.76 ms ± 74.5 μs per loop (mean ± std. dev. of 7 runs, 100 loops each)\n"
     ]
    }
   ],
   "source": [
    "%%timeit\n",
    "\n",
    "bbox = CAL_WSISDataset.get_bbox_and_collate(lab.unsqueeze(dim=0))"
   ]
  },
  {
   "cell_type": "code",
   "execution_count": null,
   "metadata": {},
   "outputs": [
    {
     "name": "stdout",
     "output_type": "stream",
     "text": [
      "3.29 s ± 11.5 ms per loop (mean ± std. dev. of 7 runs, 1 loop each)\n"
     ]
    }
   ],
   "source": [
    "%%timeit\n",
    "\n",
    "tight_loss_fn(lab.unsqueeze(dim=0),lab.unsqueeze(dim=0),bbox)"
   ]
  },
  {
   "cell_type": "code",
   "execution_count": null,
   "metadata": {},
   "outputs": [
    {
     "name": "stdout",
     "output_type": "stream",
     "text": [
      "1.92 s ± 8.09 ms per loop (mean ± std. dev. of 7 runs, 1 loop each)\n"
     ]
    }
   ],
   "source": [
    "%%timeit\n",
    "\n",
    "tp_am(lab.unsqueeze(dim=0),lab.unsqueeze(dim=0),bbox)"
   ]
  },
  {
   "cell_type": "code",
   "execution_count": null,
   "metadata": {},
   "outputs": [],
   "source": []
  },
  {
   "cell_type": "code",
   "execution_count": null,
   "metadata": {},
   "outputs": [],
   "source": []
  },
  {
   "cell_type": "code",
   "execution_count": 56,
   "metadata": {},
   "outputs": [
    {
     "name": "stdout",
     "output_type": "stream",
     "text": [
      "tensor([[[45, 42,  0],\n",
      "         [82, 85, 63]]])\n"
     ]
    }
   ],
   "source": [
    "bbox = CAL_WSISDataset.get_bbox_and_collate(target)\n",
    "print(bbox)\n",
    "slice_ = int(0.5*(bbox[0,0][2] + bbox[0,1][2]))\n",
    "line_ = int(0.5*(bbox[0,0][0] + bbox[0,1][0]))"
   ]
  },
  {
   "cell_type": "code",
   "execution_count": 58,
   "metadata": {},
   "outputs": [],
   "source": [
    "line_ = 77"
   ]
  },
  {
   "cell_type": "code",
   "execution_count": 59,
   "metadata": {},
   "outputs": [
    {
     "data": {
      "text/plain": [
       "array([48, 48, 48, 48, 48, 48, 48, 48, 48, 48, 48, 48, 48, 48, 48, 48, 48,\n",
       "       48, 48, 48, 48, 48, 48, 48, 48, 48, 48, 48, 48, 48, 48, 48, 48, 48,\n",
       "       49, 49, 49, 49, 49, 49, 49, 49, 49, 49, 49, 49, 49, 49, 49, 49, 49,\n",
       "       49, 49, 49, 49, 49, 49, 49, 49, 49, 49, 49, 49, 49, 49, 49, 49, 49,\n",
       "       50, 50, 50, 50, 50, 50, 50, 50, 50, 50, 50, 50, 50, 50, 50, 50, 50,\n",
       "       50, 50, 50, 50, 50, 50, 50, 50, 50, 50, 50, 50, 50, 50, 50, 50, 50,\n",
       "       51, 51, 51, 51, 51, 51, 51, 51, 51, 51, 51, 51, 51, 51, 51, 51, 51,\n",
       "       51, 51, 51, 51, 51, 51, 51, 51, 51, 51, 51, 51, 51, 51, 51, 51, 51,\n",
       "       52, 52, 52, 52, 52, 52, 52, 52, 52, 52, 52, 52, 52, 52, 52, 52, 52,\n",
       "       52, 52, 52, 52, 52, 52, 52, 52, 52, 52, 52, 52, 52, 52, 52, 52, 52,\n",
       "       53, 53, 53, 53, 53, 53, 53, 53, 53, 53, 53, 53, 53, 53, 53, 53, 53,\n",
       "       53, 53, 53, 53, 53, 53, 53, 53, 53, 53, 53, 53, 53, 53, 53, 53, 53,\n",
       "       54, 54, 54, 54, 54, 54, 54, 54, 54, 54, 54, 54, 54, 54, 54, 54, 54,\n",
       "       54, 54, 54, 54, 54, 54, 54, 54, 54, 54, 54, 54, 54, 54, 54, 54, 54,\n",
       "       55, 55, 55, 55, 55, 55, 55, 55, 55, 55, 55, 55, 55, 55, 55, 55, 55,\n",
       "       55, 55, 55, 55, 55, 55, 55, 55, 55, 55, 55, 55, 55, 55, 55, 55, 55,\n",
       "       56, 56, 56, 56, 56, 56, 56, 56, 56, 56, 56, 56, 56, 56, 56, 56, 56,\n",
       "       56, 56, 56, 56, 56, 56, 56, 56, 56, 56, 56, 56, 56, 56, 56, 56, 56,\n",
       "       57, 57, 57, 57, 57, 57, 57, 57, 57, 57, 57, 57, 57, 57, 57, 57, 57,\n",
       "       57, 57, 57, 57, 57, 57, 57, 57, 57, 57, 57, 57, 57, 57, 57, 57, 57,\n",
       "       58, 58, 58, 58, 58, 58, 58, 58, 58, 58, 58, 58, 58, 58, 58, 58, 58,\n",
       "       58, 58, 58, 58, 58, 58, 58, 58, 58, 58, 58, 58, 58, 58, 58, 58, 58,\n",
       "       59, 59, 59, 59, 59, 59, 59, 59, 59, 59, 59, 59, 59, 59, 59, 59, 59,\n",
       "       59, 59, 59, 59, 59, 59, 59, 59, 59, 59, 59, 59, 59, 59, 59, 59, 59,\n",
       "       60, 60, 60, 60, 60, 60, 60, 60, 60, 60, 60, 60, 60, 60, 60, 60, 60,\n",
       "       60, 60, 60, 60, 60, 60, 60, 60, 60, 60, 60, 60, 60, 60, 60, 60, 60,\n",
       "       61, 61, 61, 61, 61, 61, 61, 61, 61, 61, 61, 61, 61, 61, 61, 61, 61,\n",
       "       61, 61, 61, 61, 61, 61, 61, 61, 61, 61, 61, 61, 61, 61, 61, 61, 61,\n",
       "       62, 62, 62, 62, 62, 62, 62, 62, 62, 62, 62, 62, 62, 62, 62, 62, 62,\n",
       "       62, 62, 62, 62, 62, 62, 62, 62, 62, 62, 62, 62, 62, 62, 62, 62, 62,\n",
       "       63, 63, 63, 63, 63, 63, 63, 63, 63, 63, 63, 63, 63, 63, 63, 63, 63,\n",
       "       63, 63, 63, 63, 63, 63, 63, 63, 63, 63, 63, 63, 63, 63, 63, 63, 63,\n",
       "       64, 64, 64, 64, 64, 64, 64, 64, 64, 64, 64, 64, 64, 64, 64, 64, 64,\n",
       "       64, 64, 64, 64, 64, 64, 64, 64, 64, 64, 64, 64, 64, 64, 64, 64, 64,\n",
       "       65, 65, 65, 65, 65, 65, 65, 65, 65, 65, 65, 65, 65, 65, 65, 65, 65,\n",
       "       65, 65, 65, 65, 65, 65, 65, 65, 65, 65, 65, 65, 65, 65, 65, 65, 66,\n",
       "       66, 66, 66, 66, 66, 66, 66, 66, 66, 66, 66, 66, 66, 66, 66, 66, 66,\n",
       "       66, 66, 66, 66, 66, 66, 66, 66, 66, 66, 66, 66, 66, 66, 67, 67, 67,\n",
       "       67, 67, 67, 67, 67, 67, 67, 67, 67, 67, 67, 67, 67, 67, 67, 67, 67,\n",
       "       67, 67, 67, 67, 67, 67, 67, 67, 67, 67, 67, 67, 68, 68, 68, 68, 68,\n",
       "       68, 68, 68, 68, 68, 68, 68, 68, 68, 68, 68, 68, 68, 68, 68, 68, 68,\n",
       "       68, 68, 68, 68, 68, 68, 68, 68, 68, 68, 69, 69, 69, 69, 69, 69, 69,\n",
       "       69, 69, 69, 69, 69, 69, 69, 69, 69, 69, 69, 69, 69, 69, 69, 69, 69,\n",
       "       69, 69, 69, 69, 69, 69, 70, 70, 70, 70, 70, 70, 70, 70, 70, 70, 70,\n",
       "       70, 70, 70, 70, 70, 70, 70, 70, 70, 70, 70, 70, 70, 70, 70, 70, 70,\n",
       "       70, 70, 71, 71, 71, 71, 71, 71, 71, 71, 71, 71, 71, 71, 71, 71, 71,\n",
       "       71, 71, 71, 71, 71, 71, 71, 71, 71, 71, 71, 71, 71, 71, 72, 72, 72,\n",
       "       72, 72, 72, 72, 72, 72, 72, 72, 72, 72, 72, 72, 72, 72, 72, 72, 72,\n",
       "       72, 72, 72, 72, 72, 72, 72, 73, 73, 73, 73, 73, 73, 73, 73, 73, 73,\n",
       "       73, 73, 73, 73, 73, 73, 73, 73, 73, 73, 73, 73, 73, 73, 73, 73, 73,\n",
       "       74, 74, 74, 74, 74, 74, 74, 74, 74, 74, 74, 74, 74, 74, 74, 74, 74,\n",
       "       74, 74, 74, 74, 74, 74, 74, 74, 75, 75, 75, 75, 75, 75, 75, 75, 75,\n",
       "       75, 75, 75, 75, 75, 75, 75, 75, 75, 75, 75, 75, 75, 75, 75, 76, 76,\n",
       "       76, 76, 76, 76, 76, 76, 76, 76, 76, 76, 76, 76, 76, 76, 76, 76, 76,\n",
       "       76, 76, 76, 76, 76, 77, 77, 77, 77, 77, 77, 77, 77, 77, 77, 77, 77,\n",
       "       77, 77, 77, 77, 77, 77, 77, 77, 77, 78, 78, 78, 78, 78, 78, 78, 78,\n",
       "       78, 78, 78, 78, 78, 78, 78, 78, 78, 78, 78, 78, 78, 79, 79, 79, 79,\n",
       "       79, 79, 79, 79, 79, 79, 79, 79, 79, 79, 79, 79, 79, 79, 79, 80, 80,\n",
       "       80, 80, 80, 80, 80, 80, 80, 80, 80, 80, 80, 80, 80, 80])"
      ]
     },
     "execution_count": 59,
     "metadata": {},
     "output_type": "execute_result"
    }
   ],
   "source": [
    "np.where(target[0,0,...,slice_] > 0)[0]"
   ]
  },
  {
   "cell_type": "code",
   "execution_count": 62,
   "metadata": {},
   "outputs": [
    {
     "data": {
      "text/plain": [
       "metatensor([0., 0., 0., 0., 0., 0., 0., 0., 0., 0., 0., 0., 0., 0., 0., 0., 0., 0.,\n",
       "        0., 0., 0., 0., 0., 0., 0., 0., 0., 0., 0., 0., 0., 0., 0., 0., 0., 0.,\n",
       "        0., 0., 0., 0., 0., 0., 0., 0., 0., 0., 0., 0., 0., 0., 0., 0., 0., 0.,\n",
       "        0., 0., 0., 1., 1., 1., 1., 1., 1., 1., 1., 1., 1., 1., 1., 1., 1., 1.,\n",
       "        1., 1., 1., 1., 1., 1., 0., 0., 0., 0., 0., 0., 0., 0., 0., 0., 0., 0.,\n",
       "        0., 0., 0., 0., 0., 0., 0., 0., 0., 0., 0., 0., 0., 0., 0., 0., 0., 0.,\n",
       "        0., 0., 0., 0., 0., 0., 0., 0., 0., 0., 0., 0., 0., 0., 0., 0., 0., 0.,\n",
       "        0., 0.])"
      ]
     },
     "execution_count": 62,
     "metadata": {},
     "output_type": "execute_result"
    }
   ],
   "source": [
    "target[0,0,line_,:,slice_]"
   ]
  },
  {
   "cell_type": "code",
   "execution_count": 63,
   "metadata": {},
   "outputs": [
    {
     "data": {
      "text/plain": [
       "metatensor(1.)"
      ]
     },
     "execution_count": 63,
     "metadata": {},
     "output_type": "execute_result"
    }
   ],
   "source": [
    "M = torch.max(pred[0,0,line_,:,slice_])\n",
    "M"
   ]
  },
  {
   "cell_type": "code",
   "execution_count": 65,
   "metadata": {},
   "outputs": [],
   "source": [
    "from torch.nn.functional import relu"
   ]
  },
  {
   "cell_type": "code",
   "execution_count": 66,
   "metadata": {},
   "outputs": [
    {
     "data": {
      "text/plain": [
       "metatensor([1.0000, 1.0000, 1.0000, 1.0000, 1.0000, 1.0000, 1.0000, 1.0000, 1.0000,\n",
       "        1.0000, 1.0000, 1.0000, 1.0000, 1.0000, 1.0000, 1.0000, 1.0000, 1.0000,\n",
       "        1.0000, 1.0000, 1.0000, 1.0000, 1.0000, 1.0000, 1.0000, 1.0000, 1.0000,\n",
       "        1.0000, 1.0000, 1.0000, 1.0000, 1.0000, 1.0000, 1.0000, 1.0000, 1.0000,\n",
       "        1.0000, 1.0000, 1.0000, 1.0000, 1.0000, 1.0000, 1.0000, 1.0000, 1.0000,\n",
       "        1.0000, 1.0000, 1.0000, 1.0000, 1.0000, 1.0000, 1.0000, 1.0000, 1.0000,\n",
       "        1.0000, 1.0000, 1.0000, 0.0000, 0.0000, 0.0000, 0.0000, 0.0000, 0.0000,\n",
       "        0.0000, 0.0000, 0.0000, 0.0000, 0.0000, 0.0000, 0.0000, 0.0000, 0.0000,\n",
       "        0.0000, 0.0000, 0.0000, 0.0000, 0.0000, 0.0000, 1.0000, 1.0000, 1.0000,\n",
       "        1.0000, 1.0000, 1.0000, 1.0000, 1.0000, 1.0000, 1.0000, 1.0000, 1.0000,\n",
       "        1.0000, 1.0000, 1.0000, 1.0000, 1.0000, 1.0000, 1.0000, 1.0000, 1.0000,\n",
       "        1.0000, 1.0000, 1.0000, 1.0000, 1.0000, 1.0000, 1.0000, 1.0000, 1.0000,\n",
       "        1.0000, 1.0000, 1.0000, 1.0000, 1.0000, 1.0000, 1.0000, 1.0000, 1.0000,\n",
       "        1.0000, 1.0000, 1.0000, 1.0000, 1.0000, 1.0000, 1.0000, 1.0000, 1.0000,\n",
       "        1.0000, 1.0000])"
      ]
     },
     "execution_count": 66,
     "metadata": {},
     "output_type": "execute_result"
    }
   ],
   "source": [
    "thresh = relu(pred[0,0,line_,:,slice_] - 0.9*M)/(1-0.9)\n",
    "thresh"
   ]
  },
  {
   "cell_type": "code",
   "execution_count": 67,
   "metadata": {},
   "outputs": [
    {
     "data": {
      "text/plain": [
       "metatensor([1.0000, 1.0000, 1.0000, 1.0000, 1.0000, 1.0000, 1.0000, 1.0000, 1.0000,\n",
       "        1.0000, 1.0000, 1.0000, 1.0000, 1.0000, 1.0000, 1.0000, 1.0000, 1.0000,\n",
       "        1.0000, 1.0000, 1.0000, 1.0000, 1.0000, 1.0000, 1.0000, 1.0000, 1.0000,\n",
       "        1.0000, 1.0000, 1.0000, 1.0000, 1.0000, 1.0000, 1.0000, 1.0000, 1.0000,\n",
       "        1.0000, 1.0000, 1.0000, 1.0000, 1.0000, 1.0000, 1.0000, 1.0000, 1.0000,\n",
       "        1.0000, 1.0000, 1.0000, 1.0000, 1.0000, 1.0000, 1.0000, 1.0000, 1.0000,\n",
       "        1.0000, 1.0000, 1.0000, 0.0000, 0.0000, 0.0000, 0.0000, 0.0000, 0.0000,\n",
       "        0.0000, 0.0000, 0.0000, 0.0000, 0.0000, 0.0000, 0.0000, 0.0000, 0.0000,\n",
       "        0.0000, 0.0000, 0.0000, 0.0000, 0.0000, 0.0000, 1.0000, 1.0000, 1.0000,\n",
       "        1.0000, 1.0000, 1.0000, 1.0000, 1.0000, 1.0000, 1.0000, 1.0000, 1.0000,\n",
       "        1.0000, 1.0000, 1.0000, 1.0000, 1.0000, 1.0000, 1.0000, 1.0000, 1.0000,\n",
       "        1.0000, 1.0000, 1.0000, 1.0000, 1.0000, 1.0000, 1.0000, 1.0000, 1.0000,\n",
       "        1.0000, 1.0000, 1.0000, 1.0000, 1.0000, 1.0000, 1.0000, 1.0000, 1.0000,\n",
       "        1.0000, 1.0000, 1.0000, 1.0000, 1.0000, 1.0000, 1.0000, 1.0000, 1.0000,\n",
       "        1.0000, 1.0000])"
      ]
     },
     "execution_count": 67,
     "metadata": {},
     "output_type": "execute_result"
    }
   ],
   "source": [
    "thresh*(1-target[0,0,line_,:,slice_])"
   ]
  },
  {
   "cell_type": "code",
   "execution_count": null,
   "metadata": {},
   "outputs": [],
   "source": []
  },
  {
   "cell_type": "code",
   "execution_count": 88,
   "metadata": {},
   "outputs": [],
   "source": [
    "w = np.where(target > 0)"
   ]
  },
  {
   "cell_type": "code",
   "execution_count": 92,
   "metadata": {},
   "outputs": [
    {
     "data": {
      "text/plain": [
       "array([ 0,  1,  2, ..., 63, 62, 63])"
      ]
     },
     "execution_count": 92,
     "metadata": {},
     "output_type": "execute_result"
    }
   ],
   "source": [
    "w[4]"
   ]
  },
  {
   "cell_type": "code",
   "execution_count": 94,
   "metadata": {},
   "outputs": [
    {
     "data": {
      "text/plain": [
       "metatensor(1.)"
      ]
     },
     "execution_count": 94,
     "metadata": {},
     "output_type": "execute_result"
    }
   ],
   "source": [
    "target[...,0].max()"
   ]
  },
  {
   "cell_type": "code",
   "execution_count": 125,
   "metadata": {},
   "outputs": [
    {
     "data": {
      "text/plain": [
       "(51, 85, 0, 63)"
      ]
     },
     "execution_count": 125,
     "metadata": {},
     "output_type": "execute_result"
    }
   ],
   "source": [
    "np.where(target[0,0,80,:,:] > 0)[0].min(), np.where(target[0,0,80,:,:] > 0)[0].max(), np.where(target[0,0,80,:,:] > 0)[1].min(), np.where(target[0,0,80,:,:] > 0)[1].max(), "
   ]
  },
  {
   "cell_type": "code",
   "execution_count": 126,
   "metadata": {},
   "outputs": [
    {
     "data": {
      "text/plain": [
       "<matplotlib.image.AxesImage at 0x7f5b869462f0>"
      ]
     },
     "execution_count": 126,
     "metadata": {},
     "output_type": "execute_result"
    },
    {
     "data": {
      "image/png": "[encoded data removed]",
      "text/plain": [
       "<Figure size 640x480 with 1 Axes>"
      ]
     },
     "metadata": {},
     "output_type": "display_data"
    }
   ],
   "source": [
    "plt.imshow(target[0,0,80,:,:])"
   ]
  },
  {
   "cell_type": "code",
   "execution_count": null,
   "metadata": {},
   "outputs": [],
   "source": []
  },
  {
   "cell_type": "code",
   "execution_count": 99,
   "metadata": {},
   "outputs": [
    {
     "data": {
      "text/plain": [
       "array([45, 45, 45, ..., 82, 82, 82])"
      ]
     },
     "execution_count": 99,
     "metadata": {},
     "output_type": "execute_result"
    }
   ],
   "source": [
    "np.where(target[0,0,...] > 0)[0]\n"
   ]
  },
  {
   "cell_type": "code",
   "execution_count": 87,
   "metadata": {},
   "outputs": [
    {
     "name": "stdout",
     "output_type": "stream",
     "text": [
      "tensor([[[45, 42,  0],\n",
      "         [82, 85, 63]]])\n"
     ]
    }
   ],
   "source": [
    "bbox = CAL_WSISDataset.get_bbox_and_collate(target)\n",
    "print(bbox)"
   ]
  },
  {
   "cell_type": "code",
   "execution_count": 111,
   "metadata": {},
   "outputs": [],
   "source": [
    "slice_ = 80\n",
    "line_ = 7"
   ]
  },
  {
   "cell_type": "code",
   "execution_count": 112,
   "metadata": {},
   "outputs": [
    {
     "data": {
      "text/plain": [
       "metatensor(1.)"
      ]
     },
     "execution_count": 112,
     "metadata": {},
     "output_type": "execute_result"
    }
   ],
   "source": [
    "b = 0\n",
    "1 - (pred[b,0,slice_,:,line_]*target[b,0,slice_,:,line_]).sum()"
   ]
  },
  {
   "cell_type": "code",
   "execution_count": 113,
   "metadata": {},
   "outputs": [
    {
     "data": {
      "text/plain": [
       "metatensor([0., 0., 0., 0., 0., 0., 0., 0., 0., 0., 0., 0., 0., 0., 0., 0., 0., 0., 0., 0., 0., 0., 0., 0.,\n",
       "        0., 0., 0., 0., 0., 0., 0., 0., 0., 0., 0., 0., 0., 0., 0., 0., 0., 0., 0., 0., 0., 0., 0., 0.,\n",
       "        0., 0., 0., 0., 0., 0., 0., 0., 0., 0., 0., 0., 0., 0., 0., 0., 0., 0., 0., 0., 0., 0., 0., 0.,\n",
       "        0., 0., 0., 0., 0., 0., 0., 0., 0., 0., 0., 0., 0., 0., 0., 0., 0., 0., 0., 0., 0., 0., 0., 0.,\n",
       "        0., 0., 0., 0., 0., 0., 0., 0., 0., 0., 0., 0., 0., 0., 0., 0., 0., 0., 0., 0., 0., 0., 0., 0.,\n",
       "        0., 0., 0., 0., 0., 0., 0., 0.])"
      ]
     },
     "execution_count": 113,
     "metadata": {},
     "output_type": "execute_result"
    }
   ],
   "source": [
    "pred[b,0,slice_,:,line_]*target[b,0,slice_,:,line_]"
   ]
  },
  {
   "cell_type": "code",
   "execution_count": 122,
   "metadata": {},
   "outputs": [
    {
     "data": {
      "text/plain": [
       "metatensor(1.)"
      ]
     },
     "execution_count": 122,
     "metadata": {},
     "output_type": "execute_result"
    }
   ],
   "source": [
    "target[b,0,slice_,:,:].max()"
   ]
  },
  {
   "cell_type": "code",
   "execution_count": null,
   "metadata": {},
   "outputs": [],
   "source": []
  },
  {
   "cell_type": "code",
   "execution_count": null,
   "metadata": {},
   "outputs": [],
   "source": []
  },
  {
   "cell_type": "code",
   "execution_count": null,
   "metadata": {},
   "outputs": [],
   "source": []
  },
  {
   "cell_type": "code",
   "execution_count": null,
   "metadata": {},
   "outputs": [],
   "source": []
  },
  {
   "cell_type": "code",
   "execution_count": null,
   "metadata": {},
   "outputs": [],
   "source": []
  },
  {
   "cell_type": "code",
   "execution_count": null,
   "metadata": {},
   "outputs": [],
   "source": []
  },
  {
   "cell_type": "code",
   "execution_count": 77,
   "metadata": {},
   "outputs": [
    {
     "data": {
      "text/plain": [
       "metatensor(-3.4657e-10, dtype=torch.float64)"
      ]
     },
     "execution_count": 77,
     "metadata": {},
     "output_type": "execute_result"
    }
   ],
   "source": [
    "Log_barrier_size_constraint_criterion(t=1e+10, mu=1.1).barrier(1 - (pred[b,0,:,line_,slice_]*target[b,0,:,line_,slice_]).sum())"
   ]
  },
  {
   "cell_type": "code",
   "execution_count": 54,
   "metadata": {},
   "outputs": [],
   "source": [
    "pred = 1-lab\n",
    "target = lab"
   ]
  },
  {
   "cell_type": "code",
   "execution_count": 36,
   "metadata": {},
   "outputs": [
    {
     "data": {
      "text/plain": [
       "metatensor([[[[[100., 100., 100.,  ..., 100., 100., 100.],\n",
       "           [100., 100., 100.,  ..., 100., 100., 100.],\n",
       "           [100., 100., 100.,  ..., 100., 100., 100.],\n",
       "           ...,\n",
       "           [100., 100., 100.,  ..., 100., 100., 100.],\n",
       "           [100., 100., 100.,  ..., 100., 100., 100.],\n",
       "           [100., 100., 100.,  ..., 100., 100., 100.]],\n",
       "\n",
       "          [[100., 100., 100.,  ..., 100., 100., 100.],\n",
       "           [100., 100., 100.,  ..., 100., 100., 100.],\n",
       "           [100., 100., 100.,  ..., 100., 100., 100.],\n",
       "           ...,\n",
       "           [100., 100., 100.,  ..., 100., 100., 100.],\n",
       "           [100., 100., 100.,  ..., 100., 100., 100.],\n",
       "           [100., 100., 100.,  ..., 100., 100., 100.]],\n",
       "\n",
       "          [[100., 100., 100.,  ..., 100., 100., 100.],\n",
       "           [100., 100., 100.,  ..., 100., 100., 100.],\n",
       "           [100., 100., 100.,  ..., 100., 100., 100.],\n",
       "           ...,\n",
       "           [100., 100., 100.,  ..., 100., 100., 100.],\n",
       "           [100., 100., 100.,  ..., 100., 100., 100.],\n",
       "           [100., 100., 100.,  ..., 100., 100., 100.]],\n",
       "\n",
       "          ...,\n",
       "\n",
       "          [[100., 100., 100.,  ..., 100., 100., 100.],\n",
       "           [100., 100., 100.,  ..., 100., 100., 100.],\n",
       "           [100., 100., 100.,  ..., 100., 100., 100.],\n",
       "           ...,\n",
       "           [100., 100., 100.,  ..., 100., 100., 100.],\n",
       "           [100., 100., 100.,  ..., 100., 100., 100.],\n",
       "           [100., 100., 100.,  ..., 100., 100., 100.]],\n",
       "\n",
       "          [[100., 100., 100.,  ..., 100., 100., 100.],\n",
       "           [100., 100., 100.,  ..., 100., 100., 100.],\n",
       "           [100., 100., 100.,  ..., 100., 100., 100.],\n",
       "           ...,\n",
       "           [100., 100., 100.,  ..., 100., 100., 100.],\n",
       "           [100., 100., 100.,  ..., 100., 100., 100.],\n",
       "           [100., 100., 100.,  ..., 100., 100., 100.]],\n",
       "\n",
       "          [[100., 100., 100.,  ..., 100., 100., 100.],\n",
       "           [100., 100., 100.,  ..., 100., 100., 100.],\n",
       "           [100., 100., 100.,  ..., 100., 100., 100.],\n",
       "           ...,\n",
       "           [100., 100., 100.,  ..., 100., 100., 100.],\n",
       "           [100., 100., 100.,  ..., 100., 100., 100.],\n",
       "           [100., 100., 100.,  ..., 100., 100., 100.]]]]])"
      ]
     },
     "execution_count": 36,
     "metadata": {},
     "output_type": "execute_result"
    }
   ],
   "source": [
    "loss = BCELoss(reduction='none')(pred, target)\n",
    "loss"
   ]
  },
  {
   "cell_type": "code",
   "execution_count": null,
   "metadata": {},
   "outputs": [],
   "source": [
    "loss = loss*(1-target)\n",
    "loss\n"
   ]
  },
  {
   "cell_type": "code",
   "execution_count": null,
   "metadata": {},
   "outputs": [],
   "source": [
    "loss = loss/(1-target).sum(axis=(2,3,4))[...,None,None,None]\n",
    "return loss.sum(axis=(1,2,3,4))"
   ]
  },
  {
   "cell_type": "code",
   "execution_count": null,
   "metadata": {},
   "outputs": [],
   "source": []
  }
 ],
 "metadata": {
  "kernelspec": {
   "display_name": ".venv",
   "language": "python",
   "name": "python3"
  },
  "language_info": {
   "codemirror_mode": {
    "name": "ipython",
    "version": 3
   },
   "file_extension": ".py",
   "mimetype": "text/x-python",
   "name": "python",
   "nbconvert_exporter": "python",
   "pygments_lexer": "ipython3",
   "version": "3.10.14"
  }
 },
 "nbformat": 4,
 "nbformat_minor": 2
}
